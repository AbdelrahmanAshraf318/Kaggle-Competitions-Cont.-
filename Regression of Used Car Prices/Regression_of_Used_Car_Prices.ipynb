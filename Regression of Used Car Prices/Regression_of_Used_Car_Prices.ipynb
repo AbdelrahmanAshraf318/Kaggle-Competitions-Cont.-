{
  "cells": [
    {
      "cell_type": "code",
      "execution_count": null,
      "metadata": {
        "id": "D0GCC4CTjXVj"
      },
      "outputs": [],
      "source": [
        "import pandas as pd\n",
        "import numpy as np\n",
        "import matplotlib.pylab as plt\n",
        "import seaborn as sns\n",
        "plt.style.use('ggplot')\n",
        "pd.set_option('display.max_columns', 200)\n",
        "#pd.set_option('display.max_rows', 200)\n",
        "import warnings\n",
        "warnings.filterwarnings('ignore')"
      ]
    },
    {
      "cell_type": "markdown",
      "metadata": {
        "id": "g7mvbFP-lrgr"
      },
      "source": [
        "#### Read train & test datasets"
      ]
    },
    {
      "cell_type": "code",
      "execution_count": null,
      "metadata": {
        "id": "zt1hHdfwlFdb"
      },
      "outputs": [],
      "source": [
        "train_dataset = pd.read_csv(\"/content/drive/MyDrive/Used Car Prices Dataset/train.csv\", index_col='id')\n",
        "test_dataset = pd.read_csv(\"/content/drive/MyDrive/Used Car Prices Dataset/test.csv\", index_col='id')"
      ]
    },
    {
      "cell_type": "markdown",
      "metadata": {
        "id": "V4aF587pmlHe"
      },
      "source": [
        "# Exploratory Data Analysis (EDA)"
      ]
    },
    {
      "cell_type": "markdown",
      "metadata": {
        "id": "4ntNvRRHmozE"
      },
      "source": [
        "#### Step-1: Data Understanding\n",
        "\n",
        "\n",
        "*   DataFrame shape\n",
        "*   Head and Tail\n",
        "\n",
        "\n",
        "*   dtypes\n",
        "*   describe\n",
        "\n"
      ]
    },
    {
      "cell_type": "code",
      "execution_count": null,
      "metadata": {
        "colab": {
          "base_uri": "https://localhost:8080/",
          "height": 709
        },
        "id": "WD8DJnLrlzZC",
        "outputId": "db51f2ae-9dbd-4450-b0ae-2f7888f8a08f"
      },
      "outputs": [
        {
          "output_type": "execute_result",
          "data": {
            "text/plain": [
              "            brand              model  model_year  milage      fuel_type  \\\n",
              "id                                                                        \n",
              "0            MINI      Cooper S Base        2007  213000       Gasoline   \n",
              "1         Lincoln              LS V8        2002  143250       Gasoline   \n",
              "2       Chevrolet  Silverado 2500 LT        2002  136731  E85 Flex Fuel   \n",
              "3         Genesis   G90 5.0 Ultimate        2017   19500       Gasoline   \n",
              "4   Mercedes-Benz        Metris Base        2021    7388       Gasoline   \n",
              "\n",
              "                                               engine  \\\n",
              "id                                                      \n",
              "0        172.0HP 1.6L 4 Cylinder Engine Gasoline Fuel   \n",
              "1        252.0HP 3.9L 8 Cylinder Engine Gasoline Fuel   \n",
              "2   320.0HP 5.3L 8 Cylinder Engine Flex Fuel Capab...   \n",
              "3        420.0HP 5.0L 8 Cylinder Engine Gasoline Fuel   \n",
              "4        208.0HP 2.0L 4 Cylinder Engine Gasoline Fuel   \n",
              "\n",
              "                      transmission ext_col int_col  \\\n",
              "id                                                   \n",
              "0                              A/T  Yellow    Gray   \n",
              "1                              A/T  Silver   Beige   \n",
              "2                              A/T    Blue    Gray   \n",
              "3   Transmission w/Dual Shift Mode   Black   Black   \n",
              "4                      7-Speed A/T   Black   Beige   \n",
              "\n",
              "                                  accident clean_title  price  \n",
              "id                                                             \n",
              "0                            None reported         Yes   4200  \n",
              "1   At least 1 accident or damage reported         Yes   4999  \n",
              "2                            None reported         Yes  13900  \n",
              "3                            None reported         Yes  45000  \n",
              "4                            None reported         Yes  97500  "
            ],
            "text/html": [
              "\n",
              "  <div id=\"df-68936f2c-18ff-485c-8b29-aa9edf9c0dfa\" class=\"colab-df-container\">\n",
              "    <div>\n",
              "<style scoped>\n",
              "    .dataframe tbody tr th:only-of-type {\n",
              "        vertical-align: middle;\n",
              "    }\n",
              "\n",
              "    .dataframe tbody tr th {\n",
              "        vertical-align: top;\n",
              "    }\n",
              "\n",
              "    .dataframe thead th {\n",
              "        text-align: right;\n",
              "    }\n",
              "</style>\n",
              "<table border=\"1\" class=\"dataframe\">\n",
              "  <thead>\n",
              "    <tr style=\"text-align: right;\">\n",
              "      <th></th>\n",
              "      <th>brand</th>\n",
              "      <th>model</th>\n",
              "      <th>model_year</th>\n",
              "      <th>milage</th>\n",
              "      <th>fuel_type</th>\n",
              "      <th>engine</th>\n",
              "      <th>transmission</th>\n",
              "      <th>ext_col</th>\n",
              "      <th>int_col</th>\n",
              "      <th>accident</th>\n",
              "      <th>clean_title</th>\n",
              "      <th>price</th>\n",
              "    </tr>\n",
              "    <tr>\n",
              "      <th>id</th>\n",
              "      <th></th>\n",
              "      <th></th>\n",
              "      <th></th>\n",
              "      <th></th>\n",
              "      <th></th>\n",
              "      <th></th>\n",
              "      <th></th>\n",
              "      <th></th>\n",
              "      <th></th>\n",
              "      <th></th>\n",
              "      <th></th>\n",
              "      <th></th>\n",
              "    </tr>\n",
              "  </thead>\n",
              "  <tbody>\n",
              "    <tr>\n",
              "      <th>0</th>\n",
              "      <td>MINI</td>\n",
              "      <td>Cooper S Base</td>\n",
              "      <td>2007</td>\n",
              "      <td>213000</td>\n",
              "      <td>Gasoline</td>\n",
              "      <td>172.0HP 1.6L 4 Cylinder Engine Gasoline Fuel</td>\n",
              "      <td>A/T</td>\n",
              "      <td>Yellow</td>\n",
              "      <td>Gray</td>\n",
              "      <td>None reported</td>\n",
              "      <td>Yes</td>\n",
              "      <td>4200</td>\n",
              "    </tr>\n",
              "    <tr>\n",
              "      <th>1</th>\n",
              "      <td>Lincoln</td>\n",
              "      <td>LS V8</td>\n",
              "      <td>2002</td>\n",
              "      <td>143250</td>\n",
              "      <td>Gasoline</td>\n",
              "      <td>252.0HP 3.9L 8 Cylinder Engine Gasoline Fuel</td>\n",
              "      <td>A/T</td>\n",
              "      <td>Silver</td>\n",
              "      <td>Beige</td>\n",
              "      <td>At least 1 accident or damage reported</td>\n",
              "      <td>Yes</td>\n",
              "      <td>4999</td>\n",
              "    </tr>\n",
              "    <tr>\n",
              "      <th>2</th>\n",
              "      <td>Chevrolet</td>\n",
              "      <td>Silverado 2500 LT</td>\n",
              "      <td>2002</td>\n",
              "      <td>136731</td>\n",
              "      <td>E85 Flex Fuel</td>\n",
              "      <td>320.0HP 5.3L 8 Cylinder Engine Flex Fuel Capab...</td>\n",
              "      <td>A/T</td>\n",
              "      <td>Blue</td>\n",
              "      <td>Gray</td>\n",
              "      <td>None reported</td>\n",
              "      <td>Yes</td>\n",
              "      <td>13900</td>\n",
              "    </tr>\n",
              "    <tr>\n",
              "      <th>3</th>\n",
              "      <td>Genesis</td>\n",
              "      <td>G90 5.0 Ultimate</td>\n",
              "      <td>2017</td>\n",
              "      <td>19500</td>\n",
              "      <td>Gasoline</td>\n",
              "      <td>420.0HP 5.0L 8 Cylinder Engine Gasoline Fuel</td>\n",
              "      <td>Transmission w/Dual Shift Mode</td>\n",
              "      <td>Black</td>\n",
              "      <td>Black</td>\n",
              "      <td>None reported</td>\n",
              "      <td>Yes</td>\n",
              "      <td>45000</td>\n",
              "    </tr>\n",
              "    <tr>\n",
              "      <th>4</th>\n",
              "      <td>Mercedes-Benz</td>\n",
              "      <td>Metris Base</td>\n",
              "      <td>2021</td>\n",
              "      <td>7388</td>\n",
              "      <td>Gasoline</td>\n",
              "      <td>208.0HP 2.0L 4 Cylinder Engine Gasoline Fuel</td>\n",
              "      <td>7-Speed A/T</td>\n",
              "      <td>Black</td>\n",
              "      <td>Beige</td>\n",
              "      <td>None reported</td>\n",
              "      <td>Yes</td>\n",
              "      <td>97500</td>\n",
              "    </tr>\n",
              "  </tbody>\n",
              "</table>\n",
              "</div>\n",
              "    <div class=\"colab-df-buttons\">\n",
              "\n",
              "  <div class=\"colab-df-container\">\n",
              "    <button class=\"colab-df-convert\" onclick=\"convertToInteractive('df-68936f2c-18ff-485c-8b29-aa9edf9c0dfa')\"\n",
              "            title=\"Convert this dataframe to an interactive table.\"\n",
              "            style=\"display:none;\">\n",
              "\n",
              "  <svg xmlns=\"http://www.w3.org/2000/svg\" height=\"24px\" viewBox=\"0 -960 960 960\">\n",
              "    <path d=\"M120-120v-720h720v720H120Zm60-500h600v-160H180v160Zm220 220h160v-160H400v160Zm0 220h160v-160H400v160ZM180-400h160v-160H180v160Zm440 0h160v-160H620v160ZM180-180h160v-160H180v160Zm440 0h160v-160H620v160Z\"/>\n",
              "  </svg>\n",
              "    </button>\n",
              "\n",
              "  <style>\n",
              "    .colab-df-container {\n",
              "      display:flex;\n",
              "      gap: 12px;\n",
              "    }\n",
              "\n",
              "    .colab-df-convert {\n",
              "      background-color: #E8F0FE;\n",
              "      border: none;\n",
              "      border-radius: 50%;\n",
              "      cursor: pointer;\n",
              "      display: none;\n",
              "      fill: #1967D2;\n",
              "      height: 32px;\n",
              "      padding: 0 0 0 0;\n",
              "      width: 32px;\n",
              "    }\n",
              "\n",
              "    .colab-df-convert:hover {\n",
              "      background-color: #E2EBFA;\n",
              "      box-shadow: 0px 1px 2px rgba(60, 64, 67, 0.3), 0px 1px 3px 1px rgba(60, 64, 67, 0.15);\n",
              "      fill: #174EA6;\n",
              "    }\n",
              "\n",
              "    .colab-df-buttons div {\n",
              "      margin-bottom: 4px;\n",
              "    }\n",
              "\n",
              "    [theme=dark] .colab-df-convert {\n",
              "      background-color: #3B4455;\n",
              "      fill: #D2E3FC;\n",
              "    }\n",
              "\n",
              "    [theme=dark] .colab-df-convert:hover {\n",
              "      background-color: #434B5C;\n",
              "      box-shadow: 0px 1px 3px 1px rgba(0, 0, 0, 0.15);\n",
              "      filter: drop-shadow(0px 1px 2px rgba(0, 0, 0, 0.3));\n",
              "      fill: #FFFFFF;\n",
              "    }\n",
              "  </style>\n",
              "\n",
              "    <script>\n",
              "      const buttonEl =\n",
              "        document.querySelector('#df-68936f2c-18ff-485c-8b29-aa9edf9c0dfa button.colab-df-convert');\n",
              "      buttonEl.style.display =\n",
              "        google.colab.kernel.accessAllowed ? 'block' : 'none';\n",
              "\n",
              "      async function convertToInteractive(key) {\n",
              "        const element = document.querySelector('#df-68936f2c-18ff-485c-8b29-aa9edf9c0dfa');\n",
              "        const dataTable =\n",
              "          await google.colab.kernel.invokeFunction('convertToInteractive',\n",
              "                                                    [key], {});\n",
              "        if (!dataTable) return;\n",
              "\n",
              "        const docLinkHtml = 'Like what you see? Visit the ' +\n",
              "          '<a target=\"_blank\" href=https://colab.research.google.com/notebooks/data_table.ipynb>data table notebook</a>'\n",
              "          + ' to learn more about interactive tables.';\n",
              "        element.innerHTML = '';\n",
              "        dataTable['output_type'] = 'display_data';\n",
              "        await google.colab.output.renderOutput(dataTable, element);\n",
              "        const docLink = document.createElement('div');\n",
              "        docLink.innerHTML = docLinkHtml;\n",
              "        element.appendChild(docLink);\n",
              "      }\n",
              "    </script>\n",
              "  </div>\n",
              "\n",
              "\n",
              "<div id=\"df-478ff427-9c2f-40ef-87af-0cfad36e0229\">\n",
              "  <button class=\"colab-df-quickchart\" onclick=\"quickchart('df-478ff427-9c2f-40ef-87af-0cfad36e0229')\"\n",
              "            title=\"Suggest charts\"\n",
              "            style=\"display:none;\">\n",
              "\n",
              "<svg xmlns=\"http://www.w3.org/2000/svg\" height=\"24px\"viewBox=\"0 0 24 24\"\n",
              "     width=\"24px\">\n",
              "    <g>\n",
              "        <path d=\"M19 3H5c-1.1 0-2 .9-2 2v14c0 1.1.9 2 2 2h14c1.1 0 2-.9 2-2V5c0-1.1-.9-2-2-2zM9 17H7v-7h2v7zm4 0h-2V7h2v10zm4 0h-2v-4h2v4z\"/>\n",
              "    </g>\n",
              "</svg>\n",
              "  </button>\n",
              "\n",
              "<style>\n",
              "  .colab-df-quickchart {\n",
              "      --bg-color: #E8F0FE;\n",
              "      --fill-color: #1967D2;\n",
              "      --hover-bg-color: #E2EBFA;\n",
              "      --hover-fill-color: #174EA6;\n",
              "      --disabled-fill-color: #AAA;\n",
              "      --disabled-bg-color: #DDD;\n",
              "  }\n",
              "\n",
              "  [theme=dark] .colab-df-quickchart {\n",
              "      --bg-color: #3B4455;\n",
              "      --fill-color: #D2E3FC;\n",
              "      --hover-bg-color: #434B5C;\n",
              "      --hover-fill-color: #FFFFFF;\n",
              "      --disabled-bg-color: #3B4455;\n",
              "      --disabled-fill-color: #666;\n",
              "  }\n",
              "\n",
              "  .colab-df-quickchart {\n",
              "    background-color: var(--bg-color);\n",
              "    border: none;\n",
              "    border-radius: 50%;\n",
              "    cursor: pointer;\n",
              "    display: none;\n",
              "    fill: var(--fill-color);\n",
              "    height: 32px;\n",
              "    padding: 0;\n",
              "    width: 32px;\n",
              "  }\n",
              "\n",
              "  .colab-df-quickchart:hover {\n",
              "    background-color: var(--hover-bg-color);\n",
              "    box-shadow: 0 1px 2px rgba(60, 64, 67, 0.3), 0 1px 3px 1px rgba(60, 64, 67, 0.15);\n",
              "    fill: var(--button-hover-fill-color);\n",
              "  }\n",
              "\n",
              "  .colab-df-quickchart-complete:disabled,\n",
              "  .colab-df-quickchart-complete:disabled:hover {\n",
              "    background-color: var(--disabled-bg-color);\n",
              "    fill: var(--disabled-fill-color);\n",
              "    box-shadow: none;\n",
              "  }\n",
              "\n",
              "  .colab-df-spinner {\n",
              "    border: 2px solid var(--fill-color);\n",
              "    border-color: transparent;\n",
              "    border-bottom-color: var(--fill-color);\n",
              "    animation:\n",
              "      spin 1s steps(1) infinite;\n",
              "  }\n",
              "\n",
              "  @keyframes spin {\n",
              "    0% {\n",
              "      border-color: transparent;\n",
              "      border-bottom-color: var(--fill-color);\n",
              "      border-left-color: var(--fill-color);\n",
              "    }\n",
              "    20% {\n",
              "      border-color: transparent;\n",
              "      border-left-color: var(--fill-color);\n",
              "      border-top-color: var(--fill-color);\n",
              "    }\n",
              "    30% {\n",
              "      border-color: transparent;\n",
              "      border-left-color: var(--fill-color);\n",
              "      border-top-color: var(--fill-color);\n",
              "      border-right-color: var(--fill-color);\n",
              "    }\n",
              "    40% {\n",
              "      border-color: transparent;\n",
              "      border-right-color: var(--fill-color);\n",
              "      border-top-color: var(--fill-color);\n",
              "    }\n",
              "    60% {\n",
              "      border-color: transparent;\n",
              "      border-right-color: var(--fill-color);\n",
              "    }\n",
              "    80% {\n",
              "      border-color: transparent;\n",
              "      border-right-color: var(--fill-color);\n",
              "      border-bottom-color: var(--fill-color);\n",
              "    }\n",
              "    90% {\n",
              "      border-color: transparent;\n",
              "      border-bottom-color: var(--fill-color);\n",
              "    }\n",
              "  }\n",
              "</style>\n",
              "\n",
              "  <script>\n",
              "    async function quickchart(key) {\n",
              "      const quickchartButtonEl =\n",
              "        document.querySelector('#' + key + ' button');\n",
              "      quickchartButtonEl.disabled = true;  // To prevent multiple clicks.\n",
              "      quickchartButtonEl.classList.add('colab-df-spinner');\n",
              "      try {\n",
              "        const charts = await google.colab.kernel.invokeFunction(\n",
              "            'suggestCharts', [key], {});\n",
              "      } catch (error) {\n",
              "        console.error('Error during call to suggestCharts:', error);\n",
              "      }\n",
              "      quickchartButtonEl.classList.remove('colab-df-spinner');\n",
              "      quickchartButtonEl.classList.add('colab-df-quickchart-complete');\n",
              "    }\n",
              "    (() => {\n",
              "      let quickchartButtonEl =\n",
              "        document.querySelector('#df-478ff427-9c2f-40ef-87af-0cfad36e0229 button');\n",
              "      quickchartButtonEl.style.display =\n",
              "        google.colab.kernel.accessAllowed ? 'block' : 'none';\n",
              "    })();\n",
              "  </script>\n",
              "</div>\n",
              "\n",
              "    </div>\n",
              "  </div>\n"
            ],
            "application/vnd.google.colaboratory.intrinsic+json": {
              "type": "dataframe",
              "variable_name": "train_dataset"
            }
          },
          "metadata": {},
          "execution_count": 3
        }
      ],
      "source": [
        "train_dataset.head()"
      ]
    },
    {
      "cell_type": "code",
      "execution_count": null,
      "metadata": {
        "colab": {
          "base_uri": "https://localhost:8080/"
        },
        "id": "T4UJP-qAl1fF",
        "outputId": "caa8cb48-f933-4cca-a2f4-ded43988ce10"
      },
      "outputs": [
        {
          "output_type": "execute_result",
          "data": {
            "text/plain": [
              "(188533, 12)"
            ]
          },
          "metadata": {},
          "execution_count": 4
        }
      ],
      "source": [
        "train_dataset.shape"
      ]
    },
    {
      "cell_type": "code",
      "execution_count": null,
      "metadata": {
        "colab": {
          "base_uri": "https://localhost:8080/"
        },
        "id": "PaT3T-vil7N5",
        "outputId": "3e20a4ee-7f57-4368-9397-a024133c46db"
      },
      "outputs": [
        {
          "output_type": "stream",
          "name": "stdout",
          "text": [
            "<class 'pandas.core.frame.DataFrame'>\n",
            "Index: 188533 entries, 0 to 188532\n",
            "Data columns (total 12 columns):\n",
            " #   Column        Non-Null Count   Dtype \n",
            "---  ------        --------------   ----- \n",
            " 0   brand         188533 non-null  object\n",
            " 1   model         188533 non-null  object\n",
            " 2   model_year    188533 non-null  int64 \n",
            " 3   milage        188533 non-null  int64 \n",
            " 4   fuel_type     183450 non-null  object\n",
            " 5   engine        188533 non-null  object\n",
            " 6   transmission  188533 non-null  object\n",
            " 7   ext_col       188533 non-null  object\n",
            " 8   int_col       188533 non-null  object\n",
            " 9   accident      186081 non-null  object\n",
            " 10  clean_title   167114 non-null  object\n",
            " 11  price         188533 non-null  int64 \n",
            "dtypes: int64(3), object(9)\n",
            "memory usage: 18.7+ MB\n"
          ]
        }
      ],
      "source": [
        "train_dataset.info()"
      ]
    },
    {
      "cell_type": "code",
      "execution_count": null,
      "metadata": {
        "colab": {
          "base_uri": "https://localhost:8080/",
          "height": 300
        },
        "id": "4XKeXorHmMRr",
        "outputId": "41c6861e-f439-49aa-b6d6-c415bd11fa10"
      },
      "outputs": [
        {
          "output_type": "execute_result",
          "data": {
            "text/plain": [
              "          model_year         milage         price\n",
              "count  188533.000000  188533.000000  1.885330e+05\n",
              "mean     2015.829998   65705.295174  4.387802e+04\n",
              "std         5.660967   49798.158076  7.881952e+04\n",
              "min      1974.000000     100.000000  2.000000e+03\n",
              "25%      2013.000000   24115.000000  1.700000e+04\n",
              "50%      2017.000000   57785.000000  3.082500e+04\n",
              "75%      2020.000000   95400.000000  4.990000e+04\n",
              "max      2024.000000  405000.000000  2.954083e+06"
            ],
            "text/html": [
              "\n",
              "  <div id=\"df-9ea7aab6-f619-4cf9-8786-de313fdd9e1b\" class=\"colab-df-container\">\n",
              "    <div>\n",
              "<style scoped>\n",
              "    .dataframe tbody tr th:only-of-type {\n",
              "        vertical-align: middle;\n",
              "    }\n",
              "\n",
              "    .dataframe tbody tr th {\n",
              "        vertical-align: top;\n",
              "    }\n",
              "\n",
              "    .dataframe thead th {\n",
              "        text-align: right;\n",
              "    }\n",
              "</style>\n",
              "<table border=\"1\" class=\"dataframe\">\n",
              "  <thead>\n",
              "    <tr style=\"text-align: right;\">\n",
              "      <th></th>\n",
              "      <th>model_year</th>\n",
              "      <th>milage</th>\n",
              "      <th>price</th>\n",
              "    </tr>\n",
              "  </thead>\n",
              "  <tbody>\n",
              "    <tr>\n",
              "      <th>count</th>\n",
              "      <td>188533.000000</td>\n",
              "      <td>188533.000000</td>\n",
              "      <td>1.885330e+05</td>\n",
              "    </tr>\n",
              "    <tr>\n",
              "      <th>mean</th>\n",
              "      <td>2015.829998</td>\n",
              "      <td>65705.295174</td>\n",
              "      <td>4.387802e+04</td>\n",
              "    </tr>\n",
              "    <tr>\n",
              "      <th>std</th>\n",
              "      <td>5.660967</td>\n",
              "      <td>49798.158076</td>\n",
              "      <td>7.881952e+04</td>\n",
              "    </tr>\n",
              "    <tr>\n",
              "      <th>min</th>\n",
              "      <td>1974.000000</td>\n",
              "      <td>100.000000</td>\n",
              "      <td>2.000000e+03</td>\n",
              "    </tr>\n",
              "    <tr>\n",
              "      <th>25%</th>\n",
              "      <td>2013.000000</td>\n",
              "      <td>24115.000000</td>\n",
              "      <td>1.700000e+04</td>\n",
              "    </tr>\n",
              "    <tr>\n",
              "      <th>50%</th>\n",
              "      <td>2017.000000</td>\n",
              "      <td>57785.000000</td>\n",
              "      <td>3.082500e+04</td>\n",
              "    </tr>\n",
              "    <tr>\n",
              "      <th>75%</th>\n",
              "      <td>2020.000000</td>\n",
              "      <td>95400.000000</td>\n",
              "      <td>4.990000e+04</td>\n",
              "    </tr>\n",
              "    <tr>\n",
              "      <th>max</th>\n",
              "      <td>2024.000000</td>\n",
              "      <td>405000.000000</td>\n",
              "      <td>2.954083e+06</td>\n",
              "    </tr>\n",
              "  </tbody>\n",
              "</table>\n",
              "</div>\n",
              "    <div class=\"colab-df-buttons\">\n",
              "\n",
              "  <div class=\"colab-df-container\">\n",
              "    <button class=\"colab-df-convert\" onclick=\"convertToInteractive('df-9ea7aab6-f619-4cf9-8786-de313fdd9e1b')\"\n",
              "            title=\"Convert this dataframe to an interactive table.\"\n",
              "            style=\"display:none;\">\n",
              "\n",
              "  <svg xmlns=\"http://www.w3.org/2000/svg\" height=\"24px\" viewBox=\"0 -960 960 960\">\n",
              "    <path d=\"M120-120v-720h720v720H120Zm60-500h600v-160H180v160Zm220 220h160v-160H400v160Zm0 220h160v-160H400v160ZM180-400h160v-160H180v160Zm440 0h160v-160H620v160ZM180-180h160v-160H180v160Zm440 0h160v-160H620v160Z\"/>\n",
              "  </svg>\n",
              "    </button>\n",
              "\n",
              "  <style>\n",
              "    .colab-df-container {\n",
              "      display:flex;\n",
              "      gap: 12px;\n",
              "    }\n",
              "\n",
              "    .colab-df-convert {\n",
              "      background-color: #E8F0FE;\n",
              "      border: none;\n",
              "      border-radius: 50%;\n",
              "      cursor: pointer;\n",
              "      display: none;\n",
              "      fill: #1967D2;\n",
              "      height: 32px;\n",
              "      padding: 0 0 0 0;\n",
              "      width: 32px;\n",
              "    }\n",
              "\n",
              "    .colab-df-convert:hover {\n",
              "      background-color: #E2EBFA;\n",
              "      box-shadow: 0px 1px 2px rgba(60, 64, 67, 0.3), 0px 1px 3px 1px rgba(60, 64, 67, 0.15);\n",
              "      fill: #174EA6;\n",
              "    }\n",
              "\n",
              "    .colab-df-buttons div {\n",
              "      margin-bottom: 4px;\n",
              "    }\n",
              "\n",
              "    [theme=dark] .colab-df-convert {\n",
              "      background-color: #3B4455;\n",
              "      fill: #D2E3FC;\n",
              "    }\n",
              "\n",
              "    [theme=dark] .colab-df-convert:hover {\n",
              "      background-color: #434B5C;\n",
              "      box-shadow: 0px 1px 3px 1px rgba(0, 0, 0, 0.15);\n",
              "      filter: drop-shadow(0px 1px 2px rgba(0, 0, 0, 0.3));\n",
              "      fill: #FFFFFF;\n",
              "    }\n",
              "  </style>\n",
              "\n",
              "    <script>\n",
              "      const buttonEl =\n",
              "        document.querySelector('#df-9ea7aab6-f619-4cf9-8786-de313fdd9e1b button.colab-df-convert');\n",
              "      buttonEl.style.display =\n",
              "        google.colab.kernel.accessAllowed ? 'block' : 'none';\n",
              "\n",
              "      async function convertToInteractive(key) {\n",
              "        const element = document.querySelector('#df-9ea7aab6-f619-4cf9-8786-de313fdd9e1b');\n",
              "        const dataTable =\n",
              "          await google.colab.kernel.invokeFunction('convertToInteractive',\n",
              "                                                    [key], {});\n",
              "        if (!dataTable) return;\n",
              "\n",
              "        const docLinkHtml = 'Like what you see? Visit the ' +\n",
              "          '<a target=\"_blank\" href=https://colab.research.google.com/notebooks/data_table.ipynb>data table notebook</a>'\n",
              "          + ' to learn more about interactive tables.';\n",
              "        element.innerHTML = '';\n",
              "        dataTable['output_type'] = 'display_data';\n",
              "        await google.colab.output.renderOutput(dataTable, element);\n",
              "        const docLink = document.createElement('div');\n",
              "        docLink.innerHTML = docLinkHtml;\n",
              "        element.appendChild(docLink);\n",
              "      }\n",
              "    </script>\n",
              "  </div>\n",
              "\n",
              "\n",
              "<div id=\"df-99246198-5698-4720-8022-7ef56648ba77\">\n",
              "  <button class=\"colab-df-quickchart\" onclick=\"quickchart('df-99246198-5698-4720-8022-7ef56648ba77')\"\n",
              "            title=\"Suggest charts\"\n",
              "            style=\"display:none;\">\n",
              "\n",
              "<svg xmlns=\"http://www.w3.org/2000/svg\" height=\"24px\"viewBox=\"0 0 24 24\"\n",
              "     width=\"24px\">\n",
              "    <g>\n",
              "        <path d=\"M19 3H5c-1.1 0-2 .9-2 2v14c0 1.1.9 2 2 2h14c1.1 0 2-.9 2-2V5c0-1.1-.9-2-2-2zM9 17H7v-7h2v7zm4 0h-2V7h2v10zm4 0h-2v-4h2v4z\"/>\n",
              "    </g>\n",
              "</svg>\n",
              "  </button>\n",
              "\n",
              "<style>\n",
              "  .colab-df-quickchart {\n",
              "      --bg-color: #E8F0FE;\n",
              "      --fill-color: #1967D2;\n",
              "      --hover-bg-color: #E2EBFA;\n",
              "      --hover-fill-color: #174EA6;\n",
              "      --disabled-fill-color: #AAA;\n",
              "      --disabled-bg-color: #DDD;\n",
              "  }\n",
              "\n",
              "  [theme=dark] .colab-df-quickchart {\n",
              "      --bg-color: #3B4455;\n",
              "      --fill-color: #D2E3FC;\n",
              "      --hover-bg-color: #434B5C;\n",
              "      --hover-fill-color: #FFFFFF;\n",
              "      --disabled-bg-color: #3B4455;\n",
              "      --disabled-fill-color: #666;\n",
              "  }\n",
              "\n",
              "  .colab-df-quickchart {\n",
              "    background-color: var(--bg-color);\n",
              "    border: none;\n",
              "    border-radius: 50%;\n",
              "    cursor: pointer;\n",
              "    display: none;\n",
              "    fill: var(--fill-color);\n",
              "    height: 32px;\n",
              "    padding: 0;\n",
              "    width: 32px;\n",
              "  }\n",
              "\n",
              "  .colab-df-quickchart:hover {\n",
              "    background-color: var(--hover-bg-color);\n",
              "    box-shadow: 0 1px 2px rgba(60, 64, 67, 0.3), 0 1px 3px 1px rgba(60, 64, 67, 0.15);\n",
              "    fill: var(--button-hover-fill-color);\n",
              "  }\n",
              "\n",
              "  .colab-df-quickchart-complete:disabled,\n",
              "  .colab-df-quickchart-complete:disabled:hover {\n",
              "    background-color: var(--disabled-bg-color);\n",
              "    fill: var(--disabled-fill-color);\n",
              "    box-shadow: none;\n",
              "  }\n",
              "\n",
              "  .colab-df-spinner {\n",
              "    border: 2px solid var(--fill-color);\n",
              "    border-color: transparent;\n",
              "    border-bottom-color: var(--fill-color);\n",
              "    animation:\n",
              "      spin 1s steps(1) infinite;\n",
              "  }\n",
              "\n",
              "  @keyframes spin {\n",
              "    0% {\n",
              "      border-color: transparent;\n",
              "      border-bottom-color: var(--fill-color);\n",
              "      border-left-color: var(--fill-color);\n",
              "    }\n",
              "    20% {\n",
              "      border-color: transparent;\n",
              "      border-left-color: var(--fill-color);\n",
              "      border-top-color: var(--fill-color);\n",
              "    }\n",
              "    30% {\n",
              "      border-color: transparent;\n",
              "      border-left-color: var(--fill-color);\n",
              "      border-top-color: var(--fill-color);\n",
              "      border-right-color: var(--fill-color);\n",
              "    }\n",
              "    40% {\n",
              "      border-color: transparent;\n",
              "      border-right-color: var(--fill-color);\n",
              "      border-top-color: var(--fill-color);\n",
              "    }\n",
              "    60% {\n",
              "      border-color: transparent;\n",
              "      border-right-color: var(--fill-color);\n",
              "    }\n",
              "    80% {\n",
              "      border-color: transparent;\n",
              "      border-right-color: var(--fill-color);\n",
              "      border-bottom-color: var(--fill-color);\n",
              "    }\n",
              "    90% {\n",
              "      border-color: transparent;\n",
              "      border-bottom-color: var(--fill-color);\n",
              "    }\n",
              "  }\n",
              "</style>\n",
              "\n",
              "  <script>\n",
              "    async function quickchart(key) {\n",
              "      const quickchartButtonEl =\n",
              "        document.querySelector('#' + key + ' button');\n",
              "      quickchartButtonEl.disabled = true;  // To prevent multiple clicks.\n",
              "      quickchartButtonEl.classList.add('colab-df-spinner');\n",
              "      try {\n",
              "        const charts = await google.colab.kernel.invokeFunction(\n",
              "            'suggestCharts', [key], {});\n",
              "      } catch (error) {\n",
              "        console.error('Error during call to suggestCharts:', error);\n",
              "      }\n",
              "      quickchartButtonEl.classList.remove('colab-df-spinner');\n",
              "      quickchartButtonEl.classList.add('colab-df-quickchart-complete');\n",
              "    }\n",
              "    (() => {\n",
              "      let quickchartButtonEl =\n",
              "        document.querySelector('#df-99246198-5698-4720-8022-7ef56648ba77 button');\n",
              "      quickchartButtonEl.style.display =\n",
              "        google.colab.kernel.accessAllowed ? 'block' : 'none';\n",
              "    })();\n",
              "  </script>\n",
              "</div>\n",
              "\n",
              "    </div>\n",
              "  </div>\n"
            ],
            "application/vnd.google.colaboratory.intrinsic+json": {
              "type": "dataframe",
              "summary": "{\n  \"name\": \"train_dataset\",\n  \"rows\": 8,\n  \"fields\": [\n    {\n      \"column\": \"model_year\",\n      \"properties\": {\n        \"dtype\": \"number\",\n        \"std\": 66050.608171685,\n        \"min\": 5.660967278269317,\n        \"max\": 188533.0,\n        \"num_unique_values\": 8,\n        \"samples\": [\n          2015.8299979313965,\n          2017.0,\n          188533.0\n        ],\n        \"semantic_type\": \"\",\n        \"description\": \"\"\n      }\n    },\n    {\n      \"column\": \"milage\",\n      \"properties\": {\n        \"dtype\": \"number\",\n        \"std\": 131566.03214160932,\n        \"min\": 100.0,\n        \"max\": 405000.0,\n        \"num_unique_values\": 8,\n        \"samples\": [\n          65705.2951737892,\n          57785.0,\n          188533.0\n        ],\n        \"semantic_type\": \"\",\n        \"description\": \"\"\n      }\n    },\n    {\n      \"column\": \"price\",\n      \"properties\": {\n        \"dtype\": \"number\",\n        \"std\": 1025293.4426894244,\n        \"min\": 2000.0,\n        \"max\": 2954083.0,\n        \"num_unique_values\": 8,\n        \"samples\": [\n          43878.01617753921,\n          30825.0,\n          188533.0\n        ],\n        \"semantic_type\": \"\",\n        \"description\": \"\"\n      }\n    }\n  ]\n}"
            }
          },
          "metadata": {},
          "execution_count": 6
        }
      ],
      "source": [
        "train_dataset.describe()"
      ]
    },
    {
      "cell_type": "markdown",
      "metadata": {
        "id": "kz1sDITcmqMS"
      },
      "source": [
        "### Step-2: Data Preparation\n",
        "\n",
        "\n",
        "*   Check missing values\n",
        "*   Check duplicates\n",
        "\n",
        "\n",
        "\n",
        "\n",
        "\n",
        "\n",
        "\n"
      ]
    },
    {
      "cell_type": "code",
      "execution_count": null,
      "metadata": {
        "colab": {
          "base_uri": "https://localhost:8080/",
          "height": 460
        },
        "id": "4vxTWZRom04S",
        "outputId": "8302879a-26c9-485f-b57d-7c01d45af77b"
      },
      "outputs": [
        {
          "output_type": "execute_result",
          "data": {
            "text/plain": [
              "brand               0\n",
              "model               0\n",
              "model_year          0\n",
              "milage              0\n",
              "fuel_type        5083\n",
              "engine              0\n",
              "transmission        0\n",
              "ext_col             0\n",
              "int_col             0\n",
              "accident         2452\n",
              "clean_title     21419\n",
              "price               0\n",
              "dtype: int64"
            ],
            "text/html": [
              "<div>\n",
              "<style scoped>\n",
              "    .dataframe tbody tr th:only-of-type {\n",
              "        vertical-align: middle;\n",
              "    }\n",
              "\n",
              "    .dataframe tbody tr th {\n",
              "        vertical-align: top;\n",
              "    }\n",
              "\n",
              "    .dataframe thead th {\n",
              "        text-align: right;\n",
              "    }\n",
              "</style>\n",
              "<table border=\"1\" class=\"dataframe\">\n",
              "  <thead>\n",
              "    <tr style=\"text-align: right;\">\n",
              "      <th></th>\n",
              "      <th>0</th>\n",
              "    </tr>\n",
              "  </thead>\n",
              "  <tbody>\n",
              "    <tr>\n",
              "      <th>brand</th>\n",
              "      <td>0</td>\n",
              "    </tr>\n",
              "    <tr>\n",
              "      <th>model</th>\n",
              "      <td>0</td>\n",
              "    </tr>\n",
              "    <tr>\n",
              "      <th>model_year</th>\n",
              "      <td>0</td>\n",
              "    </tr>\n",
              "    <tr>\n",
              "      <th>milage</th>\n",
              "      <td>0</td>\n",
              "    </tr>\n",
              "    <tr>\n",
              "      <th>fuel_type</th>\n",
              "      <td>5083</td>\n",
              "    </tr>\n",
              "    <tr>\n",
              "      <th>engine</th>\n",
              "      <td>0</td>\n",
              "    </tr>\n",
              "    <tr>\n",
              "      <th>transmission</th>\n",
              "      <td>0</td>\n",
              "    </tr>\n",
              "    <tr>\n",
              "      <th>ext_col</th>\n",
              "      <td>0</td>\n",
              "    </tr>\n",
              "    <tr>\n",
              "      <th>int_col</th>\n",
              "      <td>0</td>\n",
              "    </tr>\n",
              "    <tr>\n",
              "      <th>accident</th>\n",
              "      <td>2452</td>\n",
              "    </tr>\n",
              "    <tr>\n",
              "      <th>clean_title</th>\n",
              "      <td>21419</td>\n",
              "    </tr>\n",
              "    <tr>\n",
              "      <th>price</th>\n",
              "      <td>0</td>\n",
              "    </tr>\n",
              "  </tbody>\n",
              "</table>\n",
              "</div><br><label><b>dtype:</b> int64</label>"
            ]
          },
          "metadata": {},
          "execution_count": 7
        }
      ],
      "source": [
        "train_dataset.isnull().sum()"
      ]
    },
    {
      "cell_type": "markdown",
      "metadata": {
        "id": "ntXirTP7m8FZ"
      },
      "source": [
        "##### There are missing values in the following columns [fuel_type, accident, clean_title]"
      ]
    },
    {
      "cell_type": "code",
      "execution_count": null,
      "metadata": {
        "colab": {
          "base_uri": "https://localhost:8080/"
        },
        "id": "qKVpltWhmNYb",
        "outputId": "90380adb-8f58-4f69-afa7-53dc3aae0653"
      },
      "outputs": [
        {
          "output_type": "execute_result",
          "data": {
            "text/plain": [
              "0"
            ]
          },
          "metadata": {},
          "execution_count": 8
        }
      ],
      "source": [
        "train_dataset.duplicated().sum()"
      ]
    },
    {
      "cell_type": "code",
      "execution_count": null,
      "metadata": {
        "colab": {
          "base_uri": "https://localhost:8080/",
          "height": 429
        },
        "id": "itsqFPIlmyxR",
        "outputId": "719343fe-2f8b-498a-d94f-7c77701edaa0"
      },
      "outputs": [
        {
          "output_type": "execute_result",
          "data": {
            "text/plain": [
              "brand               0\n",
              "model               0\n",
              "model_year          0\n",
              "milage              0\n",
              "fuel_type        3383\n",
              "engine              0\n",
              "transmission        0\n",
              "ext_col             0\n",
              "int_col             0\n",
              "accident         1632\n",
              "clean_title     14239\n",
              "dtype: int64"
            ],
            "text/html": [
              "<div>\n",
              "<style scoped>\n",
              "    .dataframe tbody tr th:only-of-type {\n",
              "        vertical-align: middle;\n",
              "    }\n",
              "\n",
              "    .dataframe tbody tr th {\n",
              "        vertical-align: top;\n",
              "    }\n",
              "\n",
              "    .dataframe thead th {\n",
              "        text-align: right;\n",
              "    }\n",
              "</style>\n",
              "<table border=\"1\" class=\"dataframe\">\n",
              "  <thead>\n",
              "    <tr style=\"text-align: right;\">\n",
              "      <th></th>\n",
              "      <th>0</th>\n",
              "    </tr>\n",
              "  </thead>\n",
              "  <tbody>\n",
              "    <tr>\n",
              "      <th>brand</th>\n",
              "      <td>0</td>\n",
              "    </tr>\n",
              "    <tr>\n",
              "      <th>model</th>\n",
              "      <td>0</td>\n",
              "    </tr>\n",
              "    <tr>\n",
              "      <th>model_year</th>\n",
              "      <td>0</td>\n",
              "    </tr>\n",
              "    <tr>\n",
              "      <th>milage</th>\n",
              "      <td>0</td>\n",
              "    </tr>\n",
              "    <tr>\n",
              "      <th>fuel_type</th>\n",
              "      <td>3383</td>\n",
              "    </tr>\n",
              "    <tr>\n",
              "      <th>engine</th>\n",
              "      <td>0</td>\n",
              "    </tr>\n",
              "    <tr>\n",
              "      <th>transmission</th>\n",
              "      <td>0</td>\n",
              "    </tr>\n",
              "    <tr>\n",
              "      <th>ext_col</th>\n",
              "      <td>0</td>\n",
              "    </tr>\n",
              "    <tr>\n",
              "      <th>int_col</th>\n",
              "      <td>0</td>\n",
              "    </tr>\n",
              "    <tr>\n",
              "      <th>accident</th>\n",
              "      <td>1632</td>\n",
              "    </tr>\n",
              "    <tr>\n",
              "      <th>clean_title</th>\n",
              "      <td>14239</td>\n",
              "    </tr>\n",
              "  </tbody>\n",
              "</table>\n",
              "</div><br><label><b>dtype:</b> int64</label>"
            ]
          },
          "metadata": {},
          "execution_count": 9
        }
      ],
      "source": [
        "test_dataset.isnull().sum()"
      ]
    },
    {
      "cell_type": "markdown",
      "metadata": {
        "id": "D7C19B3_nNwL"
      },
      "source": [
        "##### There are missing values in the following columns in test dataset [fuel_type, accident, clean_title]"
      ]
    },
    {
      "cell_type": "code",
      "execution_count": null,
      "metadata": {
        "colab": {
          "base_uri": "https://localhost:8080/"
        },
        "id": "amYFuUeRnKcV",
        "outputId": "8f2a3163-cd69-4480-f697-f429f9cd1118"
      },
      "outputs": [
        {
          "output_type": "execute_result",
          "data": {
            "text/plain": [
              "0"
            ]
          },
          "metadata": {},
          "execution_count": 10
        }
      ],
      "source": [
        "test_dataset.duplicated().sum()"
      ]
    },
    {
      "cell_type": "code",
      "execution_count": null,
      "metadata": {
        "colab": {
          "base_uri": "https://localhost:8080/"
        },
        "id": "Z81VISjFnUVM",
        "outputId": "ccaa6119-5646-4467-fd71-651a6825ddda"
      },
      "outputs": [
        {
          "output_type": "execute_result",
          "data": {
            "text/plain": [
              "2954083"
            ]
          },
          "metadata": {},
          "execution_count": 11
        }
      ],
      "source": [
        "train_dataset['price'].max()"
      ]
    },
    {
      "cell_type": "code",
      "execution_count": null,
      "metadata": {
        "colab": {
          "base_uri": "https://localhost:8080/",
          "height": 1000
        },
        "id": "OwaZ2aG-nfH-",
        "outputId": "898839ab-50d2-4911-ba3d-ef2fe248130b"
      },
      "outputs": [
        {
          "output_type": "execute_result",
          "data": {
            "text/plain": [
              "                brand                                              model  \\\n",
              "id                                                                         \n",
              "220              Ford                                          F-150 XLT   \n",
              "1880         Chrysler                                          300C Base   \n",
              "13838          Toyota                                      Highlander SE   \n",
              "14693         Hyundai                                       Santa Fe SEL   \n",
              "16034   Mercedes-Benz                            SL-Class SL500 Roadster   \n",
              "18946            Audi                                            S4 Base   \n",
              "21814             RAM                                       1500 Laramie   \n",
              "36615            Ford                         Excursion Limited Ultimate   \n",
              "42177            Ford                                         Mustang GT   \n",
              "42219            Land         Rover Range Rover 3.0L V6 Supercharged HSE   \n",
              "43218           Tesla                                 Model 3 Long Range   \n",
              "46159       Chevrolet                                           Tahoe LT   \n",
              "49575             RAM                                       1500 Laramie   \n",
              "55428           Lexus                                        LS 430 Base   \n",
              "55493           Lexus                                        LS 430 Base   \n",
              "59650          Toyota                                     Highlander XLE   \n",
              "65043   Mercedes-Benz                  AMG GLE AMG GLE 63 S-Model 4MATIC   \n",
              "66224       Chevrolet                                      Corvette Base   \n",
              "67957            Land  Rover Range Rover 5.0L Supercharged Autobiogra...   \n",
              "72448   Mercedes-Benz                            SL-Class SL550 Roadster   \n",
              "74189   Mercedes-Benz                                        Metris Base   \n",
              "79269            Ford                              Expedition Timberline   \n",
              "79469           Aston                         Martin DB7 Vantage Volante   \n",
              "80269             GMC                      Sierra 1500 SLE1 Extended Cab   \n",
              "81056            Ford                                           F-150 XL   \n",
              "84731   Mercedes-Benz                                     AMG GT 53 Base   \n",
              "85611       Chevrolet                   Silverado 1500 Custom Trail Boss   \n",
              "89180            Ford                          Expedition Max King Ranch   \n",
              "92612           Lexus                                        ES 350 Base   \n",
              "96473            Ford                             Expedition Max Limited   \n",
              "97654         Pontiac                                  Firebird Trans Am   \n",
              "99283            Land                     Rover Range Rover P525 HSE SWB   \n",
              "103061            RAM                               1500 Classic Warlock   \n",
              "103189          Dodge                          Ram 2500 Laramie Quad Cab   \n",
              "118167      Chevrolet                                      Corvette Base   \n",
              "119162           Ford                                      Bronco Raptor   \n",
              "128002            RAM                                       1500 Laramie   \n",
              "129013  Mercedes-Benz                            SL-Class SL600 Roadster   \n",
              "129054       INFINITI                                          QX60 Base   \n",
              "138122       Cadillac                   Escalade Premium Luxury Platinum   \n",
              "150549            RAM                                       1500 Limited   \n",
              "151415           Ford                                 Thunderbird Deluxe   \n",
              "157056       Cadillac                                         XT5 Luxury   \n",
              "160629          Honda                                        Pilot Elite   \n",
              "163487           Land                   Rover Range Rover Sport HST MHEV   \n",
              "172766          Lexus                                        SC 430 Base   \n",
              "176936       Cadillac                              Escalade ESV Platinum   \n",
              "181021       Cadillac                                       DeVille Base   \n",
              "183006           Land                                      Rover LR4 Lux   \n",
              "183468        Bentley                                  Continental GT V8   \n",
              "\n",
              "        model_year  milage      fuel_type  \\\n",
              "id                                          \n",
              "220           2021   26315       Gasoline   \n",
              "1880          2003   55900       Gasoline   \n",
              "13838         2014   85000       Gasoline   \n",
              "14693         2022   13865       Gasoline   \n",
              "16034         2005   34068       Gasoline   \n",
              "18946         2004   73500       Gasoline   \n",
              "21814         2022   16156       Gasoline   \n",
              "36615         2002   89900         Diesel   \n",
              "42177         2005   82000       Gasoline   \n",
              "42219         2021   29850       Gasoline   \n",
              "43218         2021   22457            NaN   \n",
              "46159         2018   83858  E85 Flex Fuel   \n",
              "49575         2022   13610       Gasoline   \n",
              "55428         2004   39750       Gasoline   \n",
              "55493         2002   27600       Gasoline   \n",
              "59650         2022   13566       Gasoline   \n",
              "65043         2017    4590       Gasoline   \n",
              "66224         2005   23133       Gasoline   \n",
              "67957         2017   67280       Gasoline   \n",
              "72448         2001  113500       Gasoline   \n",
              "74189         2020    9686       Gasoline   \n",
              "79269         2021    7758       Gasoline   \n",
              "79469         2005   89900       Gasoline   \n",
              "80269         2020    2750       Gasoline   \n",
              "81056         2022    4200       Gasoline   \n",
              "84731         2023    2823       Gasoline   \n",
              "85611         2022    5072       Gasoline   \n",
              "89180         2021   45979       Gasoline   \n",
              "92612         2008  132252       Gasoline   \n",
              "96473         2022   18160       Gasoline   \n",
              "97654         2001   64776       Gasoline   \n",
              "99283         2020   65800       Gasoline   \n",
              "103061        2019   36757       Gasoline   \n",
              "103189        2005   27600         Diesel   \n",
              "118167        2007   54323       Gasoline   \n",
              "119162        2023    4285       Gasoline   \n",
              "128002        2022   13500       Gasoline   \n",
              "129013        2005   32000       Gasoline   \n",
              "129054        2017   84224       Gasoline   \n",
              "138122        2021   61830       Gasoline   \n",
              "150549        2018   48306       Gasoline   \n",
              "151415        2008   95170       Gasoline   \n",
              "157056        2021   16156       Gasoline   \n",
              "160629        2021   42653       Gasoline   \n",
              "163487        2022   16648       Gasoline   \n",
              "172766        2004   89500       Gasoline   \n",
              "176936        2015   73800       Gasoline   \n",
              "181021        1994   85200              –   \n",
              "183006        2010   73846       Gasoline   \n",
              "183468        2021   59766       Gasoline   \n",
              "\n",
              "                                                   engine  \\\n",
              "id                                                          \n",
              "220                       3.5L V6 24V PDI DOHC Twin Turbo   \n",
              "1880         340.0HP 5.7L 8 Cylinder Engine Gasoline Fuel   \n",
              "13838                                3.5L V6 24V PDI DOHC   \n",
              "14693                                2.5L I4 16V PDI DOHC   \n",
              "16034        302.0HP 5.0L 8 Cylinder Engine Gasoline Fuel   \n",
              "18946        340.0HP 4.2L 8 Cylinder Engine Gasoline Fuel   \n",
              "21814                                5.7L V8 16V MPFI OHV   \n",
              "36615          325.0HP 6.0L 8 Cylinder Engine Diesel Fuel   \n",
              "42177        300.0HP 4.6L 8 Cylinder Engine Gasoline Fuel   \n",
              "42219       380.0HP 3.0L V6 Cylinder Engine Gasoline Fuel   \n",
              "43218                                            Electric   \n",
              "46159                  5.3L V8 16V MPFI OHV Flexible Fuel   \n",
              "49575                                5.7L V8 16V MPFI OHV   \n",
              "55428        278.0HP 4.3L 8 Cylinder Engine Gasoline Fuel   \n",
              "55493        290.0HP 4.3L 8 Cylinder Engine Gasoline Fuel   \n",
              "59650                          2.4L I4 16V PDI DOHC Turbo   \n",
              "65043        577.0HP 5.5L 8 Cylinder Engine Gasoline Fuel   \n",
              "66224        400.0HP 6.0L 8 Cylinder Engine Gasoline Fuel   \n",
              "67957        518.0HP 5.0L 8 Cylinder Engine Gasoline Fuel   \n",
              "72448        382.0HP 5.5L 8 Cylinder Engine Gasoline Fuel   \n",
              "74189                          2.0L I4 16V GDI DOHC Turbo   \n",
              "79269                     3.5L V6 24V PDI DOHC Twin Turbo   \n",
              "79469       420.0HP 5.9L 12 Cylinder Engine Gasoline Fuel   \n",
              "80269                                 5.3L V8 16V GDI OHV   \n",
              "81056                     2.7L V6 24V PDI DOHC Twin Turbo   \n",
              "84731                     4.0L V8 32V GDI DOHC Twin Turbo   \n",
              "85611                                 5.3L V8 16V GDI OHV   \n",
              "89180                     3.5L V6 24V PDI DOHC Twin Turbo   \n",
              "92612       272.0HP 3.5L V6 Cylinder Engine Gasoline Fuel   \n",
              "96473                     3.5L V6 24V PDI DOHC Twin Turbo   \n",
              "97654       200.0HP 3.8L V6 Cylinder Engine Gasoline Fuel   \n",
              "99283        518.0HP 5.0L 8 Cylinder Engine Gasoline Fuel   \n",
              "103061                               5.7L V8 16V MPFI OHV   \n",
              "103189  250.0HP 5.9L Straight 6 Cylinder Engine Diesel...   \n",
              "118167       430.0HP 6.2L 8 Cylinder Engine Gasoline Fuel   \n",
              "119162                    3.0L V6 24V GDI DOHC Twin Turbo   \n",
              "128002                               5.7L V8 16V MPFI OHV   \n",
              "129013      493.0HP 5.5L 12 Cylinder Engine Gasoline Fuel   \n",
              "129054      265.0HP 3.5L V6 Cylinder Engine Gasoline Fuel   \n",
              "138122                                6.2L V8 16V GDI OHV   \n",
              "150549       395.0HP 5.7L 8 Cylinder Engine Gasoline Fuel   \n",
              "151415       280.0HP 3.9L 8 Cylinder Engine Gasoline Fuel   \n",
              "157056                              3.6L V6 24V MPFI DOHC   \n",
              "160629                               3.5L V6 24V GDI SOHC   \n",
              "163487  395.0HP 3.0L Straight 6 Cylinder Engine Gasoli...   \n",
              "172766       300.0HP 4.3L 8 Cylinder Engine Gasoline Fuel   \n",
              "176936       420.0HP 6.2L 8 Cylinder Engine Gasoline Fuel   \n",
              "181021                                                  –   \n",
              "183006                               5.0L V8 32V PDI DOHC   \n",
              "183468                    4.0L V8 32V GDI DOHC Twin Turbo   \n",
              "\n",
              "                          transmission               ext_col  \\\n",
              "id                                                             \n",
              "220                 10-Speed Automatic  Agate Black Metallic   \n",
              "1880                       5-Speed A/T                 Beige   \n",
              "13838                8-Speed Automatic                 Green   \n",
              "14693                8-Speed Automatic                 Black   \n",
              "16034                      7-Speed A/T                 White   \n",
              "18946                      6-Speed M/T                  Blue   \n",
              "21814                8-Speed Automatic         Diamond Black   \n",
              "36615                      5-Speed A/T                  Gold   \n",
              "42177                      5-Speed M/T                Silver   \n",
              "42219   Transmission w/Dual Shift Mode                 White   \n",
              "43218                1-Speed Automatic                 White   \n",
              "46159                6-Speed Automatic                Silver   \n",
              "49575                8-Speed Automatic   Silver Ice Metallic   \n",
              "55428                              A/T                Silver   \n",
              "55493                      5-Speed A/T                Silver   \n",
              "59650                8-Speed Automatic      Ruby Flare Pearl   \n",
              "65043   Transmission w/Dual Shift Mode                  Gray   \n",
              "66224                      6-Speed M/T                  Gold   \n",
              "67957                      8-Speed A/T                 White   \n",
              "72448                      7-Speed A/T                   Red   \n",
              "74189                8-Speed Automatic                 Black   \n",
              "79269               10-Speed Automatic                  Blue   \n",
              "79469                      6-Speed M/T                 White   \n",
              "80269                6-Speed Automatic                   Red   \n",
              "81056               10-Speed Automatic                 Black   \n",
              "84731                9-Speed Automatic          Beluga Black   \n",
              "85611                        Automatic                 White   \n",
              "89180               10-Speed Automatic                 Black   \n",
              "92612                      6-Speed A/T                 White   \n",
              "96473               10-Speed Automatic          Oxford White   \n",
              "97654                      4-Speed A/T                 White   \n",
              "99283   Transmission w/Dual Shift Mode                 White   \n",
              "103061               8-Speed Automatic         Diamond Black   \n",
              "103189                     4-Speed A/T                   Red   \n",
              "118167                             A/T                 White   \n",
              "119162              10-Speed Automatic          Oxford White   \n",
              "128002               8-Speed Automatic                 Black   \n",
              "129013                     5-Speed A/T                 White   \n",
              "129054                             A/T                 Black   \n",
              "138122              10-Speed Automatic    Sandstone Metallic   \n",
              "150549                     8-Speed A/T                 Black   \n",
              "151415                             A/T                  Gray   \n",
              "157056               8-Speed Automatic          Shadow Black   \n",
              "160629               9-Speed Automatic                  Gray   \n",
              "163487                     8-Speed A/T                  Gray   \n",
              "172766                             A/T                Silver   \n",
              "176936                     8-Speed A/T                 Black   \n",
              "181021                             A/T                 Green   \n",
              "183006               8-Speed Automatic                 Black   \n",
              "183468               8-Speed Automatic         Dark Sapphire   \n",
              "\n",
              "                    int_col                                accident  \\\n",
              "id                                                                    \n",
              "220                   Black                           None reported   \n",
              "1880                  Beige                           None reported   \n",
              "13838                 Black                           None reported   \n",
              "14693                 Black                           None reported   \n",
              "16034                 Beige                           None reported   \n",
              "18946                 Beige                           None reported   \n",
              "21814                 Black                           None reported   \n",
              "36615                  Gold                           None reported   \n",
              "42177                 Black                           None reported   \n",
              "42219                 Black                           None reported   \n",
              "43218                 Black                           None reported   \n",
              "46159             Jet Black                           None reported   \n",
              "49575                 Black                           None reported   \n",
              "55428                   Red                           None reported   \n",
              "55493                  Gray                           None reported   \n",
              "59650                 Black                           None reported   \n",
              "65043                 Black                           None reported   \n",
              "66224                 Beige                           None reported   \n",
              "67957                 Black  At least 1 accident or damage reported   \n",
              "72448                 Black                           None reported   \n",
              "74189                 Black                           None reported   \n",
              "79269     Medium Earth Gray                           None reported   \n",
              "79469                 Beige                           None reported   \n",
              "80269                 Black                           None reported   \n",
              "81056     Medium Dark Slate                           None reported   \n",
              "84731                 Black                           None reported   \n",
              "85611             Jet Black                           None reported   \n",
              "89180             Sandstone                           None reported   \n",
              "92612                 Beige  At least 1 accident or damage reported   \n",
              "96473         Camel Leather                           None reported   \n",
              "97654                 Beige                           None reported   \n",
              "99283                 White                           None reported   \n",
              "103061  Diesel Gray / Black                           None reported   \n",
              "103189                 Gray                           None reported   \n",
              "118167                  Red                           None reported   \n",
              "119162                Black                           None reported   \n",
              "128002                Black                           None reported   \n",
              "129013                Beige                           None reported   \n",
              "129054                Black  At least 1 accident or damage reported   \n",
              "138122          Dark Auburn                           None reported   \n",
              "150549                 Gray                           None reported   \n",
              "151415                Black                           None reported   \n",
              "157056          Shara Beige                           None reported   \n",
              "160629                Black                                     NaN   \n",
              "163487                Black                           None reported   \n",
              "172766                Black                           None reported   \n",
              "176936                Black                           None reported   \n",
              "181021                Beige                           None reported   \n",
              "183006                Black  At least 1 accident or damage reported   \n",
              "183468                Linen                           None reported   \n",
              "\n",
              "       clean_title    price  \n",
              "id                           \n",
              "220            Yes  2954083  \n",
              "1880           Yes  2954083  \n",
              "13838          Yes  2954083  \n",
              "14693          Yes  2954083  \n",
              "16034          Yes  2954083  \n",
              "18946          Yes  2954083  \n",
              "21814          NaN  2954083  \n",
              "36615          Yes  2954083  \n",
              "42177          Yes  2954083  \n",
              "42219          Yes  2954083  \n",
              "43218          Yes  2954083  \n",
              "46159          NaN  2954083  \n",
              "49575          Yes  2954083  \n",
              "55428          Yes  2954083  \n",
              "55493          Yes  2954083  \n",
              "59650          NaN  2954083  \n",
              "65043          Yes  2954083  \n",
              "66224          Yes  2954083  \n",
              "67957          Yes  2954083  \n",
              "72448          Yes  2954083  \n",
              "74189          NaN  2954083  \n",
              "79269          Yes  2954083  \n",
              "79469          Yes  2954083  \n",
              "80269          Yes  2954083  \n",
              "81056          Yes  2954083  \n",
              "84731          NaN  2954083  \n",
              "85611          NaN  2954083  \n",
              "89180          Yes  2954083  \n",
              "92612          Yes  2954083  \n",
              "96473          Yes  2954083  \n",
              "97654          Yes  2954083  \n",
              "99283          Yes  2954083  \n",
              "103061         Yes  2954083  \n",
              "103189         Yes  2954083  \n",
              "118167         Yes  2954083  \n",
              "119162         NaN  2954083  \n",
              "128002         Yes  2954083  \n",
              "129013         Yes  2954083  \n",
              "129054         Yes  2954083  \n",
              "138122         Yes  2954083  \n",
              "150549         Yes  2954083  \n",
              "151415         Yes  2954083  \n",
              "157056         Yes  2954083  \n",
              "160629         NaN  2954083  \n",
              "163487         Yes  2954083  \n",
              "172766         Yes  2954083  \n",
              "176936         Yes  2954083  \n",
              "181021         Yes  2954083  \n",
              "183006         Yes  2954083  \n",
              "183468         Yes  2954083  "
            ],
            "text/html": [
              "\n",
              "  <div id=\"df-b9b8c19c-26bc-4b29-a86c-7be61178f80e\" class=\"colab-df-container\">\n",
              "    <div>\n",
              "<style scoped>\n",
              "    .dataframe tbody tr th:only-of-type {\n",
              "        vertical-align: middle;\n",
              "    }\n",
              "\n",
              "    .dataframe tbody tr th {\n",
              "        vertical-align: top;\n",
              "    }\n",
              "\n",
              "    .dataframe thead th {\n",
              "        text-align: right;\n",
              "    }\n",
              "</style>\n",
              "<table border=\"1\" class=\"dataframe\">\n",
              "  <thead>\n",
              "    <tr style=\"text-align: right;\">\n",
              "      <th></th>\n",
              "      <th>brand</th>\n",
              "      <th>model</th>\n",
              "      <th>model_year</th>\n",
              "      <th>milage</th>\n",
              "      <th>fuel_type</th>\n",
              "      <th>engine</th>\n",
              "      <th>transmission</th>\n",
              "      <th>ext_col</th>\n",
              "      <th>int_col</th>\n",
              "      <th>accident</th>\n",
              "      <th>clean_title</th>\n",
              "      <th>price</th>\n",
              "    </tr>\n",
              "    <tr>\n",
              "      <th>id</th>\n",
              "      <th></th>\n",
              "      <th></th>\n",
              "      <th></th>\n",
              "      <th></th>\n",
              "      <th></th>\n",
              "      <th></th>\n",
              "      <th></th>\n",
              "      <th></th>\n",
              "      <th></th>\n",
              "      <th></th>\n",
              "      <th></th>\n",
              "      <th></th>\n",
              "    </tr>\n",
              "  </thead>\n",
              "  <tbody>\n",
              "    <tr>\n",
              "      <th>220</th>\n",
              "      <td>Ford</td>\n",
              "      <td>F-150 XLT</td>\n",
              "      <td>2021</td>\n",
              "      <td>26315</td>\n",
              "      <td>Gasoline</td>\n",
              "      <td>3.5L V6 24V PDI DOHC Twin Turbo</td>\n",
              "      <td>10-Speed Automatic</td>\n",
              "      <td>Agate Black Metallic</td>\n",
              "      <td>Black</td>\n",
              "      <td>None reported</td>\n",
              "      <td>Yes</td>\n",
              "      <td>2954083</td>\n",
              "    </tr>\n",
              "    <tr>\n",
              "      <th>1880</th>\n",
              "      <td>Chrysler</td>\n",
              "      <td>300C Base</td>\n",
              "      <td>2003</td>\n",
              "      <td>55900</td>\n",
              "      <td>Gasoline</td>\n",
              "      <td>340.0HP 5.7L 8 Cylinder Engine Gasoline Fuel</td>\n",
              "      <td>5-Speed A/T</td>\n",
              "      <td>Beige</td>\n",
              "      <td>Beige</td>\n",
              "      <td>None reported</td>\n",
              "      <td>Yes</td>\n",
              "      <td>2954083</td>\n",
              "    </tr>\n",
              "    <tr>\n",
              "      <th>13838</th>\n",
              "      <td>Toyota</td>\n",
              "      <td>Highlander SE</td>\n",
              "      <td>2014</td>\n",
              "      <td>85000</td>\n",
              "      <td>Gasoline</td>\n",
              "      <td>3.5L V6 24V PDI DOHC</td>\n",
              "      <td>8-Speed Automatic</td>\n",
              "      <td>Green</td>\n",
              "      <td>Black</td>\n",
              "      <td>None reported</td>\n",
              "      <td>Yes</td>\n",
              "      <td>2954083</td>\n",
              "    </tr>\n",
              "    <tr>\n",
              "      <th>14693</th>\n",
              "      <td>Hyundai</td>\n",
              "      <td>Santa Fe SEL</td>\n",
              "      <td>2022</td>\n",
              "      <td>13865</td>\n",
              "      <td>Gasoline</td>\n",
              "      <td>2.5L I4 16V PDI DOHC</td>\n",
              "      <td>8-Speed Automatic</td>\n",
              "      <td>Black</td>\n",
              "      <td>Black</td>\n",
              "      <td>None reported</td>\n",
              "      <td>Yes</td>\n",
              "      <td>2954083</td>\n",
              "    </tr>\n",
              "    <tr>\n",
              "      <th>16034</th>\n",
              "      <td>Mercedes-Benz</td>\n",
              "      <td>SL-Class SL500 Roadster</td>\n",
              "      <td>2005</td>\n",
              "      <td>34068</td>\n",
              "      <td>Gasoline</td>\n",
              "      <td>302.0HP 5.0L 8 Cylinder Engine Gasoline Fuel</td>\n",
              "      <td>7-Speed A/T</td>\n",
              "      <td>White</td>\n",
              "      <td>Beige</td>\n",
              "      <td>None reported</td>\n",
              "      <td>Yes</td>\n",
              "      <td>2954083</td>\n",
              "    </tr>\n",
              "    <tr>\n",
              "      <th>18946</th>\n",
              "      <td>Audi</td>\n",
              "      <td>S4 Base</td>\n",
              "      <td>2004</td>\n",
              "      <td>73500</td>\n",
              "      <td>Gasoline</td>\n",
              "      <td>340.0HP 4.2L 8 Cylinder Engine Gasoline Fuel</td>\n",
              "      <td>6-Speed M/T</td>\n",
              "      <td>Blue</td>\n",
              "      <td>Beige</td>\n",
              "      <td>None reported</td>\n",
              "      <td>Yes</td>\n",
              "      <td>2954083</td>\n",
              "    </tr>\n",
              "    <tr>\n",
              "      <th>21814</th>\n",
              "      <td>RAM</td>\n",
              "      <td>1500 Laramie</td>\n",
              "      <td>2022</td>\n",
              "      <td>16156</td>\n",
              "      <td>Gasoline</td>\n",
              "      <td>5.7L V8 16V MPFI OHV</td>\n",
              "      <td>8-Speed Automatic</td>\n",
              "      <td>Diamond Black</td>\n",
              "      <td>Black</td>\n",
              "      <td>None reported</td>\n",
              "      <td>NaN</td>\n",
              "      <td>2954083</td>\n",
              "    </tr>\n",
              "    <tr>\n",
              "      <th>36615</th>\n",
              "      <td>Ford</td>\n",
              "      <td>Excursion Limited Ultimate</td>\n",
              "      <td>2002</td>\n",
              "      <td>89900</td>\n",
              "      <td>Diesel</td>\n",
              "      <td>325.0HP 6.0L 8 Cylinder Engine Diesel Fuel</td>\n",
              "      <td>5-Speed A/T</td>\n",
              "      <td>Gold</td>\n",
              "      <td>Gold</td>\n",
              "      <td>None reported</td>\n",
              "      <td>Yes</td>\n",
              "      <td>2954083</td>\n",
              "    </tr>\n",
              "    <tr>\n",
              "      <th>42177</th>\n",
              "      <td>Ford</td>\n",
              "      <td>Mustang GT</td>\n",
              "      <td>2005</td>\n",
              "      <td>82000</td>\n",
              "      <td>Gasoline</td>\n",
              "      <td>300.0HP 4.6L 8 Cylinder Engine Gasoline Fuel</td>\n",
              "      <td>5-Speed M/T</td>\n",
              "      <td>Silver</td>\n",
              "      <td>Black</td>\n",
              "      <td>None reported</td>\n",
              "      <td>Yes</td>\n",
              "      <td>2954083</td>\n",
              "    </tr>\n",
              "    <tr>\n",
              "      <th>42219</th>\n",
              "      <td>Land</td>\n",
              "      <td>Rover Range Rover 3.0L V6 Supercharged HSE</td>\n",
              "      <td>2021</td>\n",
              "      <td>29850</td>\n",
              "      <td>Gasoline</td>\n",
              "      <td>380.0HP 3.0L V6 Cylinder Engine Gasoline Fuel</td>\n",
              "      <td>Transmission w/Dual Shift Mode</td>\n",
              "      <td>White</td>\n",
              "      <td>Black</td>\n",
              "      <td>None reported</td>\n",
              "      <td>Yes</td>\n",
              "      <td>2954083</td>\n",
              "    </tr>\n",
              "    <tr>\n",
              "      <th>43218</th>\n",
              "      <td>Tesla</td>\n",
              "      <td>Model 3 Long Range</td>\n",
              "      <td>2021</td>\n",
              "      <td>22457</td>\n",
              "      <td>NaN</td>\n",
              "      <td>Electric</td>\n",
              "      <td>1-Speed Automatic</td>\n",
              "      <td>White</td>\n",
              "      <td>Black</td>\n",
              "      <td>None reported</td>\n",
              "      <td>Yes</td>\n",
              "      <td>2954083</td>\n",
              "    </tr>\n",
              "    <tr>\n",
              "      <th>46159</th>\n",
              "      <td>Chevrolet</td>\n",
              "      <td>Tahoe LT</td>\n",
              "      <td>2018</td>\n",
              "      <td>83858</td>\n",
              "      <td>E85 Flex Fuel</td>\n",
              "      <td>5.3L V8 16V MPFI OHV Flexible Fuel</td>\n",
              "      <td>6-Speed Automatic</td>\n",
              "      <td>Silver</td>\n",
              "      <td>Jet Black</td>\n",
              "      <td>None reported</td>\n",
              "      <td>NaN</td>\n",
              "      <td>2954083</td>\n",
              "    </tr>\n",
              "    <tr>\n",
              "      <th>49575</th>\n",
              "      <td>RAM</td>\n",
              "      <td>1500 Laramie</td>\n",
              "      <td>2022</td>\n",
              "      <td>13610</td>\n",
              "      <td>Gasoline</td>\n",
              "      <td>5.7L V8 16V MPFI OHV</td>\n",
              "      <td>8-Speed Automatic</td>\n",
              "      <td>Silver Ice Metallic</td>\n",
              "      <td>Black</td>\n",
              "      <td>None reported</td>\n",
              "      <td>Yes</td>\n",
              "      <td>2954083</td>\n",
              "    </tr>\n",
              "    <tr>\n",
              "      <th>55428</th>\n",
              "      <td>Lexus</td>\n",
              "      <td>LS 430 Base</td>\n",
              "      <td>2004</td>\n",
              "      <td>39750</td>\n",
              "      <td>Gasoline</td>\n",
              "      <td>278.0HP 4.3L 8 Cylinder Engine Gasoline Fuel</td>\n",
              "      <td>A/T</td>\n",
              "      <td>Silver</td>\n",
              "      <td>Red</td>\n",
              "      <td>None reported</td>\n",
              "      <td>Yes</td>\n",
              "      <td>2954083</td>\n",
              "    </tr>\n",
              "    <tr>\n",
              "      <th>55493</th>\n",
              "      <td>Lexus</td>\n",
              "      <td>LS 430 Base</td>\n",
              "      <td>2002</td>\n",
              "      <td>27600</td>\n",
              "      <td>Gasoline</td>\n",
              "      <td>290.0HP 4.3L 8 Cylinder Engine Gasoline Fuel</td>\n",
              "      <td>5-Speed A/T</td>\n",
              "      <td>Silver</td>\n",
              "      <td>Gray</td>\n",
              "      <td>None reported</td>\n",
              "      <td>Yes</td>\n",
              "      <td>2954083</td>\n",
              "    </tr>\n",
              "    <tr>\n",
              "      <th>59650</th>\n",
              "      <td>Toyota</td>\n",
              "      <td>Highlander XLE</td>\n",
              "      <td>2022</td>\n",
              "      <td>13566</td>\n",
              "      <td>Gasoline</td>\n",
              "      <td>2.4L I4 16V PDI DOHC Turbo</td>\n",
              "      <td>8-Speed Automatic</td>\n",
              "      <td>Ruby Flare Pearl</td>\n",
              "      <td>Black</td>\n",
              "      <td>None reported</td>\n",
              "      <td>NaN</td>\n",
              "      <td>2954083</td>\n",
              "    </tr>\n",
              "    <tr>\n",
              "      <th>65043</th>\n",
              "      <td>Mercedes-Benz</td>\n",
              "      <td>AMG GLE AMG GLE 63 S-Model 4MATIC</td>\n",
              "      <td>2017</td>\n",
              "      <td>4590</td>\n",
              "      <td>Gasoline</td>\n",
              "      <td>577.0HP 5.5L 8 Cylinder Engine Gasoline Fuel</td>\n",
              "      <td>Transmission w/Dual Shift Mode</td>\n",
              "      <td>Gray</td>\n",
              "      <td>Black</td>\n",
              "      <td>None reported</td>\n",
              "      <td>Yes</td>\n",
              "      <td>2954083</td>\n",
              "    </tr>\n",
              "    <tr>\n",
              "      <th>66224</th>\n",
              "      <td>Chevrolet</td>\n",
              "      <td>Corvette Base</td>\n",
              "      <td>2005</td>\n",
              "      <td>23133</td>\n",
              "      <td>Gasoline</td>\n",
              "      <td>400.0HP 6.0L 8 Cylinder Engine Gasoline Fuel</td>\n",
              "      <td>6-Speed M/T</td>\n",
              "      <td>Gold</td>\n",
              "      <td>Beige</td>\n",
              "      <td>None reported</td>\n",
              "      <td>Yes</td>\n",
              "      <td>2954083</td>\n",
              "    </tr>\n",
              "    <tr>\n",
              "      <th>67957</th>\n",
              "      <td>Land</td>\n",
              "      <td>Rover Range Rover 5.0L Supercharged Autobiogra...</td>\n",
              "      <td>2017</td>\n",
              "      <td>67280</td>\n",
              "      <td>Gasoline</td>\n",
              "      <td>518.0HP 5.0L 8 Cylinder Engine Gasoline Fuel</td>\n",
              "      <td>8-Speed A/T</td>\n",
              "      <td>White</td>\n",
              "      <td>Black</td>\n",
              "      <td>At least 1 accident or damage reported</td>\n",
              "      <td>Yes</td>\n",
              "      <td>2954083</td>\n",
              "    </tr>\n",
              "    <tr>\n",
              "      <th>72448</th>\n",
              "      <td>Mercedes-Benz</td>\n",
              "      <td>SL-Class SL550 Roadster</td>\n",
              "      <td>2001</td>\n",
              "      <td>113500</td>\n",
              "      <td>Gasoline</td>\n",
              "      <td>382.0HP 5.5L 8 Cylinder Engine Gasoline Fuel</td>\n",
              "      <td>7-Speed A/T</td>\n",
              "      <td>Red</td>\n",
              "      <td>Black</td>\n",
              "      <td>None reported</td>\n",
              "      <td>Yes</td>\n",
              "      <td>2954083</td>\n",
              "    </tr>\n",
              "    <tr>\n",
              "      <th>74189</th>\n",
              "      <td>Mercedes-Benz</td>\n",
              "      <td>Metris Base</td>\n",
              "      <td>2020</td>\n",
              "      <td>9686</td>\n",
              "      <td>Gasoline</td>\n",
              "      <td>2.0L I4 16V GDI DOHC Turbo</td>\n",
              "      <td>8-Speed Automatic</td>\n",
              "      <td>Black</td>\n",
              "      <td>Black</td>\n",
              "      <td>None reported</td>\n",
              "      <td>NaN</td>\n",
              "      <td>2954083</td>\n",
              "    </tr>\n",
              "    <tr>\n",
              "      <th>79269</th>\n",
              "      <td>Ford</td>\n",
              "      <td>Expedition Timberline</td>\n",
              "      <td>2021</td>\n",
              "      <td>7758</td>\n",
              "      <td>Gasoline</td>\n",
              "      <td>3.5L V6 24V PDI DOHC Twin Turbo</td>\n",
              "      <td>10-Speed Automatic</td>\n",
              "      <td>Blue</td>\n",
              "      <td>Medium Earth Gray</td>\n",
              "      <td>None reported</td>\n",
              "      <td>Yes</td>\n",
              "      <td>2954083</td>\n",
              "    </tr>\n",
              "    <tr>\n",
              "      <th>79469</th>\n",
              "      <td>Aston</td>\n",
              "      <td>Martin DB7 Vantage Volante</td>\n",
              "      <td>2005</td>\n",
              "      <td>89900</td>\n",
              "      <td>Gasoline</td>\n",
              "      <td>420.0HP 5.9L 12 Cylinder Engine Gasoline Fuel</td>\n",
              "      <td>6-Speed M/T</td>\n",
              "      <td>White</td>\n",
              "      <td>Beige</td>\n",
              "      <td>None reported</td>\n",
              "      <td>Yes</td>\n",
              "      <td>2954083</td>\n",
              "    </tr>\n",
              "    <tr>\n",
              "      <th>80269</th>\n",
              "      <td>GMC</td>\n",
              "      <td>Sierra 1500 SLE1 Extended Cab</td>\n",
              "      <td>2020</td>\n",
              "      <td>2750</td>\n",
              "      <td>Gasoline</td>\n",
              "      <td>5.3L V8 16V GDI OHV</td>\n",
              "      <td>6-Speed Automatic</td>\n",
              "      <td>Red</td>\n",
              "      <td>Black</td>\n",
              "      <td>None reported</td>\n",
              "      <td>Yes</td>\n",
              "      <td>2954083</td>\n",
              "    </tr>\n",
              "    <tr>\n",
              "      <th>81056</th>\n",
              "      <td>Ford</td>\n",
              "      <td>F-150 XL</td>\n",
              "      <td>2022</td>\n",
              "      <td>4200</td>\n",
              "      <td>Gasoline</td>\n",
              "      <td>2.7L V6 24V PDI DOHC Twin Turbo</td>\n",
              "      <td>10-Speed Automatic</td>\n",
              "      <td>Black</td>\n",
              "      <td>Medium Dark Slate</td>\n",
              "      <td>None reported</td>\n",
              "      <td>Yes</td>\n",
              "      <td>2954083</td>\n",
              "    </tr>\n",
              "    <tr>\n",
              "      <th>84731</th>\n",
              "      <td>Mercedes-Benz</td>\n",
              "      <td>AMG GT 53 Base</td>\n",
              "      <td>2023</td>\n",
              "      <td>2823</td>\n",
              "      <td>Gasoline</td>\n",
              "      <td>4.0L V8 32V GDI DOHC Twin Turbo</td>\n",
              "      <td>9-Speed Automatic</td>\n",
              "      <td>Beluga Black</td>\n",
              "      <td>Black</td>\n",
              "      <td>None reported</td>\n",
              "      <td>NaN</td>\n",
              "      <td>2954083</td>\n",
              "    </tr>\n",
              "    <tr>\n",
              "      <th>85611</th>\n",
              "      <td>Chevrolet</td>\n",
              "      <td>Silverado 1500 Custom Trail Boss</td>\n",
              "      <td>2022</td>\n",
              "      <td>5072</td>\n",
              "      <td>Gasoline</td>\n",
              "      <td>5.3L V8 16V GDI OHV</td>\n",
              "      <td>Automatic</td>\n",
              "      <td>White</td>\n",
              "      <td>Jet Black</td>\n",
              "      <td>None reported</td>\n",
              "      <td>NaN</td>\n",
              "      <td>2954083</td>\n",
              "    </tr>\n",
              "    <tr>\n",
              "      <th>89180</th>\n",
              "      <td>Ford</td>\n",
              "      <td>Expedition Max King Ranch</td>\n",
              "      <td>2021</td>\n",
              "      <td>45979</td>\n",
              "      <td>Gasoline</td>\n",
              "      <td>3.5L V6 24V PDI DOHC Twin Turbo</td>\n",
              "      <td>10-Speed Automatic</td>\n",
              "      <td>Black</td>\n",
              "      <td>Sandstone</td>\n",
              "      <td>None reported</td>\n",
              "      <td>Yes</td>\n",
              "      <td>2954083</td>\n",
              "    </tr>\n",
              "    <tr>\n",
              "      <th>92612</th>\n",
              "      <td>Lexus</td>\n",
              "      <td>ES 350 Base</td>\n",
              "      <td>2008</td>\n",
              "      <td>132252</td>\n",
              "      <td>Gasoline</td>\n",
              "      <td>272.0HP 3.5L V6 Cylinder Engine Gasoline Fuel</td>\n",
              "      <td>6-Speed A/T</td>\n",
              "      <td>White</td>\n",
              "      <td>Beige</td>\n",
              "      <td>At least 1 accident or damage reported</td>\n",
              "      <td>Yes</td>\n",
              "      <td>2954083</td>\n",
              "    </tr>\n",
              "    <tr>\n",
              "      <th>96473</th>\n",
              "      <td>Ford</td>\n",
              "      <td>Expedition Max Limited</td>\n",
              "      <td>2022</td>\n",
              "      <td>18160</td>\n",
              "      <td>Gasoline</td>\n",
              "      <td>3.5L V6 24V PDI DOHC Twin Turbo</td>\n",
              "      <td>10-Speed Automatic</td>\n",
              "      <td>Oxford White</td>\n",
              "      <td>Camel Leather</td>\n",
              "      <td>None reported</td>\n",
              "      <td>Yes</td>\n",
              "      <td>2954083</td>\n",
              "    </tr>\n",
              "    <tr>\n",
              "      <th>97654</th>\n",
              "      <td>Pontiac</td>\n",
              "      <td>Firebird Trans Am</td>\n",
              "      <td>2001</td>\n",
              "      <td>64776</td>\n",
              "      <td>Gasoline</td>\n",
              "      <td>200.0HP 3.8L V6 Cylinder Engine Gasoline Fuel</td>\n",
              "      <td>4-Speed A/T</td>\n",
              "      <td>White</td>\n",
              "      <td>Beige</td>\n",
              "      <td>None reported</td>\n",
              "      <td>Yes</td>\n",
              "      <td>2954083</td>\n",
              "    </tr>\n",
              "    <tr>\n",
              "      <th>99283</th>\n",
              "      <td>Land</td>\n",
              "      <td>Rover Range Rover P525 HSE SWB</td>\n",
              "      <td>2020</td>\n",
              "      <td>65800</td>\n",
              "      <td>Gasoline</td>\n",
              "      <td>518.0HP 5.0L 8 Cylinder Engine Gasoline Fuel</td>\n",
              "      <td>Transmission w/Dual Shift Mode</td>\n",
              "      <td>White</td>\n",
              "      <td>White</td>\n",
              "      <td>None reported</td>\n",
              "      <td>Yes</td>\n",
              "      <td>2954083</td>\n",
              "    </tr>\n",
              "    <tr>\n",
              "      <th>103061</th>\n",
              "      <td>RAM</td>\n",
              "      <td>1500 Classic Warlock</td>\n",
              "      <td>2019</td>\n",
              "      <td>36757</td>\n",
              "      <td>Gasoline</td>\n",
              "      <td>5.7L V8 16V MPFI OHV</td>\n",
              "      <td>8-Speed Automatic</td>\n",
              "      <td>Diamond Black</td>\n",
              "      <td>Diesel Gray / Black</td>\n",
              "      <td>None reported</td>\n",
              "      <td>Yes</td>\n",
              "      <td>2954083</td>\n",
              "    </tr>\n",
              "    <tr>\n",
              "      <th>103189</th>\n",
              "      <td>Dodge</td>\n",
              "      <td>Ram 2500 Laramie Quad Cab</td>\n",
              "      <td>2005</td>\n",
              "      <td>27600</td>\n",
              "      <td>Diesel</td>\n",
              "      <td>250.0HP 5.9L Straight 6 Cylinder Engine Diesel...</td>\n",
              "      <td>4-Speed A/T</td>\n",
              "      <td>Red</td>\n",
              "      <td>Gray</td>\n",
              "      <td>None reported</td>\n",
              "      <td>Yes</td>\n",
              "      <td>2954083</td>\n",
              "    </tr>\n",
              "    <tr>\n",
              "      <th>118167</th>\n",
              "      <td>Chevrolet</td>\n",
              "      <td>Corvette Base</td>\n",
              "      <td>2007</td>\n",
              "      <td>54323</td>\n",
              "      <td>Gasoline</td>\n",
              "      <td>430.0HP 6.2L 8 Cylinder Engine Gasoline Fuel</td>\n",
              "      <td>A/T</td>\n",
              "      <td>White</td>\n",
              "      <td>Red</td>\n",
              "      <td>None reported</td>\n",
              "      <td>Yes</td>\n",
              "      <td>2954083</td>\n",
              "    </tr>\n",
              "    <tr>\n",
              "      <th>119162</th>\n",
              "      <td>Ford</td>\n",
              "      <td>Bronco Raptor</td>\n",
              "      <td>2023</td>\n",
              "      <td>4285</td>\n",
              "      <td>Gasoline</td>\n",
              "      <td>3.0L V6 24V GDI DOHC Twin Turbo</td>\n",
              "      <td>10-Speed Automatic</td>\n",
              "      <td>Oxford White</td>\n",
              "      <td>Black</td>\n",
              "      <td>None reported</td>\n",
              "      <td>NaN</td>\n",
              "      <td>2954083</td>\n",
              "    </tr>\n",
              "    <tr>\n",
              "      <th>128002</th>\n",
              "      <td>RAM</td>\n",
              "      <td>1500 Laramie</td>\n",
              "      <td>2022</td>\n",
              "      <td>13500</td>\n",
              "      <td>Gasoline</td>\n",
              "      <td>5.7L V8 16V MPFI OHV</td>\n",
              "      <td>8-Speed Automatic</td>\n",
              "      <td>Black</td>\n",
              "      <td>Black</td>\n",
              "      <td>None reported</td>\n",
              "      <td>Yes</td>\n",
              "      <td>2954083</td>\n",
              "    </tr>\n",
              "    <tr>\n",
              "      <th>129013</th>\n",
              "      <td>Mercedes-Benz</td>\n",
              "      <td>SL-Class SL600 Roadster</td>\n",
              "      <td>2005</td>\n",
              "      <td>32000</td>\n",
              "      <td>Gasoline</td>\n",
              "      <td>493.0HP 5.5L 12 Cylinder Engine Gasoline Fuel</td>\n",
              "      <td>5-Speed A/T</td>\n",
              "      <td>White</td>\n",
              "      <td>Beige</td>\n",
              "      <td>None reported</td>\n",
              "      <td>Yes</td>\n",
              "      <td>2954083</td>\n",
              "    </tr>\n",
              "    <tr>\n",
              "      <th>129054</th>\n",
              "      <td>INFINITI</td>\n",
              "      <td>QX60 Base</td>\n",
              "      <td>2017</td>\n",
              "      <td>84224</td>\n",
              "      <td>Gasoline</td>\n",
              "      <td>265.0HP 3.5L V6 Cylinder Engine Gasoline Fuel</td>\n",
              "      <td>A/T</td>\n",
              "      <td>Black</td>\n",
              "      <td>Black</td>\n",
              "      <td>At least 1 accident or damage reported</td>\n",
              "      <td>Yes</td>\n",
              "      <td>2954083</td>\n",
              "    </tr>\n",
              "    <tr>\n",
              "      <th>138122</th>\n",
              "      <td>Cadillac</td>\n",
              "      <td>Escalade Premium Luxury Platinum</td>\n",
              "      <td>2021</td>\n",
              "      <td>61830</td>\n",
              "      <td>Gasoline</td>\n",
              "      <td>6.2L V8 16V GDI OHV</td>\n",
              "      <td>10-Speed Automatic</td>\n",
              "      <td>Sandstone Metallic</td>\n",
              "      <td>Dark Auburn</td>\n",
              "      <td>None reported</td>\n",
              "      <td>Yes</td>\n",
              "      <td>2954083</td>\n",
              "    </tr>\n",
              "    <tr>\n",
              "      <th>150549</th>\n",
              "      <td>RAM</td>\n",
              "      <td>1500 Limited</td>\n",
              "      <td>2018</td>\n",
              "      <td>48306</td>\n",
              "      <td>Gasoline</td>\n",
              "      <td>395.0HP 5.7L 8 Cylinder Engine Gasoline Fuel</td>\n",
              "      <td>8-Speed A/T</td>\n",
              "      <td>Black</td>\n",
              "      <td>Gray</td>\n",
              "      <td>None reported</td>\n",
              "      <td>Yes</td>\n",
              "      <td>2954083</td>\n",
              "    </tr>\n",
              "    <tr>\n",
              "      <th>151415</th>\n",
              "      <td>Ford</td>\n",
              "      <td>Thunderbird Deluxe</td>\n",
              "      <td>2008</td>\n",
              "      <td>95170</td>\n",
              "      <td>Gasoline</td>\n",
              "      <td>280.0HP 3.9L 8 Cylinder Engine Gasoline Fuel</td>\n",
              "      <td>A/T</td>\n",
              "      <td>Gray</td>\n",
              "      <td>Black</td>\n",
              "      <td>None reported</td>\n",
              "      <td>Yes</td>\n",
              "      <td>2954083</td>\n",
              "    </tr>\n",
              "    <tr>\n",
              "      <th>157056</th>\n",
              "      <td>Cadillac</td>\n",
              "      <td>XT5 Luxury</td>\n",
              "      <td>2021</td>\n",
              "      <td>16156</td>\n",
              "      <td>Gasoline</td>\n",
              "      <td>3.6L V6 24V MPFI DOHC</td>\n",
              "      <td>8-Speed Automatic</td>\n",
              "      <td>Shadow Black</td>\n",
              "      <td>Shara Beige</td>\n",
              "      <td>None reported</td>\n",
              "      <td>Yes</td>\n",
              "      <td>2954083</td>\n",
              "    </tr>\n",
              "    <tr>\n",
              "      <th>160629</th>\n",
              "      <td>Honda</td>\n",
              "      <td>Pilot Elite</td>\n",
              "      <td>2021</td>\n",
              "      <td>42653</td>\n",
              "      <td>Gasoline</td>\n",
              "      <td>3.5L V6 24V GDI SOHC</td>\n",
              "      <td>9-Speed Automatic</td>\n",
              "      <td>Gray</td>\n",
              "      <td>Black</td>\n",
              "      <td>NaN</td>\n",
              "      <td>NaN</td>\n",
              "      <td>2954083</td>\n",
              "    </tr>\n",
              "    <tr>\n",
              "      <th>163487</th>\n",
              "      <td>Land</td>\n",
              "      <td>Rover Range Rover Sport HST MHEV</td>\n",
              "      <td>2022</td>\n",
              "      <td>16648</td>\n",
              "      <td>Gasoline</td>\n",
              "      <td>395.0HP 3.0L Straight 6 Cylinder Engine Gasoli...</td>\n",
              "      <td>8-Speed A/T</td>\n",
              "      <td>Gray</td>\n",
              "      <td>Black</td>\n",
              "      <td>None reported</td>\n",
              "      <td>Yes</td>\n",
              "      <td>2954083</td>\n",
              "    </tr>\n",
              "    <tr>\n",
              "      <th>172766</th>\n",
              "      <td>Lexus</td>\n",
              "      <td>SC 430 Base</td>\n",
              "      <td>2004</td>\n",
              "      <td>89500</td>\n",
              "      <td>Gasoline</td>\n",
              "      <td>300.0HP 4.3L 8 Cylinder Engine Gasoline Fuel</td>\n",
              "      <td>A/T</td>\n",
              "      <td>Silver</td>\n",
              "      <td>Black</td>\n",
              "      <td>None reported</td>\n",
              "      <td>Yes</td>\n",
              "      <td>2954083</td>\n",
              "    </tr>\n",
              "    <tr>\n",
              "      <th>176936</th>\n",
              "      <td>Cadillac</td>\n",
              "      <td>Escalade ESV Platinum</td>\n",
              "      <td>2015</td>\n",
              "      <td>73800</td>\n",
              "      <td>Gasoline</td>\n",
              "      <td>420.0HP 6.2L 8 Cylinder Engine Gasoline Fuel</td>\n",
              "      <td>8-Speed A/T</td>\n",
              "      <td>Black</td>\n",
              "      <td>Black</td>\n",
              "      <td>None reported</td>\n",
              "      <td>Yes</td>\n",
              "      <td>2954083</td>\n",
              "    </tr>\n",
              "    <tr>\n",
              "      <th>181021</th>\n",
              "      <td>Cadillac</td>\n",
              "      <td>DeVille Base</td>\n",
              "      <td>1994</td>\n",
              "      <td>85200</td>\n",
              "      <td>–</td>\n",
              "      <td>–</td>\n",
              "      <td>A/T</td>\n",
              "      <td>Green</td>\n",
              "      <td>Beige</td>\n",
              "      <td>None reported</td>\n",
              "      <td>Yes</td>\n",
              "      <td>2954083</td>\n",
              "    </tr>\n",
              "    <tr>\n",
              "      <th>183006</th>\n",
              "      <td>Land</td>\n",
              "      <td>Rover LR4 Lux</td>\n",
              "      <td>2010</td>\n",
              "      <td>73846</td>\n",
              "      <td>Gasoline</td>\n",
              "      <td>5.0L V8 32V PDI DOHC</td>\n",
              "      <td>8-Speed Automatic</td>\n",
              "      <td>Black</td>\n",
              "      <td>Black</td>\n",
              "      <td>At least 1 accident or damage reported</td>\n",
              "      <td>Yes</td>\n",
              "      <td>2954083</td>\n",
              "    </tr>\n",
              "    <tr>\n",
              "      <th>183468</th>\n",
              "      <td>Bentley</td>\n",
              "      <td>Continental GT V8</td>\n",
              "      <td>2021</td>\n",
              "      <td>59766</td>\n",
              "      <td>Gasoline</td>\n",
              "      <td>4.0L V8 32V GDI DOHC Twin Turbo</td>\n",
              "      <td>8-Speed Automatic</td>\n",
              "      <td>Dark Sapphire</td>\n",
              "      <td>Linen</td>\n",
              "      <td>None reported</td>\n",
              "      <td>Yes</td>\n",
              "      <td>2954083</td>\n",
              "    </tr>\n",
              "  </tbody>\n",
              "</table>\n",
              "</div>\n",
              "    <div class=\"colab-df-buttons\">\n",
              "\n",
              "  <div class=\"colab-df-container\">\n",
              "    <button class=\"colab-df-convert\" onclick=\"convertToInteractive('df-b9b8c19c-26bc-4b29-a86c-7be61178f80e')\"\n",
              "            title=\"Convert this dataframe to an interactive table.\"\n",
              "            style=\"display:none;\">\n",
              "\n",
              "  <svg xmlns=\"http://www.w3.org/2000/svg\" height=\"24px\" viewBox=\"0 -960 960 960\">\n",
              "    <path d=\"M120-120v-720h720v720H120Zm60-500h600v-160H180v160Zm220 220h160v-160H400v160Zm0 220h160v-160H400v160ZM180-400h160v-160H180v160Zm440 0h160v-160H620v160ZM180-180h160v-160H180v160Zm440 0h160v-160H620v160Z\"/>\n",
              "  </svg>\n",
              "    </button>\n",
              "\n",
              "  <style>\n",
              "    .colab-df-container {\n",
              "      display:flex;\n",
              "      gap: 12px;\n",
              "    }\n",
              "\n",
              "    .colab-df-convert {\n",
              "      background-color: #E8F0FE;\n",
              "      border: none;\n",
              "      border-radius: 50%;\n",
              "      cursor: pointer;\n",
              "      display: none;\n",
              "      fill: #1967D2;\n",
              "      height: 32px;\n",
              "      padding: 0 0 0 0;\n",
              "      width: 32px;\n",
              "    }\n",
              "\n",
              "    .colab-df-convert:hover {\n",
              "      background-color: #E2EBFA;\n",
              "      box-shadow: 0px 1px 2px rgba(60, 64, 67, 0.3), 0px 1px 3px 1px rgba(60, 64, 67, 0.15);\n",
              "      fill: #174EA6;\n",
              "    }\n",
              "\n",
              "    .colab-df-buttons div {\n",
              "      margin-bottom: 4px;\n",
              "    }\n",
              "\n",
              "    [theme=dark] .colab-df-convert {\n",
              "      background-color: #3B4455;\n",
              "      fill: #D2E3FC;\n",
              "    }\n",
              "\n",
              "    [theme=dark] .colab-df-convert:hover {\n",
              "      background-color: #434B5C;\n",
              "      box-shadow: 0px 1px 3px 1px rgba(0, 0, 0, 0.15);\n",
              "      filter: drop-shadow(0px 1px 2px rgba(0, 0, 0, 0.3));\n",
              "      fill: #FFFFFF;\n",
              "    }\n",
              "  </style>\n",
              "\n",
              "    <script>\n",
              "      const buttonEl =\n",
              "        document.querySelector('#df-b9b8c19c-26bc-4b29-a86c-7be61178f80e button.colab-df-convert');\n",
              "      buttonEl.style.display =\n",
              "        google.colab.kernel.accessAllowed ? 'block' : 'none';\n",
              "\n",
              "      async function convertToInteractive(key) {\n",
              "        const element = document.querySelector('#df-b9b8c19c-26bc-4b29-a86c-7be61178f80e');\n",
              "        const dataTable =\n",
              "          await google.colab.kernel.invokeFunction('convertToInteractive',\n",
              "                                                    [key], {});\n",
              "        if (!dataTable) return;\n",
              "\n",
              "        const docLinkHtml = 'Like what you see? Visit the ' +\n",
              "          '<a target=\"_blank\" href=https://colab.research.google.com/notebooks/data_table.ipynb>data table notebook</a>'\n",
              "          + ' to learn more about interactive tables.';\n",
              "        element.innerHTML = '';\n",
              "        dataTable['output_type'] = 'display_data';\n",
              "        await google.colab.output.renderOutput(dataTable, element);\n",
              "        const docLink = document.createElement('div');\n",
              "        docLink.innerHTML = docLinkHtml;\n",
              "        element.appendChild(docLink);\n",
              "      }\n",
              "    </script>\n",
              "  </div>\n",
              "\n",
              "\n",
              "<div id=\"df-b46f3304-8cb8-4083-93ac-ef2e3a31e0b3\">\n",
              "  <button class=\"colab-df-quickchart\" onclick=\"quickchart('df-b46f3304-8cb8-4083-93ac-ef2e3a31e0b3')\"\n",
              "            title=\"Suggest charts\"\n",
              "            style=\"display:none;\">\n",
              "\n",
              "<svg xmlns=\"http://www.w3.org/2000/svg\" height=\"24px\"viewBox=\"0 0 24 24\"\n",
              "     width=\"24px\">\n",
              "    <g>\n",
              "        <path d=\"M19 3H5c-1.1 0-2 .9-2 2v14c0 1.1.9 2 2 2h14c1.1 0 2-.9 2-2V5c0-1.1-.9-2-2-2zM9 17H7v-7h2v7zm4 0h-2V7h2v10zm4 0h-2v-4h2v4z\"/>\n",
              "    </g>\n",
              "</svg>\n",
              "  </button>\n",
              "\n",
              "<style>\n",
              "  .colab-df-quickchart {\n",
              "      --bg-color: #E8F0FE;\n",
              "      --fill-color: #1967D2;\n",
              "      --hover-bg-color: #E2EBFA;\n",
              "      --hover-fill-color: #174EA6;\n",
              "      --disabled-fill-color: #AAA;\n",
              "      --disabled-bg-color: #DDD;\n",
              "  }\n",
              "\n",
              "  [theme=dark] .colab-df-quickchart {\n",
              "      --bg-color: #3B4455;\n",
              "      --fill-color: #D2E3FC;\n",
              "      --hover-bg-color: #434B5C;\n",
              "      --hover-fill-color: #FFFFFF;\n",
              "      --disabled-bg-color: #3B4455;\n",
              "      --disabled-fill-color: #666;\n",
              "  }\n",
              "\n",
              "  .colab-df-quickchart {\n",
              "    background-color: var(--bg-color);\n",
              "    border: none;\n",
              "    border-radius: 50%;\n",
              "    cursor: pointer;\n",
              "    display: none;\n",
              "    fill: var(--fill-color);\n",
              "    height: 32px;\n",
              "    padding: 0;\n",
              "    width: 32px;\n",
              "  }\n",
              "\n",
              "  .colab-df-quickchart:hover {\n",
              "    background-color: var(--hover-bg-color);\n",
              "    box-shadow: 0 1px 2px rgba(60, 64, 67, 0.3), 0 1px 3px 1px rgba(60, 64, 67, 0.15);\n",
              "    fill: var(--button-hover-fill-color);\n",
              "  }\n",
              "\n",
              "  .colab-df-quickchart-complete:disabled,\n",
              "  .colab-df-quickchart-complete:disabled:hover {\n",
              "    background-color: var(--disabled-bg-color);\n",
              "    fill: var(--disabled-fill-color);\n",
              "    box-shadow: none;\n",
              "  }\n",
              "\n",
              "  .colab-df-spinner {\n",
              "    border: 2px solid var(--fill-color);\n",
              "    border-color: transparent;\n",
              "    border-bottom-color: var(--fill-color);\n",
              "    animation:\n",
              "      spin 1s steps(1) infinite;\n",
              "  }\n",
              "\n",
              "  @keyframes spin {\n",
              "    0% {\n",
              "      border-color: transparent;\n",
              "      border-bottom-color: var(--fill-color);\n",
              "      border-left-color: var(--fill-color);\n",
              "    }\n",
              "    20% {\n",
              "      border-color: transparent;\n",
              "      border-left-color: var(--fill-color);\n",
              "      border-top-color: var(--fill-color);\n",
              "    }\n",
              "    30% {\n",
              "      border-color: transparent;\n",
              "      border-left-color: var(--fill-color);\n",
              "      border-top-color: var(--fill-color);\n",
              "      border-right-color: var(--fill-color);\n",
              "    }\n",
              "    40% {\n",
              "      border-color: transparent;\n",
              "      border-right-color: var(--fill-color);\n",
              "      border-top-color: var(--fill-color);\n",
              "    }\n",
              "    60% {\n",
              "      border-color: transparent;\n",
              "      border-right-color: var(--fill-color);\n",
              "    }\n",
              "    80% {\n",
              "      border-color: transparent;\n",
              "      border-right-color: var(--fill-color);\n",
              "      border-bottom-color: var(--fill-color);\n",
              "    }\n",
              "    90% {\n",
              "      border-color: transparent;\n",
              "      border-bottom-color: var(--fill-color);\n",
              "    }\n",
              "  }\n",
              "</style>\n",
              "\n",
              "  <script>\n",
              "    async function quickchart(key) {\n",
              "      const quickchartButtonEl =\n",
              "        document.querySelector('#' + key + ' button');\n",
              "      quickchartButtonEl.disabled = true;  // To prevent multiple clicks.\n",
              "      quickchartButtonEl.classList.add('colab-df-spinner');\n",
              "      try {\n",
              "        const charts = await google.colab.kernel.invokeFunction(\n",
              "            'suggestCharts', [key], {});\n",
              "      } catch (error) {\n",
              "        console.error('Error during call to suggestCharts:', error);\n",
              "      }\n",
              "      quickchartButtonEl.classList.remove('colab-df-spinner');\n",
              "      quickchartButtonEl.classList.add('colab-df-quickchart-complete');\n",
              "    }\n",
              "    (() => {\n",
              "      let quickchartButtonEl =\n",
              "        document.querySelector('#df-b46f3304-8cb8-4083-93ac-ef2e3a31e0b3 button');\n",
              "      quickchartButtonEl.style.display =\n",
              "        google.colab.kernel.accessAllowed ? 'block' : 'none';\n",
              "    })();\n",
              "  </script>\n",
              "</div>\n",
              "\n",
              "    </div>\n",
              "  </div>\n"
            ],
            "application/vnd.google.colaboratory.intrinsic+json": {
              "type": "dataframe",
              "summary": "{\n  \"name\": \"train_dataset[train_dataset['price'] == train_dataset['price']\",\n  \"rows\": 50,\n  \"fields\": [\n    {\n      \"column\": \"id\",\n      \"properties\": {\n        \"dtype\": \"number\",\n        \"std\": 52098,\n        \"min\": 220,\n        \"max\": 183468,\n        \"num_unique_values\": 50,\n        \"samples\": [\n          55428,\n          138122,\n          97654\n        ],\n        \"semantic_type\": \"\",\n        \"description\": \"\"\n      }\n    },\n    {\n      \"column\": \"brand\",\n      \"properties\": {\n        \"dtype\": \"category\",\n        \"num_unique_values\": 19,\n        \"samples\": [\n          \"Ford\",\n          \"Audi\",\n          \"Aston\"\n        ],\n        \"semantic_type\": \"\",\n        \"description\": \"\"\n      }\n    },\n    {\n      \"column\": \"model\",\n      \"properties\": {\n        \"dtype\": \"string\",\n        \"num_unique_values\": 46,\n        \"samples\": [\n          \"Pilot Elite\",\n          \"Expedition Max King Ranch\",\n          \"ES 350 Base\"\n        ],\n        \"semantic_type\": \"\",\n        \"description\": \"\"\n      }\n    },\n    {\n      \"column\": \"model_year\",\n      \"properties\": {\n        \"dtype\": \"number\",\n        \"std\": 8,\n        \"min\": 1994,\n        \"max\": 2023,\n        \"num_unique_values\": 18,\n        \"samples\": [\n          2021,\n          2003,\n          2017\n        ],\n        \"semantic_type\": \"\",\n        \"description\": \"\"\n      }\n    },\n    {\n      \"column\": \"milage\",\n      \"properties\": {\n        \"dtype\": \"number\",\n        \"std\": 33622,\n        \"min\": 2750,\n        \"max\": 132252,\n        \"num_unique_values\": 47,\n        \"samples\": [\n          132252,\n          95170,\n          45979\n        ],\n        \"semantic_type\": \"\",\n        \"description\": \"\"\n      }\n    },\n    {\n      \"column\": \"fuel_type\",\n      \"properties\": {\n        \"dtype\": \"category\",\n        \"num_unique_values\": 4,\n        \"samples\": [\n          \"Diesel\",\n          \"\\u2013\",\n          \"Gasoline\"\n        ],\n        \"semantic_type\": \"\",\n        \"description\": \"\"\n      }\n    },\n    {\n      \"column\": \"engine\",\n      \"properties\": {\n        \"dtype\": \"string\",\n        \"num_unique_values\": 41,\n        \"samples\": [\n          \"272.0HP 3.5L V6 Cylinder Engine Gasoline Fuel\",\n          \"290.0HP 4.3L 8 Cylinder Engine Gasoline Fuel\",\n          \"300.0HP 4.6L 8 Cylinder Engine Gasoline Fuel\"\n        ],\n        \"semantic_type\": \"\",\n        \"description\": \"\"\n      }\n    },\n    {\n      \"column\": \"transmission\",\n      \"properties\": {\n        \"dtype\": \"category\",\n        \"num_unique_values\": 15,\n        \"samples\": [\n          \"A/T\",\n          \"9-Speed Automatic\",\n          \"10-Speed Automatic\"\n        ],\n        \"semantic_type\": \"\",\n        \"description\": \"\"\n      }\n    },\n    {\n      \"column\": \"ext_col\",\n      \"properties\": {\n        \"dtype\": \"category\",\n        \"num_unique_values\": 18,\n        \"samples\": [\n          \"Agate Black Metallic\",\n          \"Beige\",\n          \"Silver\"\n        ],\n        \"semantic_type\": \"\",\n        \"description\": \"\"\n      }\n    },\n    {\n      \"column\": \"int_col\",\n      \"properties\": {\n        \"dtype\": \"category\",\n        \"num_unique_values\": 15,\n        \"samples\": [\n          \"Camel Leather\",\n          \"Diesel Gray / Black\",\n          \"Black\"\n        ],\n        \"semantic_type\": \"\",\n        \"description\": \"\"\n      }\n    },\n    {\n      \"column\": \"accident\",\n      \"properties\": {\n        \"dtype\": \"category\",\n        \"num_unique_values\": 2,\n        \"samples\": [\n          \"At least 1 accident or damage reported\",\n          \"None reported\"\n        ],\n        \"semantic_type\": \"\",\n        \"description\": \"\"\n      }\n    },\n    {\n      \"column\": \"clean_title\",\n      \"properties\": {\n        \"dtype\": \"category\",\n        \"num_unique_values\": 1,\n        \"samples\": [\n          \"Yes\"\n        ],\n        \"semantic_type\": \"\",\n        \"description\": \"\"\n      }\n    },\n    {\n      \"column\": \"price\",\n      \"properties\": {\n        \"dtype\": \"number\",\n        \"std\": 0,\n        \"min\": 2954083,\n        \"max\": 2954083,\n        \"num_unique_values\": 1,\n        \"samples\": [\n          2954083\n        ],\n        \"semantic_type\": \"\",\n        \"description\": \"\"\n      }\n    }\n  ]\n}"
            }
          },
          "metadata": {},
          "execution_count": 12
        }
      ],
      "source": [
        "train_dataset[train_dataset['price'] == train_dataset['price'].max()]"
      ]
    },
    {
      "cell_type": "code",
      "execution_count": null,
      "metadata": {
        "colab": {
          "base_uri": "https://localhost:8080/"
        },
        "id": "YXIWNC1fo1BL",
        "outputId": "c98afe66-a2af-4cad-a8f0-c1b9228e98c2"
      },
      "outputs": [
        {
          "output_type": "execute_result",
          "data": {
            "text/plain": [
              "2000"
            ]
          },
          "metadata": {},
          "execution_count": 13
        }
      ],
      "source": [
        "train_dataset['price'].min()"
      ]
    },
    {
      "cell_type": "code",
      "execution_count": null,
      "metadata": {
        "colab": {
          "base_uri": "https://localhost:8080/",
          "height": 1000
        },
        "id": "1cvznc_BodWy",
        "outputId": "f934093d-a93e-4074-f2a1-4e77ae3bc839"
      },
      "outputs": [
        {
          "output_type": "execute_result",
          "data": {
            "text/plain": [
              "                brand                    model  model_year  milage fuel_type  \\\n",
              "id                                                                             \n",
              "758           Pontiac        Firebird Trans Am        2001  150000  Gasoline   \n",
              "3681           Toyota        Camry Hybrid Base        2003  155000    Hybrid   \n",
              "4781           Toyota         Camry Solara SLE        2001   73690  Gasoline   \n",
              "11146       Chevrolet           Monte Carlo SS        2001   64776  Gasoline   \n",
              "12655   Mercedes-Benz         SLK-Class SLK320        2003  107000  Gasoline   \n",
              "17482             GMC            Terrain SLT-1        2003   90000  Gasoline   \n",
              "17849           Acura              MDX Touring        2007  116000  Gasoline   \n",
              "18918            Ford      Dakota SLT Quad Cab        2002  138000  Gasoline   \n",
              "19305      Mitsubishi        Eclipse Spyder GT        2003  120000  Gasoline   \n",
              "22415         Lincoln       Town Car Signature        2003  120000  Gasoline   \n",
              "27859          Nissan     Frontier SE Crew Cab        2004  123000  Gasoline   \n",
              "30223           Lexus               RX 300 4WD        1999  170000  Gasoline   \n",
              "30633      Volkswagen           New Beetle GLS        2001   63250  Gasoline   \n",
              "31264      Volkswagen  Golf GTI 2.0T SE 4-Door        2012  132000  Gasoline   \n",
              "35025          Toyota                Celica GT        2001  130000  Gasoline   \n",
              "35158             BMW                  M3 Base        2003   91677  Gasoline   \n",
              "37932             Kia                Optima EX        2000  130000  Gasoline   \n",
              "38172       Chevrolet            Corvette Base        2008  130000  Gasoline   \n",
              "38975           Mazda          MX-5 Miata Base        1999  150000  Gasoline   \n",
              "39462          Toyota        Land Cruiser Base        2004   57300  Gasoline   \n",
              "42348         Pontiac            Firebird Base        1999  158000  Gasoline   \n",
              "42901           Honda                  CR-V EX        2004  169613  Gasoline   \n",
              "68563           Mazda          MX-5 Miata Base        2001  130000  Gasoline   \n",
              "71469       Chevrolet               Camaro 1LT        2003   95000  Gasoline   \n",
              "72637           Dodge             Dakota Sport        2003  192100  Gasoline   \n",
              "72898      Volkswagen               Eurovan MV        1995  220000  Gasoline   \n",
              "81089       Chevrolet            Corvette Base        2001  199000  Gasoline   \n",
              "83191            Ford          Mustang Premium        2005  170000  Gasoline   \n",
              "90396          Toyota    Tundra SR5 Access Cab        2004  120000  Gasoline   \n",
              "91491           Lexus              GX 470 Base        2001  177600  Gasoline   \n",
              "92276            Ford       Thunderbird Deluxe        2004  160000  Gasoline   \n",
              "92864           Honda          Prelude Type SH        2001  125000  Gasoline   \n",
              "105435       Cadillac             DeVille Base        1994   58981         –   \n",
              "112731      Chevrolet                   C70 T5        2006  143250  Gasoline   \n",
              "113757           Ford               Mustang GT        2010  136400  Gasoline   \n",
              "114798          Honda          Prelude Type SH        2001  170000  Gasoline   \n",
              "118675         Nissan             350Z Touring        2001   42000  Gasoline   \n",
              "120038          Lexus              GX 470 Base        2004  170000  Gasoline   \n",
              "121877  Mercedes-Benz  CLK-Class 500 Cabriolet        2001  127131  Gasoline   \n",
              "126014         Toyota      Camry Solara SLE V6        2006  114528  Gasoline   \n",
              "128877        Hyundai                Tucson SE        2007   16200  Gasoline   \n",
              "135298         Jaguar                 XK8 Base        1999   50000  Gasoline   \n",
              "135589        Pontiac        Firebird Trans Am        2001   80081  Gasoline   \n",
              "137288           Ford        Excursion XLT 4WD        2002  205000  Gasoline   \n",
              "143210           Land    Rover Range Rover HSE        2003   49500  Gasoline   \n",
              "144152          Honda                  CR-V EX        2008  184421  Gasoline   \n",
              "145017           Land       Rover Discovery SE        2004  120000  Gasoline   \n",
              "152120          Lexus              RX 330 Base        2002  178000  Gasoline   \n",
              "155411           Audi     A5 2.0T Premium Plus        2012  130000  Gasoline   \n",
              "162810           Land       Rover Discovery SE        2000  170000  Gasoline   \n",
              "165920           Ford               Edge Sport        2004  184000  Gasoline   \n",
              "169864           Jeep              Wrangler SE        2001   95200  Gasoline   \n",
              "174768          Volvo                    S60 R        2005  110000  Gasoline   \n",
              "175756        Porsche             Boxster Base        1999  132800  Gasoline   \n",
              "176332           MINI            Cooper S Base        2004  130000  Gasoline   \n",
              "179173       INFINITI                QX60 Base        2010  117200  Gasoline   \n",
              "\n",
              "                                                   engine  \\\n",
              "id                                                          \n",
              "758          310.0HP 5.7L 8 Cylinder Engine Gasoline Fuel   \n",
              "3681    147.0HP 2.4L 4 Cylinder Engine Gas/Electric Hy...   \n",
              "4781        200.0HP 3.8L V6 Cylinder Engine Gasoline Fuel   \n",
              "11146       200.0HP 3.8L V6 Cylinder Engine Gasoline Fuel   \n",
              "12655       215.0HP 3.2L V6 Cylinder Engine Gasoline Fuel   \n",
              "17482        181.0HP 2.5L 4 Cylinder Engine Gasoline Fuel   \n",
              "17849       260.0HP 3.5L V6 Cylinder Engine Gasoline Fuel   \n",
              "18918        220.0HP 4.6L 8 Cylinder Engine Gasoline Fuel   \n",
              "19305       260.0HP 3.8L V6 Cylinder Engine Gasoline Fuel   \n",
              "22415        239.0HP 4.6L 8 Cylinder Engine Gasoline Fuel   \n",
              "27859       245.0HP 4.0L V6 Cylinder Engine Gasoline Fuel   \n",
              "30223       220.0HP 3.0L V6 Cylinder Engine Gasoline Fuel   \n",
              "30633        115.0HP 2.0L 4 Cylinder Engine Gasoline Fuel   \n",
              "31264        210.0HP 2.0L 4 Cylinder Engine Gasoline Fuel   \n",
              "35025        140.0HP 1.8L 4 Cylinder Engine Gasoline Fuel   \n",
              "35158   333.0HP 3.2L Straight 6 Cylinder Engine Gasoli...   \n",
              "37932        200.0HP 2.4L 4 Cylinder Engine Gasoline Fuel   \n",
              "38172        345.0HP 5.7L 8 Cylinder Engine Gasoline Fuel   \n",
              "38975        140.0HP 1.8L 4 Cylinder Engine Gasoline Fuel   \n",
              "39462        230.0HP 4.7L 8 Cylinder Engine Gasoline Fuel   \n",
              "42348       200.0HP 3.8L V6 Cylinder Engine Gasoline Fuel   \n",
              "42901        150.0HP 2.4L 4 Cylinder Engine Gasoline Fuel   \n",
              "68563        140.0HP 1.8L 4 Cylinder Engine Gasoline Fuel   \n",
              "71469       312.0HP 3.6L V6 Cylinder Engine Gasoline Fuel   \n",
              "72637       210.0HP 3.7L V6 Cylinder Engine Gasoline Fuel   \n",
              "72898       140.0HP 2.8L V6 Cylinder Engine Gasoline Fuel   \n",
              "81089        300.0HP 5.4L 8 Cylinder Engine Gasoline Fuel   \n",
              "83191       210.0HP 4.0L V6 Cylinder Engine Gasoline Fuel   \n",
              "90396        282.0HP 4.7L 8 Cylinder Engine Gasoline Fuel   \n",
              "91491        263.0HP 4.7L 8 Cylinder Engine Gasoline Fuel   \n",
              "92276   225.0HP 3.0L Straight 6 Cylinder Engine Gasoli...   \n",
              "92864        200.0HP 2.2L 4 Cylinder Engine Gasoline Fuel   \n",
              "105435                                                  –   \n",
              "112731       295.0HP 5.3L 8 Cylinder Engine Gasoline Fuel   \n",
              "113757       315.0HP 4.6L 8 Cylinder Engine Gasoline Fuel   \n",
              "114798      210.0HP 3.0L V6 Cylinder Engine Gasoline Fuel   \n",
              "118675       200.0HP 2.0L 4 Cylinder Engine Gasoline Fuel   \n",
              "120038       235.0HP 4.7L 8 Cylinder Engine Gasoline Fuel   \n",
              "121877       302.0HP 5.0L 8 Cylinder Engine Gasoline Fuel   \n",
              "126014      225.0HP 3.3L V6 Cylinder Engine Gasoline Fuel   \n",
              "128877      173.0HP 2.7L V6 Cylinder Engine Gasoline Fuel   \n",
              "135298       290.0HP 4.0L 8 Cylinder Engine Gasoline Fuel   \n",
              "135589       310.0HP 5.7L 8 Cylinder Engine Gasoline Fuel   \n",
              "137288      310.0HP 6.8L 10 Cylinder Engine Gasoline Fuel   \n",
              "143210  230.0HP 3.2L Straight 6 Cylinder Engine Gasoli...   \n",
              "144152       160.0HP 2.4L 4 Cylinder Engine Gasoline Fuel   \n",
              "145017       217.0HP 4.6L 8 Cylinder Engine Gasoline Fuel   \n",
              "152120      230.0HP 3.3L V6 Cylinder Engine Gasoline Fuel   \n",
              "155411       211.0HP 2.0L 4 Cylinder Engine Gasoline Fuel   \n",
              "162810       217.0HP 4.6L 8 Cylinder Engine Gasoline Fuel   \n",
              "165920       300.0HP 5.4L 8 Cylinder Engine Gasoline Fuel   \n",
              "169864       150.0HP 2.4L 4 Cylinder Engine Gasoline Fuel   \n",
              "174768       230.0HP 4.7L 8 Cylinder Engine Gasoline Fuel   \n",
              "175756  201.0HP 2.5L Flat 6 Cylinder Engine Gasoline Fuel   \n",
              "176332       172.0HP 1.6L 4 Cylinder Engine Gasoline Fuel   \n",
              "179173      265.0HP 3.5L V6 Cylinder Engine Gasoline Fuel   \n",
              "\n",
              "                          transmission ext_col int_col  \\\n",
              "id                                                       \n",
              "758                                A/T   Black   Beige   \n",
              "3681                               A/T  Silver   Beige   \n",
              "4781                               A/T   Black    Gray   \n",
              "11146                      4-Speed A/T    Gray   Black   \n",
              "12655                      5-Speed A/T   Black   Black   \n",
              "17482                      5-Speed A/T    Blue   Beige   \n",
              "17849                              A/T    Gray   Brown   \n",
              "18918                              A/T    Blue    Gray   \n",
              "19305                              A/T   Black   Black   \n",
              "22415                      4-Speed A/T   Black    Gray   \n",
              "27859                              A/T   Black   Beige   \n",
              "30223                              A/T    Blue   Beige   \n",
              "30633                      4-Speed A/T  Yellow   Black   \n",
              "31264                      6-Speed M/T   White   Black   \n",
              "35025                      5-Speed M/T    Blue    Gray   \n",
              "35158                      6-Speed M/T   Black   Black   \n",
              "37932                              A/T   Black   Beige   \n",
              "38172                      6-Speed M/T     Red   Black   \n",
              "38975                              A/T  Silver   Black   \n",
              "39462                              A/T   White   Black   \n",
              "42348                              A/T   White   Beige   \n",
              "42901                              M/T  Silver    Gray   \n",
              "68563                      5-Speed M/T  Yellow   Black   \n",
              "71469                              A/T   Black   Black   \n",
              "72637                              A/T   Black    Gray   \n",
              "72898                              A/T   Beige       –   \n",
              "81089   Transmission w/Dual Shift Mode   Black   Beige   \n",
              "83191                      4-Speed A/T   Black   Beige   \n",
              "90396                              A/T     Red       –   \n",
              "91491                              A/T   Black   Black   \n",
              "92276                              A/T    Blue    Gray   \n",
              "92864                              M/T     Red   Black   \n",
              "105435                             A/T   White    Blue   \n",
              "112731                     6-Speed M/T    Gray   Black   \n",
              "113757                     5-Speed M/T   White     Red   \n",
              "114798                             A/T   Black   Black   \n",
              "118675                     6-Speed M/T   Black  Orange   \n",
              "120038                             A/T   Black    Gray   \n",
              "121877                             A/T  Silver   Black   \n",
              "126014                             A/T   Black    Gray   \n",
              "128877                             A/T  Silver    Gray   \n",
              "135298                     5-Speed A/T    Blue   Beige   \n",
              "135589                     4-Speed A/T  Purple   Black   \n",
              "137288                             A/T   Black   Beige   \n",
              "143210                             A/T   White   Beige   \n",
              "144152                             A/T   Brown   Black   \n",
              "145017                             A/T  Silver    Gray   \n",
              "152120                     6-Speed A/T   Black   Black   \n",
              "155411                             A/T  Silver   Black   \n",
              "162810                             A/T   Black   Beige   \n",
              "165920                             A/T   Black    Gray   \n",
              "169864                             A/T    Gold   Black   \n",
              "174768                     4-Speed A/T   Black   Beige   \n",
              "175756                     5-Speed M/T     Red   Beige   \n",
              "176332                             A/T   White   Black   \n",
              "179173                             A/T    Gray   Black   \n",
              "\n",
              "                                      accident clean_title  price  \n",
              "id                                                                 \n",
              "758                              None reported         Yes   2000  \n",
              "3681    At least 1 accident or damage reported         Yes   2000  \n",
              "4781                             None reported         Yes   2000  \n",
              "11146                            None reported         Yes   2000  \n",
              "12655                            None reported         Yes   2000  \n",
              "17482                            None reported         Yes   2000  \n",
              "17849   At least 1 accident or damage reported         Yes   2000  \n",
              "18918                            None reported         Yes   2000  \n",
              "19305   At least 1 accident or damage reported         Yes   2000  \n",
              "22415                            None reported         Yes   2000  \n",
              "27859   At least 1 accident or damage reported         Yes   2000  \n",
              "30223   At least 1 accident or damage reported         Yes   2000  \n",
              "30633                            None reported         Yes   2000  \n",
              "31264                            None reported         Yes   2000  \n",
              "35025                            None reported         Yes   2000  \n",
              "35158                            None reported         Yes   2000  \n",
              "37932                            None reported         Yes   2000  \n",
              "38172                            None reported         Yes   2000  \n",
              "38975   At least 1 accident or damage reported         Yes   2000  \n",
              "39462                            None reported         Yes   2000  \n",
              "42348   At least 1 accident or damage reported         Yes   2000  \n",
              "42901                            None reported         Yes   2000  \n",
              "68563                            None reported         Yes   2000  \n",
              "71469                            None reported         Yes   2000  \n",
              "72637   At least 1 accident or damage reported         Yes   2000  \n",
              "72898                            None reported         Yes   2000  \n",
              "81089                            None reported         Yes   2000  \n",
              "83191                            None reported         Yes   2000  \n",
              "90396                            None reported         Yes   2000  \n",
              "91491                            None reported         Yes   2000  \n",
              "92276                            None reported         Yes   2000  \n",
              "92864                            None reported         Yes   2000  \n",
              "105435  At least 1 accident or damage reported         Yes   2000  \n",
              "112731                           None reported         Yes   2000  \n",
              "113757  At least 1 accident or damage reported         Yes   2000  \n",
              "114798  At least 1 accident or damage reported         Yes   2000  \n",
              "118675                                     NaN         NaN   2000  \n",
              "120038  At least 1 accident or damage reported         Yes   2000  \n",
              "121877  At least 1 accident or damage reported         Yes   2000  \n",
              "126014                           None reported         Yes   2000  \n",
              "128877                           None reported         Yes   2000  \n",
              "135298                           None reported         Yes   2000  \n",
              "135589                           None reported         Yes   2000  \n",
              "137288  At least 1 accident or damage reported         Yes   2000  \n",
              "143210                           None reported         Yes   2000  \n",
              "144152  At least 1 accident or damage reported         Yes   2000  \n",
              "145017                           None reported         Yes   2000  \n",
              "152120                           None reported         Yes   2000  \n",
              "155411  At least 1 accident or damage reported         Yes   2000  \n",
              "162810                           None reported         Yes   2000  \n",
              "165920  At least 1 accident or damage reported         Yes   2000  \n",
              "169864                           None reported         Yes   2000  \n",
              "174768                           None reported         Yes   2000  \n",
              "175756                           None reported         Yes   2000  \n",
              "176332                           None reported         Yes   2000  \n",
              "179173                           None reported         Yes   2000  "
            ],
            "text/html": [
              "\n",
              "  <div id=\"df-63c19f29-7617-454d-ba3b-02af13bbe991\" class=\"colab-df-container\">\n",
              "    <div>\n",
              "<style scoped>\n",
              "    .dataframe tbody tr th:only-of-type {\n",
              "        vertical-align: middle;\n",
              "    }\n",
              "\n",
              "    .dataframe tbody tr th {\n",
              "        vertical-align: top;\n",
              "    }\n",
              "\n",
              "    .dataframe thead th {\n",
              "        text-align: right;\n",
              "    }\n",
              "</style>\n",
              "<table border=\"1\" class=\"dataframe\">\n",
              "  <thead>\n",
              "    <tr style=\"text-align: right;\">\n",
              "      <th></th>\n",
              "      <th>brand</th>\n",
              "      <th>model</th>\n",
              "      <th>model_year</th>\n",
              "      <th>milage</th>\n",
              "      <th>fuel_type</th>\n",
              "      <th>engine</th>\n",
              "      <th>transmission</th>\n",
              "      <th>ext_col</th>\n",
              "      <th>int_col</th>\n",
              "      <th>accident</th>\n",
              "      <th>clean_title</th>\n",
              "      <th>price</th>\n",
              "    </tr>\n",
              "    <tr>\n",
              "      <th>id</th>\n",
              "      <th></th>\n",
              "      <th></th>\n",
              "      <th></th>\n",
              "      <th></th>\n",
              "      <th></th>\n",
              "      <th></th>\n",
              "      <th></th>\n",
              "      <th></th>\n",
              "      <th></th>\n",
              "      <th></th>\n",
              "      <th></th>\n",
              "      <th></th>\n",
              "    </tr>\n",
              "  </thead>\n",
              "  <tbody>\n",
              "    <tr>\n",
              "      <th>758</th>\n",
              "      <td>Pontiac</td>\n",
              "      <td>Firebird Trans Am</td>\n",
              "      <td>2001</td>\n",
              "      <td>150000</td>\n",
              "      <td>Gasoline</td>\n",
              "      <td>310.0HP 5.7L 8 Cylinder Engine Gasoline Fuel</td>\n",
              "      <td>A/T</td>\n",
              "      <td>Black</td>\n",
              "      <td>Beige</td>\n",
              "      <td>None reported</td>\n",
              "      <td>Yes</td>\n",
              "      <td>2000</td>\n",
              "    </tr>\n",
              "    <tr>\n",
              "      <th>3681</th>\n",
              "      <td>Toyota</td>\n",
              "      <td>Camry Hybrid Base</td>\n",
              "      <td>2003</td>\n",
              "      <td>155000</td>\n",
              "      <td>Hybrid</td>\n",
              "      <td>147.0HP 2.4L 4 Cylinder Engine Gas/Electric Hy...</td>\n",
              "      <td>A/T</td>\n",
              "      <td>Silver</td>\n",
              "      <td>Beige</td>\n",
              "      <td>At least 1 accident or damage reported</td>\n",
              "      <td>Yes</td>\n",
              "      <td>2000</td>\n",
              "    </tr>\n",
              "    <tr>\n",
              "      <th>4781</th>\n",
              "      <td>Toyota</td>\n",
              "      <td>Camry Solara SLE</td>\n",
              "      <td>2001</td>\n",
              "      <td>73690</td>\n",
              "      <td>Gasoline</td>\n",
              "      <td>200.0HP 3.8L V6 Cylinder Engine Gasoline Fuel</td>\n",
              "      <td>A/T</td>\n",
              "      <td>Black</td>\n",
              "      <td>Gray</td>\n",
              "      <td>None reported</td>\n",
              "      <td>Yes</td>\n",
              "      <td>2000</td>\n",
              "    </tr>\n",
              "    <tr>\n",
              "      <th>11146</th>\n",
              "      <td>Chevrolet</td>\n",
              "      <td>Monte Carlo SS</td>\n",
              "      <td>2001</td>\n",
              "      <td>64776</td>\n",
              "      <td>Gasoline</td>\n",
              "      <td>200.0HP 3.8L V6 Cylinder Engine Gasoline Fuel</td>\n",
              "      <td>4-Speed A/T</td>\n",
              "      <td>Gray</td>\n",
              "      <td>Black</td>\n",
              "      <td>None reported</td>\n",
              "      <td>Yes</td>\n",
              "      <td>2000</td>\n",
              "    </tr>\n",
              "    <tr>\n",
              "      <th>12655</th>\n",
              "      <td>Mercedes-Benz</td>\n",
              "      <td>SLK-Class SLK320</td>\n",
              "      <td>2003</td>\n",
              "      <td>107000</td>\n",
              "      <td>Gasoline</td>\n",
              "      <td>215.0HP 3.2L V6 Cylinder Engine Gasoline Fuel</td>\n",
              "      <td>5-Speed A/T</td>\n",
              "      <td>Black</td>\n",
              "      <td>Black</td>\n",
              "      <td>None reported</td>\n",
              "      <td>Yes</td>\n",
              "      <td>2000</td>\n",
              "    </tr>\n",
              "    <tr>\n",
              "      <th>17482</th>\n",
              "      <td>GMC</td>\n",
              "      <td>Terrain SLT-1</td>\n",
              "      <td>2003</td>\n",
              "      <td>90000</td>\n",
              "      <td>Gasoline</td>\n",
              "      <td>181.0HP 2.5L 4 Cylinder Engine Gasoline Fuel</td>\n",
              "      <td>5-Speed A/T</td>\n",
              "      <td>Blue</td>\n",
              "      <td>Beige</td>\n",
              "      <td>None reported</td>\n",
              "      <td>Yes</td>\n",
              "      <td>2000</td>\n",
              "    </tr>\n",
              "    <tr>\n",
              "      <th>17849</th>\n",
              "      <td>Acura</td>\n",
              "      <td>MDX Touring</td>\n",
              "      <td>2007</td>\n",
              "      <td>116000</td>\n",
              "      <td>Gasoline</td>\n",
              "      <td>260.0HP 3.5L V6 Cylinder Engine Gasoline Fuel</td>\n",
              "      <td>A/T</td>\n",
              "      <td>Gray</td>\n",
              "      <td>Brown</td>\n",
              "      <td>At least 1 accident or damage reported</td>\n",
              "      <td>Yes</td>\n",
              "      <td>2000</td>\n",
              "    </tr>\n",
              "    <tr>\n",
              "      <th>18918</th>\n",
              "      <td>Ford</td>\n",
              "      <td>Dakota SLT Quad Cab</td>\n",
              "      <td>2002</td>\n",
              "      <td>138000</td>\n",
              "      <td>Gasoline</td>\n",
              "      <td>220.0HP 4.6L 8 Cylinder Engine Gasoline Fuel</td>\n",
              "      <td>A/T</td>\n",
              "      <td>Blue</td>\n",
              "      <td>Gray</td>\n",
              "      <td>None reported</td>\n",
              "      <td>Yes</td>\n",
              "      <td>2000</td>\n",
              "    </tr>\n",
              "    <tr>\n",
              "      <th>19305</th>\n",
              "      <td>Mitsubishi</td>\n",
              "      <td>Eclipse Spyder GT</td>\n",
              "      <td>2003</td>\n",
              "      <td>120000</td>\n",
              "      <td>Gasoline</td>\n",
              "      <td>260.0HP 3.8L V6 Cylinder Engine Gasoline Fuel</td>\n",
              "      <td>A/T</td>\n",
              "      <td>Black</td>\n",
              "      <td>Black</td>\n",
              "      <td>At least 1 accident or damage reported</td>\n",
              "      <td>Yes</td>\n",
              "      <td>2000</td>\n",
              "    </tr>\n",
              "    <tr>\n",
              "      <th>22415</th>\n",
              "      <td>Lincoln</td>\n",
              "      <td>Town Car Signature</td>\n",
              "      <td>2003</td>\n",
              "      <td>120000</td>\n",
              "      <td>Gasoline</td>\n",
              "      <td>239.0HP 4.6L 8 Cylinder Engine Gasoline Fuel</td>\n",
              "      <td>4-Speed A/T</td>\n",
              "      <td>Black</td>\n",
              "      <td>Gray</td>\n",
              "      <td>None reported</td>\n",
              "      <td>Yes</td>\n",
              "      <td>2000</td>\n",
              "    </tr>\n",
              "    <tr>\n",
              "      <th>27859</th>\n",
              "      <td>Nissan</td>\n",
              "      <td>Frontier SE Crew Cab</td>\n",
              "      <td>2004</td>\n",
              "      <td>123000</td>\n",
              "      <td>Gasoline</td>\n",
              "      <td>245.0HP 4.0L V6 Cylinder Engine Gasoline Fuel</td>\n",
              "      <td>A/T</td>\n",
              "      <td>Black</td>\n",
              "      <td>Beige</td>\n",
              "      <td>At least 1 accident or damage reported</td>\n",
              "      <td>Yes</td>\n",
              "      <td>2000</td>\n",
              "    </tr>\n",
              "    <tr>\n",
              "      <th>30223</th>\n",
              "      <td>Lexus</td>\n",
              "      <td>RX 300 4WD</td>\n",
              "      <td>1999</td>\n",
              "      <td>170000</td>\n",
              "      <td>Gasoline</td>\n",
              "      <td>220.0HP 3.0L V6 Cylinder Engine Gasoline Fuel</td>\n",
              "      <td>A/T</td>\n",
              "      <td>Blue</td>\n",
              "      <td>Beige</td>\n",
              "      <td>At least 1 accident or damage reported</td>\n",
              "      <td>Yes</td>\n",
              "      <td>2000</td>\n",
              "    </tr>\n",
              "    <tr>\n",
              "      <th>30633</th>\n",
              "      <td>Volkswagen</td>\n",
              "      <td>New Beetle GLS</td>\n",
              "      <td>2001</td>\n",
              "      <td>63250</td>\n",
              "      <td>Gasoline</td>\n",
              "      <td>115.0HP 2.0L 4 Cylinder Engine Gasoline Fuel</td>\n",
              "      <td>4-Speed A/T</td>\n",
              "      <td>Yellow</td>\n",
              "      <td>Black</td>\n",
              "      <td>None reported</td>\n",
              "      <td>Yes</td>\n",
              "      <td>2000</td>\n",
              "    </tr>\n",
              "    <tr>\n",
              "      <th>31264</th>\n",
              "      <td>Volkswagen</td>\n",
              "      <td>Golf GTI 2.0T SE 4-Door</td>\n",
              "      <td>2012</td>\n",
              "      <td>132000</td>\n",
              "      <td>Gasoline</td>\n",
              "      <td>210.0HP 2.0L 4 Cylinder Engine Gasoline Fuel</td>\n",
              "      <td>6-Speed M/T</td>\n",
              "      <td>White</td>\n",
              "      <td>Black</td>\n",
              "      <td>None reported</td>\n",
              "      <td>Yes</td>\n",
              "      <td>2000</td>\n",
              "    </tr>\n",
              "    <tr>\n",
              "      <th>35025</th>\n",
              "      <td>Toyota</td>\n",
              "      <td>Celica GT</td>\n",
              "      <td>2001</td>\n",
              "      <td>130000</td>\n",
              "      <td>Gasoline</td>\n",
              "      <td>140.0HP 1.8L 4 Cylinder Engine Gasoline Fuel</td>\n",
              "      <td>5-Speed M/T</td>\n",
              "      <td>Blue</td>\n",
              "      <td>Gray</td>\n",
              "      <td>None reported</td>\n",
              "      <td>Yes</td>\n",
              "      <td>2000</td>\n",
              "    </tr>\n",
              "    <tr>\n",
              "      <th>35158</th>\n",
              "      <td>BMW</td>\n",
              "      <td>M3 Base</td>\n",
              "      <td>2003</td>\n",
              "      <td>91677</td>\n",
              "      <td>Gasoline</td>\n",
              "      <td>333.0HP 3.2L Straight 6 Cylinder Engine Gasoli...</td>\n",
              "      <td>6-Speed M/T</td>\n",
              "      <td>Black</td>\n",
              "      <td>Black</td>\n",
              "      <td>None reported</td>\n",
              "      <td>Yes</td>\n",
              "      <td>2000</td>\n",
              "    </tr>\n",
              "    <tr>\n",
              "      <th>37932</th>\n",
              "      <td>Kia</td>\n",
              "      <td>Optima EX</td>\n",
              "      <td>2000</td>\n",
              "      <td>130000</td>\n",
              "      <td>Gasoline</td>\n",
              "      <td>200.0HP 2.4L 4 Cylinder Engine Gasoline Fuel</td>\n",
              "      <td>A/T</td>\n",
              "      <td>Black</td>\n",
              "      <td>Beige</td>\n",
              "      <td>None reported</td>\n",
              "      <td>Yes</td>\n",
              "      <td>2000</td>\n",
              "    </tr>\n",
              "    <tr>\n",
              "      <th>38172</th>\n",
              "      <td>Chevrolet</td>\n",
              "      <td>Corvette Base</td>\n",
              "      <td>2008</td>\n",
              "      <td>130000</td>\n",
              "      <td>Gasoline</td>\n",
              "      <td>345.0HP 5.7L 8 Cylinder Engine Gasoline Fuel</td>\n",
              "      <td>6-Speed M/T</td>\n",
              "      <td>Red</td>\n",
              "      <td>Black</td>\n",
              "      <td>None reported</td>\n",
              "      <td>Yes</td>\n",
              "      <td>2000</td>\n",
              "    </tr>\n",
              "    <tr>\n",
              "      <th>38975</th>\n",
              "      <td>Mazda</td>\n",
              "      <td>MX-5 Miata Base</td>\n",
              "      <td>1999</td>\n",
              "      <td>150000</td>\n",
              "      <td>Gasoline</td>\n",
              "      <td>140.0HP 1.8L 4 Cylinder Engine Gasoline Fuel</td>\n",
              "      <td>A/T</td>\n",
              "      <td>Silver</td>\n",
              "      <td>Black</td>\n",
              "      <td>At least 1 accident or damage reported</td>\n",
              "      <td>Yes</td>\n",
              "      <td>2000</td>\n",
              "    </tr>\n",
              "    <tr>\n",
              "      <th>39462</th>\n",
              "      <td>Toyota</td>\n",
              "      <td>Land Cruiser Base</td>\n",
              "      <td>2004</td>\n",
              "      <td>57300</td>\n",
              "      <td>Gasoline</td>\n",
              "      <td>230.0HP 4.7L 8 Cylinder Engine Gasoline Fuel</td>\n",
              "      <td>A/T</td>\n",
              "      <td>White</td>\n",
              "      <td>Black</td>\n",
              "      <td>None reported</td>\n",
              "      <td>Yes</td>\n",
              "      <td>2000</td>\n",
              "    </tr>\n",
              "    <tr>\n",
              "      <th>42348</th>\n",
              "      <td>Pontiac</td>\n",
              "      <td>Firebird Base</td>\n",
              "      <td>1999</td>\n",
              "      <td>158000</td>\n",
              "      <td>Gasoline</td>\n",
              "      <td>200.0HP 3.8L V6 Cylinder Engine Gasoline Fuel</td>\n",
              "      <td>A/T</td>\n",
              "      <td>White</td>\n",
              "      <td>Beige</td>\n",
              "      <td>At least 1 accident or damage reported</td>\n",
              "      <td>Yes</td>\n",
              "      <td>2000</td>\n",
              "    </tr>\n",
              "    <tr>\n",
              "      <th>42901</th>\n",
              "      <td>Honda</td>\n",
              "      <td>CR-V EX</td>\n",
              "      <td>2004</td>\n",
              "      <td>169613</td>\n",
              "      <td>Gasoline</td>\n",
              "      <td>150.0HP 2.4L 4 Cylinder Engine Gasoline Fuel</td>\n",
              "      <td>M/T</td>\n",
              "      <td>Silver</td>\n",
              "      <td>Gray</td>\n",
              "      <td>None reported</td>\n",
              "      <td>Yes</td>\n",
              "      <td>2000</td>\n",
              "    </tr>\n",
              "    <tr>\n",
              "      <th>68563</th>\n",
              "      <td>Mazda</td>\n",
              "      <td>MX-5 Miata Base</td>\n",
              "      <td>2001</td>\n",
              "      <td>130000</td>\n",
              "      <td>Gasoline</td>\n",
              "      <td>140.0HP 1.8L 4 Cylinder Engine Gasoline Fuel</td>\n",
              "      <td>5-Speed M/T</td>\n",
              "      <td>Yellow</td>\n",
              "      <td>Black</td>\n",
              "      <td>None reported</td>\n",
              "      <td>Yes</td>\n",
              "      <td>2000</td>\n",
              "    </tr>\n",
              "    <tr>\n",
              "      <th>71469</th>\n",
              "      <td>Chevrolet</td>\n",
              "      <td>Camaro 1LT</td>\n",
              "      <td>2003</td>\n",
              "      <td>95000</td>\n",
              "      <td>Gasoline</td>\n",
              "      <td>312.0HP 3.6L V6 Cylinder Engine Gasoline Fuel</td>\n",
              "      <td>A/T</td>\n",
              "      <td>Black</td>\n",
              "      <td>Black</td>\n",
              "      <td>None reported</td>\n",
              "      <td>Yes</td>\n",
              "      <td>2000</td>\n",
              "    </tr>\n",
              "    <tr>\n",
              "      <th>72637</th>\n",
              "      <td>Dodge</td>\n",
              "      <td>Dakota Sport</td>\n",
              "      <td>2003</td>\n",
              "      <td>192100</td>\n",
              "      <td>Gasoline</td>\n",
              "      <td>210.0HP 3.7L V6 Cylinder Engine Gasoline Fuel</td>\n",
              "      <td>A/T</td>\n",
              "      <td>Black</td>\n",
              "      <td>Gray</td>\n",
              "      <td>At least 1 accident or damage reported</td>\n",
              "      <td>Yes</td>\n",
              "      <td>2000</td>\n",
              "    </tr>\n",
              "    <tr>\n",
              "      <th>72898</th>\n",
              "      <td>Volkswagen</td>\n",
              "      <td>Eurovan MV</td>\n",
              "      <td>1995</td>\n",
              "      <td>220000</td>\n",
              "      <td>Gasoline</td>\n",
              "      <td>140.0HP 2.8L V6 Cylinder Engine Gasoline Fuel</td>\n",
              "      <td>A/T</td>\n",
              "      <td>Beige</td>\n",
              "      <td>–</td>\n",
              "      <td>None reported</td>\n",
              "      <td>Yes</td>\n",
              "      <td>2000</td>\n",
              "    </tr>\n",
              "    <tr>\n",
              "      <th>81089</th>\n",
              "      <td>Chevrolet</td>\n",
              "      <td>Corvette Base</td>\n",
              "      <td>2001</td>\n",
              "      <td>199000</td>\n",
              "      <td>Gasoline</td>\n",
              "      <td>300.0HP 5.4L 8 Cylinder Engine Gasoline Fuel</td>\n",
              "      <td>Transmission w/Dual Shift Mode</td>\n",
              "      <td>Black</td>\n",
              "      <td>Beige</td>\n",
              "      <td>None reported</td>\n",
              "      <td>Yes</td>\n",
              "      <td>2000</td>\n",
              "    </tr>\n",
              "    <tr>\n",
              "      <th>83191</th>\n",
              "      <td>Ford</td>\n",
              "      <td>Mustang Premium</td>\n",
              "      <td>2005</td>\n",
              "      <td>170000</td>\n",
              "      <td>Gasoline</td>\n",
              "      <td>210.0HP 4.0L V6 Cylinder Engine Gasoline Fuel</td>\n",
              "      <td>4-Speed A/T</td>\n",
              "      <td>Black</td>\n",
              "      <td>Beige</td>\n",
              "      <td>None reported</td>\n",
              "      <td>Yes</td>\n",
              "      <td>2000</td>\n",
              "    </tr>\n",
              "    <tr>\n",
              "      <th>90396</th>\n",
              "      <td>Toyota</td>\n",
              "      <td>Tundra SR5 Access Cab</td>\n",
              "      <td>2004</td>\n",
              "      <td>120000</td>\n",
              "      <td>Gasoline</td>\n",
              "      <td>282.0HP 4.7L 8 Cylinder Engine Gasoline Fuel</td>\n",
              "      <td>A/T</td>\n",
              "      <td>Red</td>\n",
              "      <td>–</td>\n",
              "      <td>None reported</td>\n",
              "      <td>Yes</td>\n",
              "      <td>2000</td>\n",
              "    </tr>\n",
              "    <tr>\n",
              "      <th>91491</th>\n",
              "      <td>Lexus</td>\n",
              "      <td>GX 470 Base</td>\n",
              "      <td>2001</td>\n",
              "      <td>177600</td>\n",
              "      <td>Gasoline</td>\n",
              "      <td>263.0HP 4.7L 8 Cylinder Engine Gasoline Fuel</td>\n",
              "      <td>A/T</td>\n",
              "      <td>Black</td>\n",
              "      <td>Black</td>\n",
              "      <td>None reported</td>\n",
              "      <td>Yes</td>\n",
              "      <td>2000</td>\n",
              "    </tr>\n",
              "    <tr>\n",
              "      <th>92276</th>\n",
              "      <td>Ford</td>\n",
              "      <td>Thunderbird Deluxe</td>\n",
              "      <td>2004</td>\n",
              "      <td>160000</td>\n",
              "      <td>Gasoline</td>\n",
              "      <td>225.0HP 3.0L Straight 6 Cylinder Engine Gasoli...</td>\n",
              "      <td>A/T</td>\n",
              "      <td>Blue</td>\n",
              "      <td>Gray</td>\n",
              "      <td>None reported</td>\n",
              "      <td>Yes</td>\n",
              "      <td>2000</td>\n",
              "    </tr>\n",
              "    <tr>\n",
              "      <th>92864</th>\n",
              "      <td>Honda</td>\n",
              "      <td>Prelude Type SH</td>\n",
              "      <td>2001</td>\n",
              "      <td>125000</td>\n",
              "      <td>Gasoline</td>\n",
              "      <td>200.0HP 2.2L 4 Cylinder Engine Gasoline Fuel</td>\n",
              "      <td>M/T</td>\n",
              "      <td>Red</td>\n",
              "      <td>Black</td>\n",
              "      <td>None reported</td>\n",
              "      <td>Yes</td>\n",
              "      <td>2000</td>\n",
              "    </tr>\n",
              "    <tr>\n",
              "      <th>105435</th>\n",
              "      <td>Cadillac</td>\n",
              "      <td>DeVille Base</td>\n",
              "      <td>1994</td>\n",
              "      <td>58981</td>\n",
              "      <td>–</td>\n",
              "      <td>–</td>\n",
              "      <td>A/T</td>\n",
              "      <td>White</td>\n",
              "      <td>Blue</td>\n",
              "      <td>At least 1 accident or damage reported</td>\n",
              "      <td>Yes</td>\n",
              "      <td>2000</td>\n",
              "    </tr>\n",
              "    <tr>\n",
              "      <th>112731</th>\n",
              "      <td>Chevrolet</td>\n",
              "      <td>C70 T5</td>\n",
              "      <td>2006</td>\n",
              "      <td>143250</td>\n",
              "      <td>Gasoline</td>\n",
              "      <td>295.0HP 5.3L 8 Cylinder Engine Gasoline Fuel</td>\n",
              "      <td>6-Speed M/T</td>\n",
              "      <td>Gray</td>\n",
              "      <td>Black</td>\n",
              "      <td>None reported</td>\n",
              "      <td>Yes</td>\n",
              "      <td>2000</td>\n",
              "    </tr>\n",
              "    <tr>\n",
              "      <th>113757</th>\n",
              "      <td>Ford</td>\n",
              "      <td>Mustang GT</td>\n",
              "      <td>2010</td>\n",
              "      <td>136400</td>\n",
              "      <td>Gasoline</td>\n",
              "      <td>315.0HP 4.6L 8 Cylinder Engine Gasoline Fuel</td>\n",
              "      <td>5-Speed M/T</td>\n",
              "      <td>White</td>\n",
              "      <td>Red</td>\n",
              "      <td>At least 1 accident or damage reported</td>\n",
              "      <td>Yes</td>\n",
              "      <td>2000</td>\n",
              "    </tr>\n",
              "    <tr>\n",
              "      <th>114798</th>\n",
              "      <td>Honda</td>\n",
              "      <td>Prelude Type SH</td>\n",
              "      <td>2001</td>\n",
              "      <td>170000</td>\n",
              "      <td>Gasoline</td>\n",
              "      <td>210.0HP 3.0L V6 Cylinder Engine Gasoline Fuel</td>\n",
              "      <td>A/T</td>\n",
              "      <td>Black</td>\n",
              "      <td>Black</td>\n",
              "      <td>At least 1 accident or damage reported</td>\n",
              "      <td>Yes</td>\n",
              "      <td>2000</td>\n",
              "    </tr>\n",
              "    <tr>\n",
              "      <th>118675</th>\n",
              "      <td>Nissan</td>\n",
              "      <td>350Z Touring</td>\n",
              "      <td>2001</td>\n",
              "      <td>42000</td>\n",
              "      <td>Gasoline</td>\n",
              "      <td>200.0HP 2.0L 4 Cylinder Engine Gasoline Fuel</td>\n",
              "      <td>6-Speed M/T</td>\n",
              "      <td>Black</td>\n",
              "      <td>Orange</td>\n",
              "      <td>NaN</td>\n",
              "      <td>NaN</td>\n",
              "      <td>2000</td>\n",
              "    </tr>\n",
              "    <tr>\n",
              "      <th>120038</th>\n",
              "      <td>Lexus</td>\n",
              "      <td>GX 470 Base</td>\n",
              "      <td>2004</td>\n",
              "      <td>170000</td>\n",
              "      <td>Gasoline</td>\n",
              "      <td>235.0HP 4.7L 8 Cylinder Engine Gasoline Fuel</td>\n",
              "      <td>A/T</td>\n",
              "      <td>Black</td>\n",
              "      <td>Gray</td>\n",
              "      <td>At least 1 accident or damage reported</td>\n",
              "      <td>Yes</td>\n",
              "      <td>2000</td>\n",
              "    </tr>\n",
              "    <tr>\n",
              "      <th>121877</th>\n",
              "      <td>Mercedes-Benz</td>\n",
              "      <td>CLK-Class 500 Cabriolet</td>\n",
              "      <td>2001</td>\n",
              "      <td>127131</td>\n",
              "      <td>Gasoline</td>\n",
              "      <td>302.0HP 5.0L 8 Cylinder Engine Gasoline Fuel</td>\n",
              "      <td>A/T</td>\n",
              "      <td>Silver</td>\n",
              "      <td>Black</td>\n",
              "      <td>At least 1 accident or damage reported</td>\n",
              "      <td>Yes</td>\n",
              "      <td>2000</td>\n",
              "    </tr>\n",
              "    <tr>\n",
              "      <th>126014</th>\n",
              "      <td>Toyota</td>\n",
              "      <td>Camry Solara SLE V6</td>\n",
              "      <td>2006</td>\n",
              "      <td>114528</td>\n",
              "      <td>Gasoline</td>\n",
              "      <td>225.0HP 3.3L V6 Cylinder Engine Gasoline Fuel</td>\n",
              "      <td>A/T</td>\n",
              "      <td>Black</td>\n",
              "      <td>Gray</td>\n",
              "      <td>None reported</td>\n",
              "      <td>Yes</td>\n",
              "      <td>2000</td>\n",
              "    </tr>\n",
              "    <tr>\n",
              "      <th>128877</th>\n",
              "      <td>Hyundai</td>\n",
              "      <td>Tucson SE</td>\n",
              "      <td>2007</td>\n",
              "      <td>16200</td>\n",
              "      <td>Gasoline</td>\n",
              "      <td>173.0HP 2.7L V6 Cylinder Engine Gasoline Fuel</td>\n",
              "      <td>A/T</td>\n",
              "      <td>Silver</td>\n",
              "      <td>Gray</td>\n",
              "      <td>None reported</td>\n",
              "      <td>Yes</td>\n",
              "      <td>2000</td>\n",
              "    </tr>\n",
              "    <tr>\n",
              "      <th>135298</th>\n",
              "      <td>Jaguar</td>\n",
              "      <td>XK8 Base</td>\n",
              "      <td>1999</td>\n",
              "      <td>50000</td>\n",
              "      <td>Gasoline</td>\n",
              "      <td>290.0HP 4.0L 8 Cylinder Engine Gasoline Fuel</td>\n",
              "      <td>5-Speed A/T</td>\n",
              "      <td>Blue</td>\n",
              "      <td>Beige</td>\n",
              "      <td>None reported</td>\n",
              "      <td>Yes</td>\n",
              "      <td>2000</td>\n",
              "    </tr>\n",
              "    <tr>\n",
              "      <th>135589</th>\n",
              "      <td>Pontiac</td>\n",
              "      <td>Firebird Trans Am</td>\n",
              "      <td>2001</td>\n",
              "      <td>80081</td>\n",
              "      <td>Gasoline</td>\n",
              "      <td>310.0HP 5.7L 8 Cylinder Engine Gasoline Fuel</td>\n",
              "      <td>4-Speed A/T</td>\n",
              "      <td>Purple</td>\n",
              "      <td>Black</td>\n",
              "      <td>None reported</td>\n",
              "      <td>Yes</td>\n",
              "      <td>2000</td>\n",
              "    </tr>\n",
              "    <tr>\n",
              "      <th>137288</th>\n",
              "      <td>Ford</td>\n",
              "      <td>Excursion XLT 4WD</td>\n",
              "      <td>2002</td>\n",
              "      <td>205000</td>\n",
              "      <td>Gasoline</td>\n",
              "      <td>310.0HP 6.8L 10 Cylinder Engine Gasoline Fuel</td>\n",
              "      <td>A/T</td>\n",
              "      <td>Black</td>\n",
              "      <td>Beige</td>\n",
              "      <td>At least 1 accident or damage reported</td>\n",
              "      <td>Yes</td>\n",
              "      <td>2000</td>\n",
              "    </tr>\n",
              "    <tr>\n",
              "      <th>143210</th>\n",
              "      <td>Land</td>\n",
              "      <td>Rover Range Rover HSE</td>\n",
              "      <td>2003</td>\n",
              "      <td>49500</td>\n",
              "      <td>Gasoline</td>\n",
              "      <td>230.0HP 3.2L Straight 6 Cylinder Engine Gasoli...</td>\n",
              "      <td>A/T</td>\n",
              "      <td>White</td>\n",
              "      <td>Beige</td>\n",
              "      <td>None reported</td>\n",
              "      <td>Yes</td>\n",
              "      <td>2000</td>\n",
              "    </tr>\n",
              "    <tr>\n",
              "      <th>144152</th>\n",
              "      <td>Honda</td>\n",
              "      <td>CR-V EX</td>\n",
              "      <td>2008</td>\n",
              "      <td>184421</td>\n",
              "      <td>Gasoline</td>\n",
              "      <td>160.0HP 2.4L 4 Cylinder Engine Gasoline Fuel</td>\n",
              "      <td>A/T</td>\n",
              "      <td>Brown</td>\n",
              "      <td>Black</td>\n",
              "      <td>At least 1 accident or damage reported</td>\n",
              "      <td>Yes</td>\n",
              "      <td>2000</td>\n",
              "    </tr>\n",
              "    <tr>\n",
              "      <th>145017</th>\n",
              "      <td>Land</td>\n",
              "      <td>Rover Discovery SE</td>\n",
              "      <td>2004</td>\n",
              "      <td>120000</td>\n",
              "      <td>Gasoline</td>\n",
              "      <td>217.0HP 4.6L 8 Cylinder Engine Gasoline Fuel</td>\n",
              "      <td>A/T</td>\n",
              "      <td>Silver</td>\n",
              "      <td>Gray</td>\n",
              "      <td>None reported</td>\n",
              "      <td>Yes</td>\n",
              "      <td>2000</td>\n",
              "    </tr>\n",
              "    <tr>\n",
              "      <th>152120</th>\n",
              "      <td>Lexus</td>\n",
              "      <td>RX 330 Base</td>\n",
              "      <td>2002</td>\n",
              "      <td>178000</td>\n",
              "      <td>Gasoline</td>\n",
              "      <td>230.0HP 3.3L V6 Cylinder Engine Gasoline Fuel</td>\n",
              "      <td>6-Speed A/T</td>\n",
              "      <td>Black</td>\n",
              "      <td>Black</td>\n",
              "      <td>None reported</td>\n",
              "      <td>Yes</td>\n",
              "      <td>2000</td>\n",
              "    </tr>\n",
              "    <tr>\n",
              "      <th>155411</th>\n",
              "      <td>Audi</td>\n",
              "      <td>A5 2.0T Premium Plus</td>\n",
              "      <td>2012</td>\n",
              "      <td>130000</td>\n",
              "      <td>Gasoline</td>\n",
              "      <td>211.0HP 2.0L 4 Cylinder Engine Gasoline Fuel</td>\n",
              "      <td>A/T</td>\n",
              "      <td>Silver</td>\n",
              "      <td>Black</td>\n",
              "      <td>At least 1 accident or damage reported</td>\n",
              "      <td>Yes</td>\n",
              "      <td>2000</td>\n",
              "    </tr>\n",
              "    <tr>\n",
              "      <th>162810</th>\n",
              "      <td>Land</td>\n",
              "      <td>Rover Discovery SE</td>\n",
              "      <td>2000</td>\n",
              "      <td>170000</td>\n",
              "      <td>Gasoline</td>\n",
              "      <td>217.0HP 4.6L 8 Cylinder Engine Gasoline Fuel</td>\n",
              "      <td>A/T</td>\n",
              "      <td>Black</td>\n",
              "      <td>Beige</td>\n",
              "      <td>None reported</td>\n",
              "      <td>Yes</td>\n",
              "      <td>2000</td>\n",
              "    </tr>\n",
              "    <tr>\n",
              "      <th>165920</th>\n",
              "      <td>Ford</td>\n",
              "      <td>Edge Sport</td>\n",
              "      <td>2004</td>\n",
              "      <td>184000</td>\n",
              "      <td>Gasoline</td>\n",
              "      <td>300.0HP 5.4L 8 Cylinder Engine Gasoline Fuel</td>\n",
              "      <td>A/T</td>\n",
              "      <td>Black</td>\n",
              "      <td>Gray</td>\n",
              "      <td>At least 1 accident or damage reported</td>\n",
              "      <td>Yes</td>\n",
              "      <td>2000</td>\n",
              "    </tr>\n",
              "    <tr>\n",
              "      <th>169864</th>\n",
              "      <td>Jeep</td>\n",
              "      <td>Wrangler SE</td>\n",
              "      <td>2001</td>\n",
              "      <td>95200</td>\n",
              "      <td>Gasoline</td>\n",
              "      <td>150.0HP 2.4L 4 Cylinder Engine Gasoline Fuel</td>\n",
              "      <td>A/T</td>\n",
              "      <td>Gold</td>\n",
              "      <td>Black</td>\n",
              "      <td>None reported</td>\n",
              "      <td>Yes</td>\n",
              "      <td>2000</td>\n",
              "    </tr>\n",
              "    <tr>\n",
              "      <th>174768</th>\n",
              "      <td>Volvo</td>\n",
              "      <td>S60 R</td>\n",
              "      <td>2005</td>\n",
              "      <td>110000</td>\n",
              "      <td>Gasoline</td>\n",
              "      <td>230.0HP 4.7L 8 Cylinder Engine Gasoline Fuel</td>\n",
              "      <td>4-Speed A/T</td>\n",
              "      <td>Black</td>\n",
              "      <td>Beige</td>\n",
              "      <td>None reported</td>\n",
              "      <td>Yes</td>\n",
              "      <td>2000</td>\n",
              "    </tr>\n",
              "    <tr>\n",
              "      <th>175756</th>\n",
              "      <td>Porsche</td>\n",
              "      <td>Boxster Base</td>\n",
              "      <td>1999</td>\n",
              "      <td>132800</td>\n",
              "      <td>Gasoline</td>\n",
              "      <td>201.0HP 2.5L Flat 6 Cylinder Engine Gasoline Fuel</td>\n",
              "      <td>5-Speed M/T</td>\n",
              "      <td>Red</td>\n",
              "      <td>Beige</td>\n",
              "      <td>None reported</td>\n",
              "      <td>Yes</td>\n",
              "      <td>2000</td>\n",
              "    </tr>\n",
              "    <tr>\n",
              "      <th>176332</th>\n",
              "      <td>MINI</td>\n",
              "      <td>Cooper S Base</td>\n",
              "      <td>2004</td>\n",
              "      <td>130000</td>\n",
              "      <td>Gasoline</td>\n",
              "      <td>172.0HP 1.6L 4 Cylinder Engine Gasoline Fuel</td>\n",
              "      <td>A/T</td>\n",
              "      <td>White</td>\n",
              "      <td>Black</td>\n",
              "      <td>None reported</td>\n",
              "      <td>Yes</td>\n",
              "      <td>2000</td>\n",
              "    </tr>\n",
              "    <tr>\n",
              "      <th>179173</th>\n",
              "      <td>INFINITI</td>\n",
              "      <td>QX60 Base</td>\n",
              "      <td>2010</td>\n",
              "      <td>117200</td>\n",
              "      <td>Gasoline</td>\n",
              "      <td>265.0HP 3.5L V6 Cylinder Engine Gasoline Fuel</td>\n",
              "      <td>A/T</td>\n",
              "      <td>Gray</td>\n",
              "      <td>Black</td>\n",
              "      <td>None reported</td>\n",
              "      <td>Yes</td>\n",
              "      <td>2000</td>\n",
              "    </tr>\n",
              "  </tbody>\n",
              "</table>\n",
              "</div>\n",
              "    <div class=\"colab-df-buttons\">\n",
              "\n",
              "  <div class=\"colab-df-container\">\n",
              "    <button class=\"colab-df-convert\" onclick=\"convertToInteractive('df-63c19f29-7617-454d-ba3b-02af13bbe991')\"\n",
              "            title=\"Convert this dataframe to an interactive table.\"\n",
              "            style=\"display:none;\">\n",
              "\n",
              "  <svg xmlns=\"http://www.w3.org/2000/svg\" height=\"24px\" viewBox=\"0 -960 960 960\">\n",
              "    <path d=\"M120-120v-720h720v720H120Zm60-500h600v-160H180v160Zm220 220h160v-160H400v160Zm0 220h160v-160H400v160ZM180-400h160v-160H180v160Zm440 0h160v-160H620v160ZM180-180h160v-160H180v160Zm440 0h160v-160H620v160Z\"/>\n",
              "  </svg>\n",
              "    </button>\n",
              "\n",
              "  <style>\n",
              "    .colab-df-container {\n",
              "      display:flex;\n",
              "      gap: 12px;\n",
              "    }\n",
              "\n",
              "    .colab-df-convert {\n",
              "      background-color: #E8F0FE;\n",
              "      border: none;\n",
              "      border-radius: 50%;\n",
              "      cursor: pointer;\n",
              "      display: none;\n",
              "      fill: #1967D2;\n",
              "      height: 32px;\n",
              "      padding: 0 0 0 0;\n",
              "      width: 32px;\n",
              "    }\n",
              "\n",
              "    .colab-df-convert:hover {\n",
              "      background-color: #E2EBFA;\n",
              "      box-shadow: 0px 1px 2px rgba(60, 64, 67, 0.3), 0px 1px 3px 1px rgba(60, 64, 67, 0.15);\n",
              "      fill: #174EA6;\n",
              "    }\n",
              "\n",
              "    .colab-df-buttons div {\n",
              "      margin-bottom: 4px;\n",
              "    }\n",
              "\n",
              "    [theme=dark] .colab-df-convert {\n",
              "      background-color: #3B4455;\n",
              "      fill: #D2E3FC;\n",
              "    }\n",
              "\n",
              "    [theme=dark] .colab-df-convert:hover {\n",
              "      background-color: #434B5C;\n",
              "      box-shadow: 0px 1px 3px 1px rgba(0, 0, 0, 0.15);\n",
              "      filter: drop-shadow(0px 1px 2px rgba(0, 0, 0, 0.3));\n",
              "      fill: #FFFFFF;\n",
              "    }\n",
              "  </style>\n",
              "\n",
              "    <script>\n",
              "      const buttonEl =\n",
              "        document.querySelector('#df-63c19f29-7617-454d-ba3b-02af13bbe991 button.colab-df-convert');\n",
              "      buttonEl.style.display =\n",
              "        google.colab.kernel.accessAllowed ? 'block' : 'none';\n",
              "\n",
              "      async function convertToInteractive(key) {\n",
              "        const element = document.querySelector('#df-63c19f29-7617-454d-ba3b-02af13bbe991');\n",
              "        const dataTable =\n",
              "          await google.colab.kernel.invokeFunction('convertToInteractive',\n",
              "                                                    [key], {});\n",
              "        if (!dataTable) return;\n",
              "\n",
              "        const docLinkHtml = 'Like what you see? Visit the ' +\n",
              "          '<a target=\"_blank\" href=https://colab.research.google.com/notebooks/data_table.ipynb>data table notebook</a>'\n",
              "          + ' to learn more about interactive tables.';\n",
              "        element.innerHTML = '';\n",
              "        dataTable['output_type'] = 'display_data';\n",
              "        await google.colab.output.renderOutput(dataTable, element);\n",
              "        const docLink = document.createElement('div');\n",
              "        docLink.innerHTML = docLinkHtml;\n",
              "        element.appendChild(docLink);\n",
              "      }\n",
              "    </script>\n",
              "  </div>\n",
              "\n",
              "\n",
              "<div id=\"df-7364fd21-af2a-416f-bfd4-387a545ef181\">\n",
              "  <button class=\"colab-df-quickchart\" onclick=\"quickchart('df-7364fd21-af2a-416f-bfd4-387a545ef181')\"\n",
              "            title=\"Suggest charts\"\n",
              "            style=\"display:none;\">\n",
              "\n",
              "<svg xmlns=\"http://www.w3.org/2000/svg\" height=\"24px\"viewBox=\"0 0 24 24\"\n",
              "     width=\"24px\">\n",
              "    <g>\n",
              "        <path d=\"M19 3H5c-1.1 0-2 .9-2 2v14c0 1.1.9 2 2 2h14c1.1 0 2-.9 2-2V5c0-1.1-.9-2-2-2zM9 17H7v-7h2v7zm4 0h-2V7h2v10zm4 0h-2v-4h2v4z\"/>\n",
              "    </g>\n",
              "</svg>\n",
              "  </button>\n",
              "\n",
              "<style>\n",
              "  .colab-df-quickchart {\n",
              "      --bg-color: #E8F0FE;\n",
              "      --fill-color: #1967D2;\n",
              "      --hover-bg-color: #E2EBFA;\n",
              "      --hover-fill-color: #174EA6;\n",
              "      --disabled-fill-color: #AAA;\n",
              "      --disabled-bg-color: #DDD;\n",
              "  }\n",
              "\n",
              "  [theme=dark] .colab-df-quickchart {\n",
              "      --bg-color: #3B4455;\n",
              "      --fill-color: #D2E3FC;\n",
              "      --hover-bg-color: #434B5C;\n",
              "      --hover-fill-color: #FFFFFF;\n",
              "      --disabled-bg-color: #3B4455;\n",
              "      --disabled-fill-color: #666;\n",
              "  }\n",
              "\n",
              "  .colab-df-quickchart {\n",
              "    background-color: var(--bg-color);\n",
              "    border: none;\n",
              "    border-radius: 50%;\n",
              "    cursor: pointer;\n",
              "    display: none;\n",
              "    fill: var(--fill-color);\n",
              "    height: 32px;\n",
              "    padding: 0;\n",
              "    width: 32px;\n",
              "  }\n",
              "\n",
              "  .colab-df-quickchart:hover {\n",
              "    background-color: var(--hover-bg-color);\n",
              "    box-shadow: 0 1px 2px rgba(60, 64, 67, 0.3), 0 1px 3px 1px rgba(60, 64, 67, 0.15);\n",
              "    fill: var(--button-hover-fill-color);\n",
              "  }\n",
              "\n",
              "  .colab-df-quickchart-complete:disabled,\n",
              "  .colab-df-quickchart-complete:disabled:hover {\n",
              "    background-color: var(--disabled-bg-color);\n",
              "    fill: var(--disabled-fill-color);\n",
              "    box-shadow: none;\n",
              "  }\n",
              "\n",
              "  .colab-df-spinner {\n",
              "    border: 2px solid var(--fill-color);\n",
              "    border-color: transparent;\n",
              "    border-bottom-color: var(--fill-color);\n",
              "    animation:\n",
              "      spin 1s steps(1) infinite;\n",
              "  }\n",
              "\n",
              "  @keyframes spin {\n",
              "    0% {\n",
              "      border-color: transparent;\n",
              "      border-bottom-color: var(--fill-color);\n",
              "      border-left-color: var(--fill-color);\n",
              "    }\n",
              "    20% {\n",
              "      border-color: transparent;\n",
              "      border-left-color: var(--fill-color);\n",
              "      border-top-color: var(--fill-color);\n",
              "    }\n",
              "    30% {\n",
              "      border-color: transparent;\n",
              "      border-left-color: var(--fill-color);\n",
              "      border-top-color: var(--fill-color);\n",
              "      border-right-color: var(--fill-color);\n",
              "    }\n",
              "    40% {\n",
              "      border-color: transparent;\n",
              "      border-right-color: var(--fill-color);\n",
              "      border-top-color: var(--fill-color);\n",
              "    }\n",
              "    60% {\n",
              "      border-color: transparent;\n",
              "      border-right-color: var(--fill-color);\n",
              "    }\n",
              "    80% {\n",
              "      border-color: transparent;\n",
              "      border-right-color: var(--fill-color);\n",
              "      border-bottom-color: var(--fill-color);\n",
              "    }\n",
              "    90% {\n",
              "      border-color: transparent;\n",
              "      border-bottom-color: var(--fill-color);\n",
              "    }\n",
              "  }\n",
              "</style>\n",
              "\n",
              "  <script>\n",
              "    async function quickchart(key) {\n",
              "      const quickchartButtonEl =\n",
              "        document.querySelector('#' + key + ' button');\n",
              "      quickchartButtonEl.disabled = true;  // To prevent multiple clicks.\n",
              "      quickchartButtonEl.classList.add('colab-df-spinner');\n",
              "      try {\n",
              "        const charts = await google.colab.kernel.invokeFunction(\n",
              "            'suggestCharts', [key], {});\n",
              "      } catch (error) {\n",
              "        console.error('Error during call to suggestCharts:', error);\n",
              "      }\n",
              "      quickchartButtonEl.classList.remove('colab-df-spinner');\n",
              "      quickchartButtonEl.classList.add('colab-df-quickchart-complete');\n",
              "    }\n",
              "    (() => {\n",
              "      let quickchartButtonEl =\n",
              "        document.querySelector('#df-7364fd21-af2a-416f-bfd4-387a545ef181 button');\n",
              "      quickchartButtonEl.style.display =\n",
              "        google.colab.kernel.accessAllowed ? 'block' : 'none';\n",
              "    })();\n",
              "  </script>\n",
              "</div>\n",
              "\n",
              "    </div>\n",
              "  </div>\n"
            ],
            "application/vnd.google.colaboratory.intrinsic+json": {
              "type": "dataframe",
              "summary": "{\n  \"name\": \"train_dataset[train_dataset['price'] == train_dataset['price']\",\n  \"rows\": 56,\n  \"fields\": [\n    {\n      \"column\": \"id\",\n      \"properties\": {\n        \"dtype\": \"number\",\n        \"std\": 56252,\n        \"min\": 758,\n        \"max\": 179173,\n        \"num_unique_values\": 56,\n        \"samples\": [\n          758,\n          17482,\n          112731\n        ],\n        \"semantic_type\": \"\",\n        \"description\": \"\"\n      }\n    },\n    {\n      \"column\": \"brand\",\n      \"properties\": {\n        \"dtype\": \"category\",\n        \"num_unique_values\": 27,\n        \"samples\": [\n          \"Lincoln\",\n          \"Kia\",\n          \"Nissan\"\n        ],\n        \"semantic_type\": \"\",\n        \"description\": \"\"\n      }\n    },\n    {\n      \"column\": \"model\",\n      \"properties\": {\n        \"dtype\": \"string\",\n        \"num_unique_values\": 49,\n        \"samples\": [\n          \"Golf GTI 2.0T SE 4-Door\",\n          \"S60 R\",\n          \"Cooper S Base\"\n        ],\n        \"semantic_type\": \"\",\n        \"description\": \"\"\n      }\n    },\n    {\n      \"column\": \"model_year\",\n      \"properties\": {\n        \"dtype\": \"number\",\n        \"std\": 3,\n        \"min\": 1994,\n        \"max\": 2012,\n        \"num_unique_values\": 14,\n        \"samples\": [\n          1995,\n          1994,\n          2001\n        ],\n        \"semantic_type\": \"\",\n        \"description\": \"\"\n      }\n    },\n    {\n      \"column\": \"milage\",\n      \"properties\": {\n        \"dtype\": \"number\",\n        \"std\": 44967,\n        \"min\": 16200,\n        \"max\": 220000,\n        \"num_unique_values\": 43,\n        \"samples\": [\n          178000,\n          125000,\n          58981\n        ],\n        \"semantic_type\": \"\",\n        \"description\": \"\"\n      }\n    },\n    {\n      \"column\": \"fuel_type\",\n      \"properties\": {\n        \"dtype\": \"category\",\n        \"num_unique_values\": 3,\n        \"samples\": [\n          \"Gasoline\",\n          \"Hybrid\",\n          \"\\u2013\"\n        ],\n        \"semantic_type\": \"\",\n        \"description\": \"\"\n      }\n    },\n    {\n      \"column\": \"engine\",\n      \"properties\": {\n        \"dtype\": \"string\",\n        \"num_unique_values\": 47,\n        \"samples\": [\n          \"200.0HP 2.2L 4 Cylinder Engine Gasoline Fuel\",\n          \"230.0HP 3.2L Straight 6 Cylinder Engine Gasoline Fuel\",\n          \"225.0HP 3.0L Straight 6 Cylinder Engine Gasoline Fuel\"\n        ],\n        \"semantic_type\": \"\",\n        \"description\": \"\"\n      }\n    },\n    {\n      \"column\": \"transmission\",\n      \"properties\": {\n        \"dtype\": \"category\",\n        \"num_unique_values\": 8,\n        \"samples\": [\n          \"4-Speed A/T\",\n          \"M/T\",\n          \"A/T\"\n        ],\n        \"semantic_type\": \"\",\n        \"description\": \"\"\n      }\n    },\n    {\n      \"column\": \"ext_col\",\n      \"properties\": {\n        \"dtype\": \"category\",\n        \"num_unique_values\": 11,\n        \"samples\": [\n          \"White\",\n          \"Black\",\n          \"Brown\"\n        ],\n        \"semantic_type\": \"\",\n        \"description\": \"\"\n      }\n    },\n    {\n      \"column\": \"int_col\",\n      \"properties\": {\n        \"dtype\": \"category\",\n        \"num_unique_values\": 8,\n        \"samples\": [\n          \"Gray\",\n          \"Blue\",\n          \"Beige\"\n        ],\n        \"semantic_type\": \"\",\n        \"description\": \"\"\n      }\n    },\n    {\n      \"column\": \"accident\",\n      \"properties\": {\n        \"dtype\": \"category\",\n        \"num_unique_values\": 2,\n        \"samples\": [\n          \"At least 1 accident or damage reported\",\n          \"None reported\"\n        ],\n        \"semantic_type\": \"\",\n        \"description\": \"\"\n      }\n    },\n    {\n      \"column\": \"clean_title\",\n      \"properties\": {\n        \"dtype\": \"category\",\n        \"num_unique_values\": 1,\n        \"samples\": [\n          \"Yes\"\n        ],\n        \"semantic_type\": \"\",\n        \"description\": \"\"\n      }\n    },\n    {\n      \"column\": \"price\",\n      \"properties\": {\n        \"dtype\": \"number\",\n        \"std\": 0,\n        \"min\": 2000,\n        \"max\": 2000,\n        \"num_unique_values\": 1,\n        \"samples\": [\n          2000\n        ],\n        \"semantic_type\": \"\",\n        \"description\": \"\"\n      }\n    }\n  ]\n}"
            }
          },
          "metadata": {},
          "execution_count": 14
        }
      ],
      "source": [
        "train_dataset[train_dataset['price'] == train_dataset['price'].min()]"
      ]
    },
    {
      "cell_type": "code",
      "execution_count": null,
      "metadata": {
        "colab": {
          "base_uri": "https://localhost:8080/"
        },
        "id": "vC3zrAjEovuQ",
        "outputId": "9da2539a-447d-4dc9-f318-0240665cffba"
      },
      "outputs": [
        {
          "output_type": "execute_result",
          "data": {
            "text/plain": [
              "43878.01617753921"
            ]
          },
          "metadata": {},
          "execution_count": 15
        }
      ],
      "source": [
        "train_dataset['price'].mean()"
      ]
    },
    {
      "cell_type": "code",
      "execution_count": null,
      "metadata": {
        "id": "v1GKiA1ao--w"
      },
      "outputs": [],
      "source": [
        "%matplotlib inline"
      ]
    },
    {
      "cell_type": "code",
      "execution_count": null,
      "metadata": {
        "id": "wkv-_IwjpCkJ"
      },
      "outputs": [],
      "source": [
        "highest_price = train_dataset[train_dataset['price'] == train_dataset['price'].max()]"
      ]
    },
    {
      "cell_type": "code",
      "execution_count": null,
      "metadata": {
        "colab": {
          "base_uri": "https://localhost:8080/",
          "height": 431
        },
        "id": "2wB6ucRtpIjo",
        "outputId": "83616b98-e7db-45d5-f923-809ce3ce218a"
      },
      "outputs": [
        {
          "output_type": "execute_result",
          "data": {
            "text/plain": [
              "<Axes: xlabel='id'>"
            ]
          },
          "metadata": {},
          "execution_count": 18
        },
        {
          "output_type": "display_data",
          "data": {
            "text/plain": [
              "<Figure size 1600x600 with 1 Axes>"
            ],
            "image/png": "[encoded data removed]"
          },
          "metadata": {}
        }
      ],
      "source": [
        "highest_price.plot(figsize=(16, 6))"
      ]
    },
    {
      "cell_type": "markdown",
      "metadata": {
        "id": "mWgB2cJnpV0k"
      },
      "source": [
        "### Step-3: Feature Understanding\n",
        "\n",
        "### Plotting feature distribution\n",
        "*   Histogram\n",
        "*   KDE\n",
        "\n",
        "\n",
        "*   BoxPlot\n",
        "\n",
        "\n",
        "\n"
      ]
    },
    {
      "cell_type": "code",
      "execution_count": null,
      "metadata": {
        "colab": {
          "base_uri": "https://localhost:8080/"
        },
        "id": "g0BS8axfpbtV",
        "outputId": "59b2012c-10f7-45c7-e0fd-5ddf9f636adc"
      },
      "outputs": [
        {
          "output_type": "execute_result",
          "data": {
            "text/plain": [
              "Index(['brand', 'model', 'model_year', 'milage', 'fuel_type', 'engine',\n",
              "       'transmission', 'ext_col', 'int_col', 'accident', 'clean_title',\n",
              "       'price'],\n",
              "      dtype='object')"
            ]
          },
          "metadata": {},
          "execution_count": 19
        }
      ],
      "source": [
        "train_dataset.columns"
      ]
    },
    {
      "cell_type": "code",
      "execution_count": null,
      "metadata": {
        "colab": {
          "base_uri": "https://localhost:8080/",
          "height": 513
        },
        "id": "1D1KAA54pKV0",
        "outputId": "2119f606-266b-42b6-b932-417b755543cd"
      },
      "outputs": [
        {
          "output_type": "execute_result",
          "data": {
            "text/plain": [
              "<Axes: xlabel='id'>"
            ]
          },
          "metadata": {},
          "execution_count": 20
        },
        {
          "output_type": "display_data",
          "data": {
            "text/plain": [
              "<Figure size 640x480 with 1 Axes>"
            ],
            "image/png": "[encoded data removed]"
          },
          "metadata": {}
        }
      ],
      "source": [
        "train_dataset['milage'].tail(10).plot(kind='bar')"
      ]
    },
    {
      "cell_type": "code",
      "execution_count": null,
      "metadata": {
        "colab": {
          "base_uri": "https://localhost:8080/",
          "height": 465
        },
        "id": "s3GADJ9GphHf",
        "outputId": "49ef3d26-3eb9-49d3-ae1a-215fe93654b7"
      },
      "outputs": [
        {
          "output_type": "execute_result",
          "data": {
            "text/plain": [
              "<Axes: xlabel='id'>"
            ]
          },
          "metadata": {},
          "execution_count": 21
        },
        {
          "output_type": "display_data",
          "data": {
            "text/plain": [
              "<Figure size 640x480 with 1 Axes>"
            ],
            "image/png": "[encoded data removed]"
          },
          "metadata": {}
        }
      ],
      "source": [
        "train_dataset['milage'].head(10).plot(kind='bar')"
      ]
    },
    {
      "cell_type": "code",
      "execution_count": null,
      "metadata": {
        "colab": {
          "base_uri": "https://localhost:8080/",
          "height": 474
        },
        "id": "YOutMtA3pkkm",
        "outputId": "c22c4b35-45c2-41a6-82e9-55342fb3a8a0"
      },
      "outputs": [
        {
          "output_type": "execute_result",
          "data": {
            "text/plain": [
              "<Axes: xlabel='id'>"
            ]
          },
          "metadata": {},
          "execution_count": 22
        },
        {
          "output_type": "display_data",
          "data": {
            "text/plain": [
              "<Figure size 640x480 with 1 Axes>"
            ],
            "image/png": "[encoded data removed]"
          },
          "metadata": {}
        }
      ],
      "source": [
        "train_dataset['model_year'].head(20).plot(kind='bar')"
      ]
    },
    {
      "cell_type": "code",
      "execution_count": null,
      "metadata": {
        "colab": {
          "base_uri": "https://localhost:8080/",
          "height": 465
        },
        "id": "i3BCPSULpnTb",
        "outputId": "d7170579-f22c-474f-e72c-bd49ea2838ec"
      },
      "outputs": [
        {
          "output_type": "execute_result",
          "data": {
            "text/plain": [
              "<Axes: xlabel='id'>"
            ]
          },
          "metadata": {},
          "execution_count": 23
        },
        {
          "output_type": "display_data",
          "data": {
            "text/plain": [
              "<Figure size 640x480 with 1 Axes>"
            ],
            "image/png": "[encoded data removed]"
          },
          "metadata": {}
        }
      ],
      "source": [
        "train_dataset['price'].head(10).plot(kind='bar')"
      ]
    },
    {
      "cell_type": "code",
      "execution_count": null,
      "metadata": {
        "colab": {
          "base_uri": "https://localhost:8080/",
          "height": 447
        },
        "id": "N6BOHjqRpx4y",
        "outputId": "2338a8f5-b822-4477-c729-b0b2346c1373"
      },
      "outputs": [
        {
          "output_type": "execute_result",
          "data": {
            "text/plain": [
              "<Axes: ylabel='Frequency'>"
            ]
          },
          "metadata": {},
          "execution_count": 24
        },
        {
          "output_type": "display_data",
          "data": {
            "text/plain": [
              "<Figure size 640x480 with 1 Axes>"
            ],
            "image/png": "[encoded data removed]"
          },
          "metadata": {}
        }
      ],
      "source": [
        "train_dataset['milage'].plot(kind='hist', bins=20)"
      ]
    },
    {
      "cell_type": "code",
      "execution_count": null,
      "metadata": {
        "colab": {
          "base_uri": "https://localhost:8080/",
          "height": 462
        },
        "id": "S6KTtWm-p45J",
        "outputId": "2a477c05-f01d-47c1-9478-c0b9b8ba0dcf"
      },
      "outputs": [
        {
          "output_type": "execute_result",
          "data": {
            "text/plain": [
              "<Axes: ylabel='Density'>"
            ]
          },
          "metadata": {},
          "execution_count": 25
        },
        {
          "output_type": "display_data",
          "data": {
            "text/plain": [
              "<Figure size 640x480 with 1 Axes>"
            ],
            "image/png": "[encoded data removed]"
          },
          "metadata": {}
        }
      ],
      "source": [
        "train_dataset['milage'].plot(kind='kde')"
      ]
    },
    {
      "cell_type": "code",
      "execution_count": null,
      "metadata": {
        "id": "FxcjpTspqOHd"
      },
      "outputs": [],
      "source": [
        "import seaborn as sns"
      ]
    },
    {
      "cell_type": "code",
      "execution_count": null,
      "metadata": {
        "colab": {
          "base_uri": "https://localhost:8080/"
        },
        "id": "MilifjXcqUQ1",
        "outputId": "51989388-cb75-4949-9af9-698e80a5564d"
      },
      "outputs": [
        {
          "output_type": "execute_result",
          "data": {
            "text/plain": [
              "Index(['brand', 'model', 'model_year', 'milage', 'fuel_type', 'engine',\n",
              "       'transmission', 'ext_col', 'int_col', 'accident', 'clean_title',\n",
              "       'price'],\n",
              "      dtype='object')"
            ]
          },
          "metadata": {},
          "execution_count": 27
        }
      ],
      "source": [
        "train_dataset.columns"
      ]
    },
    {
      "cell_type": "code",
      "execution_count": null,
      "metadata": {
        "id": "znRO-Fvgp8PT",
        "colab": {
          "base_uri": "https://localhost:8080/",
          "height": 523
        },
        "outputId": "8bb0139c-7df6-49eb-db1d-57a2a0d46409"
      },
      "outputs": [
        {
          "output_type": "execute_result",
          "data": {
            "text/plain": [
              "<seaborn.axisgrid.FacetGrid at 0x79f83fce2dd0>"
            ]
          },
          "metadata": {},
          "execution_count": 28
        },
        {
          "output_type": "display_data",
          "data": {
            "text/plain": [
              "<Figure size 511.111x500 with 1 Axes>"
            ],
            "image/png": "[encoded data removed]"
          },
          "metadata": {}
        }
      ],
      "source": [
        "sns.catplot(data=train_dataset, x=\"model\", y=\"price\")"
      ]
    },
    {
      "cell_type": "code",
      "execution_count": null,
      "metadata": {
        "id": "EFAlQbp1qYhV",
        "colab": {
          "base_uri": "https://localhost:8080/",
          "height": 477
        },
        "outputId": "abbcd101-3c3d-4d9f-e810-b9d5a86cca2b"
      },
      "outputs": [
        {
          "output_type": "display_data",
          "data": {
            "text/plain": [
              "<Figure size 640x480 with 1 Axes>"
            ],
            "image/png": "[encoded data removed]"
          },
          "metadata": {}
        }
      ],
      "source": [
        "train_dataset.plot(kind='scatter', x='milage',\n",
        "             y='price', title = 'Car Price According To Milage')\n",
        "plt.show()"
      ]
    },
    {
      "cell_type": "code",
      "execution_count": null,
      "metadata": {
        "id": "ZV2Rdggxq5N6",
        "colab": {
          "base_uri": "https://localhost:8080/",
          "height": 477
        },
        "outputId": "cdb473b2-b4e3-47c8-86ca-9844efd0bab4"
      },
      "outputs": [
        {
          "output_type": "display_data",
          "data": {
            "text/plain": [
              "<Figure size 640x480 with 1 Axes>"
            ],
            "image/png": "[encoded data removed]"
          },
          "metadata": {}
        }
      ],
      "source": [
        "train_dataset.plot(kind='scatter', x='milage',\n",
        "             y='model_year', title = 'Car Milage VS Model Year')\n",
        "plt.show()"
      ]
    },
    {
      "cell_type": "code",
      "execution_count": null,
      "metadata": {
        "id": "XJmJoK_oq_3T",
        "colab": {
          "base_uri": "https://localhost:8080/"
        },
        "outputId": "a62ce33e-3b2e-4b49-90a8-3fe38ea41395"
      },
      "outputs": [
        {
          "output_type": "execute_result",
          "data": {
            "text/plain": [
              "Index(['model_year', 'milage', 'price'], dtype='object')"
            ]
          },
          "metadata": {},
          "execution_count": 31
        }
      ],
      "source": [
        "train_dataset.select_dtypes(include=['float64', 'int64']).columns"
      ]
    },
    {
      "cell_type": "code",
      "execution_count": null,
      "metadata": {
        "id": "4W22_-G2rI3v"
      },
      "outputs": [],
      "source": [
        "dataset_corr = train_dataset[['model_year', 'milage']].corr()"
      ]
    },
    {
      "cell_type": "code",
      "execution_count": null,
      "metadata": {
        "id": "VJIPiSOhrOFF",
        "colab": {
          "base_uri": "https://localhost:8080/",
          "height": 125
        },
        "outputId": "d33ecacf-06c6-4c61-8975-77d592fe6cab"
      },
      "outputs": [
        {
          "output_type": "execute_result",
          "data": {
            "text/plain": [
              "            model_year    milage\n",
              "model_year    1.000000 -0.669936\n",
              "milage       -0.669936  1.000000"
            ],
            "text/html": [
              "\n",
              "  <div id=\"df-79b247db-8307-4284-9c3f-4f325bc11a4e\" class=\"colab-df-container\">\n",
              "    <div>\n",
              "<style scoped>\n",
              "    .dataframe tbody tr th:only-of-type {\n",
              "        vertical-align: middle;\n",
              "    }\n",
              "\n",
              "    .dataframe tbody tr th {\n",
              "        vertical-align: top;\n",
              "    }\n",
              "\n",
              "    .dataframe thead th {\n",
              "        text-align: right;\n",
              "    }\n",
              "</style>\n",
              "<table border=\"1\" class=\"dataframe\">\n",
              "  <thead>\n",
              "    <tr style=\"text-align: right;\">\n",
              "      <th></th>\n",
              "      <th>model_year</th>\n",
              "      <th>milage</th>\n",
              "    </tr>\n",
              "  </thead>\n",
              "  <tbody>\n",
              "    <tr>\n",
              "      <th>model_year</th>\n",
              "      <td>1.000000</td>\n",
              "      <td>-0.669936</td>\n",
              "    </tr>\n",
              "    <tr>\n",
              "      <th>milage</th>\n",
              "      <td>-0.669936</td>\n",
              "      <td>1.000000</td>\n",
              "    </tr>\n",
              "  </tbody>\n",
              "</table>\n",
              "</div>\n",
              "    <div class=\"colab-df-buttons\">\n",
              "\n",
              "  <div class=\"colab-df-container\">\n",
              "    <button class=\"colab-df-convert\" onclick=\"convertToInteractive('df-79b247db-8307-4284-9c3f-4f325bc11a4e')\"\n",
              "            title=\"Convert this dataframe to an interactive table.\"\n",
              "            style=\"display:none;\">\n",
              "\n",
              "  <svg xmlns=\"http://www.w3.org/2000/svg\" height=\"24px\" viewBox=\"0 -960 960 960\">\n",
              "    <path d=\"M120-120v-720h720v720H120Zm60-500h600v-160H180v160Zm220 220h160v-160H400v160Zm0 220h160v-160H400v160ZM180-400h160v-160H180v160Zm440 0h160v-160H620v160ZM180-180h160v-160H180v160Zm440 0h160v-160H620v160Z\"/>\n",
              "  </svg>\n",
              "    </button>\n",
              "\n",
              "  <style>\n",
              "    .colab-df-container {\n",
              "      display:flex;\n",
              "      gap: 12px;\n",
              "    }\n",
              "\n",
              "    .colab-df-convert {\n",
              "      background-color: #E8F0FE;\n",
              "      border: none;\n",
              "      border-radius: 50%;\n",
              "      cursor: pointer;\n",
              "      display: none;\n",
              "      fill: #1967D2;\n",
              "      height: 32px;\n",
              "      padding: 0 0 0 0;\n",
              "      width: 32px;\n",
              "    }\n",
              "\n",
              "    .colab-df-convert:hover {\n",
              "      background-color: #E2EBFA;\n",
              "      box-shadow: 0px 1px 2px rgba(60, 64, 67, 0.3), 0px 1px 3px 1px rgba(60, 64, 67, 0.15);\n",
              "      fill: #174EA6;\n",
              "    }\n",
              "\n",
              "    .colab-df-buttons div {\n",
              "      margin-bottom: 4px;\n",
              "    }\n",
              "\n",
              "    [theme=dark] .colab-df-convert {\n",
              "      background-color: #3B4455;\n",
              "      fill: #D2E3FC;\n",
              "    }\n",
              "\n",
              "    [theme=dark] .colab-df-convert:hover {\n",
              "      background-color: #434B5C;\n",
              "      box-shadow: 0px 1px 3px 1px rgba(0, 0, 0, 0.15);\n",
              "      filter: drop-shadow(0px 1px 2px rgba(0, 0, 0, 0.3));\n",
              "      fill: #FFFFFF;\n",
              "    }\n",
              "  </style>\n",
              "\n",
              "    <script>\n",
              "      const buttonEl =\n",
              "        document.querySelector('#df-79b247db-8307-4284-9c3f-4f325bc11a4e button.colab-df-convert');\n",
              "      buttonEl.style.display =\n",
              "        google.colab.kernel.accessAllowed ? 'block' : 'none';\n",
              "\n",
              "      async function convertToInteractive(key) {\n",
              "        const element = document.querySelector('#df-79b247db-8307-4284-9c3f-4f325bc11a4e');\n",
              "        const dataTable =\n",
              "          await google.colab.kernel.invokeFunction('convertToInteractive',\n",
              "                                                    [key], {});\n",
              "        if (!dataTable) return;\n",
              "\n",
              "        const docLinkHtml = 'Like what you see? Visit the ' +\n",
              "          '<a target=\"_blank\" href=https://colab.research.google.com/notebooks/data_table.ipynb>data table notebook</a>'\n",
              "          + ' to learn more about interactive tables.';\n",
              "        element.innerHTML = '';\n",
              "        dataTable['output_type'] = 'display_data';\n",
              "        await google.colab.output.renderOutput(dataTable, element);\n",
              "        const docLink = document.createElement('div');\n",
              "        docLink.innerHTML = docLinkHtml;\n",
              "        element.appendChild(docLink);\n",
              "      }\n",
              "    </script>\n",
              "  </div>\n",
              "\n",
              "\n",
              "<div id=\"df-d22463b0-3357-4bbf-9ed8-02fc54bcab35\">\n",
              "  <button class=\"colab-df-quickchart\" onclick=\"quickchart('df-d22463b0-3357-4bbf-9ed8-02fc54bcab35')\"\n",
              "            title=\"Suggest charts\"\n",
              "            style=\"display:none;\">\n",
              "\n",
              "<svg xmlns=\"http://www.w3.org/2000/svg\" height=\"24px\"viewBox=\"0 0 24 24\"\n",
              "     width=\"24px\">\n",
              "    <g>\n",
              "        <path d=\"M19 3H5c-1.1 0-2 .9-2 2v14c0 1.1.9 2 2 2h14c1.1 0 2-.9 2-2V5c0-1.1-.9-2-2-2zM9 17H7v-7h2v7zm4 0h-2V7h2v10zm4 0h-2v-4h2v4z\"/>\n",
              "    </g>\n",
              "</svg>\n",
              "  </button>\n",
              "\n",
              "<style>\n",
              "  .colab-df-quickchart {\n",
              "      --bg-color: #E8F0FE;\n",
              "      --fill-color: #1967D2;\n",
              "      --hover-bg-color: #E2EBFA;\n",
              "      --hover-fill-color: #174EA6;\n",
              "      --disabled-fill-color: #AAA;\n",
              "      --disabled-bg-color: #DDD;\n",
              "  }\n",
              "\n",
              "  [theme=dark] .colab-df-quickchart {\n",
              "      --bg-color: #3B4455;\n",
              "      --fill-color: #D2E3FC;\n",
              "      --hover-bg-color: #434B5C;\n",
              "      --hover-fill-color: #FFFFFF;\n",
              "      --disabled-bg-color: #3B4455;\n",
              "      --disabled-fill-color: #666;\n",
              "  }\n",
              "\n",
              "  .colab-df-quickchart {\n",
              "    background-color: var(--bg-color);\n",
              "    border: none;\n",
              "    border-radius: 50%;\n",
              "    cursor: pointer;\n",
              "    display: none;\n",
              "    fill: var(--fill-color);\n",
              "    height: 32px;\n",
              "    padding: 0;\n",
              "    width: 32px;\n",
              "  }\n",
              "\n",
              "  .colab-df-quickchart:hover {\n",
              "    background-color: var(--hover-bg-color);\n",
              "    box-shadow: 0 1px 2px rgba(60, 64, 67, 0.3), 0 1px 3px 1px rgba(60, 64, 67, 0.15);\n",
              "    fill: var(--button-hover-fill-color);\n",
              "  }\n",
              "\n",
              "  .colab-df-quickchart-complete:disabled,\n",
              "  .colab-df-quickchart-complete:disabled:hover {\n",
              "    background-color: var(--disabled-bg-color);\n",
              "    fill: var(--disabled-fill-color);\n",
              "    box-shadow: none;\n",
              "  }\n",
              "\n",
              "  .colab-df-spinner {\n",
              "    border: 2px solid var(--fill-color);\n",
              "    border-color: transparent;\n",
              "    border-bottom-color: var(--fill-color);\n",
              "    animation:\n",
              "      spin 1s steps(1) infinite;\n",
              "  }\n",
              "\n",
              "  @keyframes spin {\n",
              "    0% {\n",
              "      border-color: transparent;\n",
              "      border-bottom-color: var(--fill-color);\n",
              "      border-left-color: var(--fill-color);\n",
              "    }\n",
              "    20% {\n",
              "      border-color: transparent;\n",
              "      border-left-color: var(--fill-color);\n",
              "      border-top-color: var(--fill-color);\n",
              "    }\n",
              "    30% {\n",
              "      border-color: transparent;\n",
              "      border-left-color: var(--fill-color);\n",
              "      border-top-color: var(--fill-color);\n",
              "      border-right-color: var(--fill-color);\n",
              "    }\n",
              "    40% {\n",
              "      border-color: transparent;\n",
              "      border-right-color: var(--fill-color);\n",
              "      border-top-color: var(--fill-color);\n",
              "    }\n",
              "    60% {\n",
              "      border-color: transparent;\n",
              "      border-right-color: var(--fill-color);\n",
              "    }\n",
              "    80% {\n",
              "      border-color: transparent;\n",
              "      border-right-color: var(--fill-color);\n",
              "      border-bottom-color: var(--fill-color);\n",
              "    }\n",
              "    90% {\n",
              "      border-color: transparent;\n",
              "      border-bottom-color: var(--fill-color);\n",
              "    }\n",
              "  }\n",
              "</style>\n",
              "\n",
              "  <script>\n",
              "    async function quickchart(key) {\n",
              "      const quickchartButtonEl =\n",
              "        document.querySelector('#' + key + ' button');\n",
              "      quickchartButtonEl.disabled = true;  // To prevent multiple clicks.\n",
              "      quickchartButtonEl.classList.add('colab-df-spinner');\n",
              "      try {\n",
              "        const charts = await google.colab.kernel.invokeFunction(\n",
              "            'suggestCharts', [key], {});\n",
              "      } catch (error) {\n",
              "        console.error('Error during call to suggestCharts:', error);\n",
              "      }\n",
              "      quickchartButtonEl.classList.remove('colab-df-spinner');\n",
              "      quickchartButtonEl.classList.add('colab-df-quickchart-complete');\n",
              "    }\n",
              "    (() => {\n",
              "      let quickchartButtonEl =\n",
              "        document.querySelector('#df-d22463b0-3357-4bbf-9ed8-02fc54bcab35 button');\n",
              "      quickchartButtonEl.style.display =\n",
              "        google.colab.kernel.accessAllowed ? 'block' : 'none';\n",
              "    })();\n",
              "  </script>\n",
              "</div>\n",
              "\n",
              "  <div id=\"id_41aacb39-a2f3-43fc-be05-7fcfa9c65622\">\n",
              "    <style>\n",
              "      .colab-df-generate {\n",
              "        background-color: #E8F0FE;\n",
              "        border: none;\n",
              "        border-radius: 50%;\n",
              "        cursor: pointer;\n",
              "        display: none;\n",
              "        fill: #1967D2;\n",
              "        height: 32px;\n",
              "        padding: 0 0 0 0;\n",
              "        width: 32px;\n",
              "      }\n",
              "\n",
              "      .colab-df-generate:hover {\n",
              "        background-color: #E2EBFA;\n",
              "        box-shadow: 0px 1px 2px rgba(60, 64, 67, 0.3), 0px 1px 3px 1px rgba(60, 64, 67, 0.15);\n",
              "        fill: #174EA6;\n",
              "      }\n",
              "\n",
              "      [theme=dark] .colab-df-generate {\n",
              "        background-color: #3B4455;\n",
              "        fill: #D2E3FC;\n",
              "      }\n",
              "\n",
              "      [theme=dark] .colab-df-generate:hover {\n",
              "        background-color: #434B5C;\n",
              "        box-shadow: 0px 1px 3px 1px rgba(0, 0, 0, 0.15);\n",
              "        filter: drop-shadow(0px 1px 2px rgba(0, 0, 0, 0.3));\n",
              "        fill: #FFFFFF;\n",
              "      }\n",
              "    </style>\n",
              "    <button class=\"colab-df-generate\" onclick=\"generateWithVariable('dataset_corr')\"\n",
              "            title=\"Generate code using this dataframe.\"\n",
              "            style=\"display:none;\">\n",
              "\n",
              "  <svg xmlns=\"http://www.w3.org/2000/svg\" height=\"24px\"viewBox=\"0 0 24 24\"\n",
              "       width=\"24px\">\n",
              "    <path d=\"M7,19H8.4L18.45,9,17,7.55,7,17.6ZM5,21V16.75L18.45,3.32a2,2,0,0,1,2.83,0l1.4,1.43a1.91,1.91,0,0,1,.58,1.4,1.91,1.91,0,0,1-.58,1.4L9.25,21ZM18.45,9,17,7.55Zm-12,3A5.31,5.31,0,0,0,4.9,8.1,5.31,5.31,0,0,0,1,6.5,5.31,5.31,0,0,0,4.9,4.9,5.31,5.31,0,0,0,6.5,1,5.31,5.31,0,0,0,8.1,4.9,5.31,5.31,0,0,0,12,6.5,5.46,5.46,0,0,0,6.5,12Z\"/>\n",
              "  </svg>\n",
              "    </button>\n",
              "    <script>\n",
              "      (() => {\n",
              "      const buttonEl =\n",
              "        document.querySelector('#id_41aacb39-a2f3-43fc-be05-7fcfa9c65622 button.colab-df-generate');\n",
              "      buttonEl.style.display =\n",
              "        google.colab.kernel.accessAllowed ? 'block' : 'none';\n",
              "\n",
              "      buttonEl.onclick = () => {\n",
              "        google.colab.notebook.generateWithVariable('dataset_corr');\n",
              "      }\n",
              "      })();\n",
              "    </script>\n",
              "  </div>\n",
              "\n",
              "    </div>\n",
              "  </div>\n"
            ],
            "application/vnd.google.colaboratory.intrinsic+json": {
              "type": "dataframe",
              "variable_name": "dataset_corr",
              "summary": "{\n  \"name\": \"dataset_corr\",\n  \"rows\": 2,\n  \"fields\": [\n    {\n      \"column\": \"model_year\",\n      \"properties\": {\n        \"dtype\": \"number\",\n        \"std\": 1.1808231828707594,\n        \"min\": -0.6699361599803931,\n        \"max\": 1.0,\n        \"num_unique_values\": 2,\n        \"samples\": [\n          -0.6699361599803931,\n          1.0\n        ],\n        \"semantic_type\": \"\",\n        \"description\": \"\"\n      }\n    },\n    {\n      \"column\": \"milage\",\n      \"properties\": {\n        \"dtype\": \"number\",\n        \"std\": 1.1808231828707594,\n        \"min\": -0.6699361599803931,\n        \"max\": 1.0,\n        \"num_unique_values\": 2,\n        \"samples\": [\n          1.0,\n          -0.6699361599803931\n        ],\n        \"semantic_type\": \"\",\n        \"description\": \"\"\n      }\n    }\n  ]\n}"
            }
          },
          "metadata": {},
          "execution_count": 33
        }
      ],
      "source": [
        "dataset_corr"
      ]
    },
    {
      "cell_type": "code",
      "execution_count": null,
      "metadata": {
        "id": "6lzxgdfMrPQS",
        "colab": {
          "base_uri": "https://localhost:8080/",
          "height": 452
        },
        "outputId": "307556f2-13de-4849-d61e-a90149b529f1"
      },
      "outputs": [
        {
          "output_type": "execute_result",
          "data": {
            "text/plain": [
              "<Axes: >"
            ]
          },
          "metadata": {},
          "execution_count": 34
        },
        {
          "output_type": "display_data",
          "data": {
            "text/plain": [
              "<Figure size 640x480 with 2 Axes>"
            ],
            "image/png": "[encoded data removed]"
          },
          "metadata": {}
        }
      ],
      "source": [
        "sns.heatmap(dataset_corr, annot=True)"
      ]
    },
    {
      "cell_type": "markdown",
      "metadata": {
        "id": "WrBXqrPRrWjn"
      },
      "source": [
        "#### Check Outliers"
      ]
    },
    {
      "cell_type": "code",
      "execution_count": null,
      "metadata": {
        "id": "RoBBeygjrSrl",
        "colab": {
          "base_uri": "https://localhost:8080/",
          "height": 1000
        },
        "outputId": "45a8a022-5bc8-4e38-e282-d473027152f5"
      },
      "outputs": [
        {
          "output_type": "execute_result",
          "data": {
            "text/plain": [
              "array([[<Axes: title={'center': 'model_year'}>,\n",
              "        <Axes: title={'center': 'milage'}>],\n",
              "       [<Axes: title={'center': 'price'}>, <Axes: >]], dtype=object)"
            ]
          },
          "metadata": {},
          "execution_count": 35
        },
        {
          "output_type": "display_data",
          "data": {
            "text/plain": [
              "<Figure size 1600x2000 with 4 Axes>"
            ],
            "image/png": "[encoded data removed]"
          },
          "metadata": {}
        }
      ],
      "source": [
        "train_dataset.hist(figsize=(16, 20), bins=50, xlabelsize=8, ylabelsize=8)"
      ]
    },
    {
      "cell_type": "code",
      "execution_count": null,
      "metadata": {
        "id": "mFl-YJOZrbGF"
      },
      "outputs": [],
      "source": [
        "temp = train_dataset[train_dataset['model_year'] < 1980]"
      ]
    },
    {
      "cell_type": "code",
      "execution_count": null,
      "metadata": {
        "id": "LCjpBSPjrn7D",
        "colab": {
          "base_uri": "https://localhost:8080/",
          "height": 512
        },
        "outputId": "9ee11f08-14df-4c47-8449-3a4fc0ba0977"
      },
      "outputs": [
        {
          "output_type": "execute_result",
          "data": {
            "text/plain": [
              "<Axes: xlabel='model_year', ylabel='price'>"
            ]
          },
          "metadata": {},
          "execution_count": 37
        },
        {
          "output_type": "display_data",
          "data": {
            "text/plain": [
              "<Figure size 1600x800 with 1 Axes>"
            ],
            "image/png": "[encoded data removed]"
          },
          "metadata": {}
        }
      ],
      "source": [
        "temp[['price', 'model_year']].plot(kind='scatter', x='model_year', y='price', figsize=(16, 8))"
      ]
    },
    {
      "cell_type": "code",
      "execution_count": null,
      "metadata": {
        "id": "J6VS3zsmrrr-"
      },
      "outputs": [],
      "source": [
        "temp = train_dataset[train_dataset['milage'] > 250000]"
      ]
    },
    {
      "cell_type": "code",
      "execution_count": null,
      "metadata": {
        "id": "ArH3M69Sr11z",
        "colab": {
          "base_uri": "https://localhost:8080/",
          "height": 512
        },
        "outputId": "a9984e58-dad7-4dd8-d7ea-df21c6d31a29"
      },
      "outputs": [
        {
          "output_type": "execute_result",
          "data": {
            "text/plain": [
              "<Axes: xlabel='milage', ylabel='price'>"
            ]
          },
          "metadata": {},
          "execution_count": 39
        },
        {
          "output_type": "display_data",
          "data": {
            "text/plain": [
              "<Figure size 1600x800 with 1 Axes>"
            ],
            "image/png": "[encoded data removed]"
          },
          "metadata": {}
        }
      ],
      "source": [
        "temp[['price', 'milage']].plot(kind='scatter', x='milage', y='price', figsize=(16, 8))"
      ]
    },
    {
      "cell_type": "code",
      "execution_count": null,
      "metadata": {
        "id": "vKZGGSR3r4pM"
      },
      "outputs": [],
      "source": [
        "num_cols = train_dataset.select_dtypes(include=['float64', 'int64']).columns"
      ]
    },
    {
      "cell_type": "code",
      "execution_count": null,
      "metadata": {
        "id": "aMEMQChDsnNj"
      },
      "outputs": [],
      "source": [
        "max_threshold = []\n",
        "min_threshold = []\n",
        "for i in range(len(num_cols)):\n",
        "  max_threshold.append(train_dataset[num_cols[i]].quantile(0.95))\n",
        "  min_threshold.append(train_dataset[num_cols[i]].quantile(0.05))"
      ]
    },
    {
      "cell_type": "code",
      "execution_count": null,
      "metadata": {
        "id": "ZEYcAcnZstLw",
        "colab": {
          "base_uri": "https://localhost:8080/"
        },
        "outputId": "b57523e6-8d9a-41ad-d114-da8c949ded4b"
      },
      "outputs": [
        {
          "output_type": "stream",
          "name": "stdout",
          "text": [
            "model_year : max_threshold =   2022.0  and min_threshold =  2004.0\n",
            "milage : max_threshold =   161800.0  and min_threshold =  4200.0\n",
            "price : max_threshold =   107900.0  and min_threshold =  6999.0\n"
          ]
        }
      ],
      "source": [
        "for i in range(len(num_cols)):\n",
        "  print(num_cols[i], \": max_threshold =  \" , max_threshold[i], \" and min_threshold = \", min_threshold[i])"
      ]
    },
    {
      "cell_type": "markdown",
      "metadata": {
        "id": "EuDrr-fus0Ji"
      },
      "source": [
        "### Step-4: Data Cleaning\n"
      ]
    },
    {
      "cell_type": "markdown",
      "metadata": {
        "id": "fcD8aK2vs2to"
      },
      "source": [
        "#### Feature Engineering"
      ]
    },
    {
      "cell_type": "code",
      "execution_count": null,
      "metadata": {
        "id": "Ai3Z1kdhtKS5",
        "colab": {
          "base_uri": "https://localhost:8080/"
        },
        "outputId": "b1f388e7-6279-43d2-cfc1-4c2f96589305"
      },
      "outputs": [
        {
          "output_type": "execute_result",
          "data": {
            "text/plain": [
              "7"
            ]
          },
          "metadata": {},
          "execution_count": 43
        }
      ],
      "source": [
        "train_dataset['fuel_type'].nunique()"
      ]
    },
    {
      "cell_type": "code",
      "execution_count": null,
      "metadata": {
        "id": "dZSzziIds_iW",
        "colab": {
          "base_uri": "https://localhost:8080/"
        },
        "outputId": "541f2a54-4ad7-47f6-82a9-fb96b6d26807"
      },
      "outputs": [
        {
          "output_type": "execute_result",
          "data": {
            "text/plain": [
              "array(['Gasoline', 'E85 Flex Fuel', nan, 'Hybrid', 'Diesel',\n",
              "       'Plug-In Hybrid', '–', 'not supported'], dtype=object)"
            ]
          },
          "metadata": {},
          "execution_count": 44
        }
      ],
      "source": [
        "train_dataset['fuel_type'].unique()"
      ]
    },
    {
      "cell_type": "code",
      "execution_count": null,
      "metadata": {
        "id": "Ouac7MbKthKP"
      },
      "outputs": [],
      "source": [
        "train_dataset.loc[train_dataset[\"fuel_type\"] == \"–\", \"fuel_type\"] = 'not supported'"
      ]
    },
    {
      "cell_type": "code",
      "execution_count": null,
      "metadata": {
        "id": "BWKQ0_mhuW-j",
        "colab": {
          "base_uri": "https://localhost:8080/"
        },
        "outputId": "2a76009a-33e3-48ca-b33f-5a7579994ee2"
      },
      "outputs": [
        {
          "output_type": "execute_result",
          "data": {
            "text/plain": [
              "array(['Gasoline', 'E85 Flex Fuel', nan, 'Hybrid', 'Diesel',\n",
              "       'Plug-In Hybrid', 'not supported'], dtype=object)"
            ]
          },
          "metadata": {},
          "execution_count": 46
        }
      ],
      "source": [
        "train_dataset['fuel_type'].unique()"
      ]
    },
    {
      "cell_type": "code",
      "execution_count": null,
      "metadata": {
        "id": "m9i7qKXbM2Lz"
      },
      "outputs": [],
      "source": [
        "miss_val_cols = ['fuel_type', 'accident', 'clean_title']"
      ]
    },
    {
      "cell_type": "code",
      "execution_count": null,
      "metadata": {
        "id": "PxdEJCZ4M18_",
        "colab": {
          "base_uri": "https://localhost:8080/"
        },
        "outputId": "d97de4fc-be46-4687-fe5c-b7e22bc5580e"
      },
      "outputs": [
        {
          "output_type": "execute_result",
          "data": {
            "text/plain": [
              "array(['None reported', 'At least 1 accident or damage reported', nan],\n",
              "      dtype=object)"
            ]
          },
          "metadata": {},
          "execution_count": 48
        }
      ],
      "source": [
        "train_dataset['accident'].unique()"
      ]
    },
    {
      "cell_type": "code",
      "execution_count": null,
      "metadata": {
        "id": "34fwpUJ5NIia"
      },
      "outputs": [],
      "source": [
        "train_dataset.loc[train_dataset[\"accident\"] == \"None reported\", \"accident\"] = 0\n",
        "train_dataset.loc[train_dataset[\"accident\"] == \"At least 1 accident or damage reported\", \"accident\"] = 1"
      ]
    },
    {
      "cell_type": "code",
      "execution_count": null,
      "metadata": {
        "id": "dOvyAoSMNX6j",
        "colab": {
          "base_uri": "https://localhost:8080/"
        },
        "outputId": "3ee4b4f0-7825-4dc7-a16b-063370481b99"
      },
      "outputs": [
        {
          "output_type": "execute_result",
          "data": {
            "text/plain": [
              "array([0, 1, nan], dtype=object)"
            ]
          },
          "metadata": {},
          "execution_count": 50
        }
      ],
      "source": [
        "train_dataset['accident'].unique()"
      ]
    },
    {
      "cell_type": "code",
      "execution_count": null,
      "metadata": {
        "id": "fFZRccNQP4TH",
        "colab": {
          "base_uri": "https://localhost:8080/"
        },
        "outputId": "0f2ff51d-d6c1-4181-8c2c-3b4ac4a16243"
      },
      "outputs": [
        {
          "output_type": "execute_result",
          "data": {
            "text/plain": [
              "array(['Yes', nan], dtype=object)"
            ]
          },
          "metadata": {},
          "execution_count": 51
        }
      ],
      "source": [
        "train_dataset['clean_title'].unique()"
      ]
    },
    {
      "cell_type": "code",
      "execution_count": null,
      "metadata": {
        "id": "YAld1GFrOpLa"
      },
      "outputs": [],
      "source": [
        "train_dataset = train_dataset.fillna(train_dataset.mode().iloc[0])"
      ]
    },
    {
      "cell_type": "code",
      "execution_count": null,
      "metadata": {
        "id": "ual34GWZQBvY",
        "colab": {
          "base_uri": "https://localhost:8080/"
        },
        "outputId": "6b70aa22-532c-443f-8cf9-d2f5753e9313"
      },
      "outputs": [
        {
          "output_type": "execute_result",
          "data": {
            "text/plain": [
              "array(['Yes'], dtype=object)"
            ]
          },
          "metadata": {},
          "execution_count": 53
        }
      ],
      "source": [
        "train_dataset['clean_title'].unique()\n"
      ]
    },
    {
      "cell_type": "code",
      "execution_count": null,
      "metadata": {
        "id": "ow0P_1d2QGq9",
        "colab": {
          "base_uri": "https://localhost:8080/"
        },
        "outputId": "62cb234c-67a9-47c4-9f17-2295fa7466ce"
      },
      "outputs": [
        {
          "output_type": "execute_result",
          "data": {
            "text/plain": [
              "array([0, 1])"
            ]
          },
          "metadata": {},
          "execution_count": 54
        }
      ],
      "source": [
        "train_dataset['accident'].unique()\n"
      ]
    },
    {
      "cell_type": "code",
      "execution_count": null,
      "metadata": {
        "id": "OOZ_4t8-QMGy"
      },
      "outputs": [],
      "source": [
        "train_dataset['accident'] = train_dataset['accident'].astype(int)"
      ]
    },
    {
      "cell_type": "code",
      "execution_count": null,
      "metadata": {
        "id": "APk8jqp5QKOR",
        "colab": {
          "base_uri": "https://localhost:8080/"
        },
        "outputId": "f986d8a3-823b-4c01-f6ac-6af4674c8e9b"
      },
      "outputs": [
        {
          "output_type": "execute_result",
          "data": {
            "text/plain": [
              "array(['Gasoline', 'E85 Flex Fuel', 'Hybrid', 'Diesel', 'Plug-In Hybrid',\n",
              "       'not supported'], dtype=object)"
            ]
          },
          "metadata": {},
          "execution_count": 56
        }
      ],
      "source": [
        "train_dataset['fuel_type'].unique()"
      ]
    },
    {
      "cell_type": "code",
      "execution_count": null,
      "metadata": {
        "id": "F8GrmkWRQK6G"
      },
      "outputs": [],
      "source": [
        "test_dataset.loc[test_dataset[\"fuel_type\"] == \"–\", \"fuel_type\"] = 'not supported'"
      ]
    },
    {
      "cell_type": "code",
      "execution_count": null,
      "metadata": {
        "id": "6LwfX3UXQb-b"
      },
      "outputs": [],
      "source": [
        "test_dataset.loc[test_dataset[\"accident\"] == \"None reported\", \"accident\"] = 0\n",
        "test_dataset.loc[test_dataset[\"accident\"] == \"At least 1 accident or damage reported\", \"accident\"] = 1"
      ]
    },
    {
      "cell_type": "code",
      "execution_count": null,
      "metadata": {
        "id": "_vAHESdzQn84",
        "colab": {
          "base_uri": "https://localhost:8080/"
        },
        "outputId": "df8a1394-62e9-4bad-a092-a36dbb9c1b43"
      },
      "outputs": [
        {
          "output_type": "execute_result",
          "data": {
            "text/plain": [
              "array([0, 1, nan], dtype=object)"
            ]
          },
          "metadata": {},
          "execution_count": 59
        }
      ],
      "source": [
        "test_dataset['accident'].unique()"
      ]
    },
    {
      "cell_type": "code",
      "execution_count": null,
      "metadata": {
        "id": "_Xju2R65QsGz",
        "colab": {
          "base_uri": "https://localhost:8080/"
        },
        "outputId": "3dc71c0c-564f-4762-d15a-ff8df3767983"
      },
      "outputs": [
        {
          "output_type": "execute_result",
          "data": {
            "text/plain": [
              "array(['Yes', nan], dtype=object)"
            ]
          },
          "metadata": {},
          "execution_count": 60
        }
      ],
      "source": [
        "test_dataset['clean_title'].unique()"
      ]
    },
    {
      "cell_type": "code",
      "execution_count": null,
      "metadata": {
        "id": "pJuLfYk6QwC_"
      },
      "outputs": [],
      "source": [
        "test_dataset = test_dataset.fillna(test_dataset.mode().iloc[0])"
      ]
    },
    {
      "cell_type": "code",
      "execution_count": null,
      "metadata": {
        "id": "D_AnLn1uQ2LB"
      },
      "outputs": [],
      "source": [
        "test_dataset['accident'] = test_dataset['accident'].astype(int)"
      ]
    },
    {
      "cell_type": "code",
      "execution_count": null,
      "metadata": {
        "id": "KzzcLL7OQ6_C",
        "colab": {
          "base_uri": "https://localhost:8080/",
          "height": 429
        },
        "outputId": "acc9ce9d-6424-487b-fa3b-bd23d1ad08d2"
      },
      "outputs": [
        {
          "output_type": "execute_result",
          "data": {
            "text/plain": [
              "brand           0\n",
              "model           0\n",
              "model_year      0\n",
              "milage          0\n",
              "fuel_type       0\n",
              "engine          0\n",
              "transmission    0\n",
              "ext_col         0\n",
              "int_col         0\n",
              "accident        0\n",
              "clean_title     0\n",
              "dtype: int64"
            ],
            "text/html": [
              "<div>\n",
              "<style scoped>\n",
              "    .dataframe tbody tr th:only-of-type {\n",
              "        vertical-align: middle;\n",
              "    }\n",
              "\n",
              "    .dataframe tbody tr th {\n",
              "        vertical-align: top;\n",
              "    }\n",
              "\n",
              "    .dataframe thead th {\n",
              "        text-align: right;\n",
              "    }\n",
              "</style>\n",
              "<table border=\"1\" class=\"dataframe\">\n",
              "  <thead>\n",
              "    <tr style=\"text-align: right;\">\n",
              "      <th></th>\n",
              "      <th>0</th>\n",
              "    </tr>\n",
              "  </thead>\n",
              "  <tbody>\n",
              "    <tr>\n",
              "      <th>brand</th>\n",
              "      <td>0</td>\n",
              "    </tr>\n",
              "    <tr>\n",
              "      <th>model</th>\n",
              "      <td>0</td>\n",
              "    </tr>\n",
              "    <tr>\n",
              "      <th>model_year</th>\n",
              "      <td>0</td>\n",
              "    </tr>\n",
              "    <tr>\n",
              "      <th>milage</th>\n",
              "      <td>0</td>\n",
              "    </tr>\n",
              "    <tr>\n",
              "      <th>fuel_type</th>\n",
              "      <td>0</td>\n",
              "    </tr>\n",
              "    <tr>\n",
              "      <th>engine</th>\n",
              "      <td>0</td>\n",
              "    </tr>\n",
              "    <tr>\n",
              "      <th>transmission</th>\n",
              "      <td>0</td>\n",
              "    </tr>\n",
              "    <tr>\n",
              "      <th>ext_col</th>\n",
              "      <td>0</td>\n",
              "    </tr>\n",
              "    <tr>\n",
              "      <th>int_col</th>\n",
              "      <td>0</td>\n",
              "    </tr>\n",
              "    <tr>\n",
              "      <th>accident</th>\n",
              "      <td>0</td>\n",
              "    </tr>\n",
              "    <tr>\n",
              "      <th>clean_title</th>\n",
              "      <td>0</td>\n",
              "    </tr>\n",
              "  </tbody>\n",
              "</table>\n",
              "</div><br><label><b>dtype:</b> int64</label>"
            ]
          },
          "metadata": {},
          "execution_count": 63
        }
      ],
      "source": [
        "test_dataset.isnull().sum()"
      ]
    },
    {
      "cell_type": "code",
      "execution_count": null,
      "metadata": {
        "id": "PHxI3dOTQ8OA",
        "colab": {
          "base_uri": "https://localhost:8080/",
          "height": 709
        },
        "outputId": "e9bef586-9c03-4895-fc71-77bd55e85096"
      },
      "outputs": [
        {
          "output_type": "execute_result",
          "data": {
            "text/plain": [
              "            brand              model  model_year  milage      fuel_type  \\\n",
              "id                                                                        \n",
              "0            MINI      Cooper S Base        2007  213000       Gasoline   \n",
              "1         Lincoln              LS V8        2002  143250       Gasoline   \n",
              "2       Chevrolet  Silverado 2500 LT        2002  136731  E85 Flex Fuel   \n",
              "3         Genesis   G90 5.0 Ultimate        2017   19500       Gasoline   \n",
              "4   Mercedes-Benz        Metris Base        2021    7388       Gasoline   \n",
              "\n",
              "                                               engine  \\\n",
              "id                                                      \n",
              "0        172.0HP 1.6L 4 Cylinder Engine Gasoline Fuel   \n",
              "1        252.0HP 3.9L 8 Cylinder Engine Gasoline Fuel   \n",
              "2   320.0HP 5.3L 8 Cylinder Engine Flex Fuel Capab...   \n",
              "3        420.0HP 5.0L 8 Cylinder Engine Gasoline Fuel   \n",
              "4        208.0HP 2.0L 4 Cylinder Engine Gasoline Fuel   \n",
              "\n",
              "                      transmission ext_col int_col  accident clean_title  \\\n",
              "id                                                                         \n",
              "0                              A/T  Yellow    Gray         0         Yes   \n",
              "1                              A/T  Silver   Beige         1         Yes   \n",
              "2                              A/T    Blue    Gray         0         Yes   \n",
              "3   Transmission w/Dual Shift Mode   Black   Black         0         Yes   \n",
              "4                      7-Speed A/T   Black   Beige         0         Yes   \n",
              "\n",
              "    price  \n",
              "id         \n",
              "0    4200  \n",
              "1    4999  \n",
              "2   13900  \n",
              "3   45000  \n",
              "4   97500  "
            ],
            "text/html": [
              "\n",
              "  <div id=\"df-58ed4380-a671-4e6d-97a3-7aa9a9ac7bd0\" class=\"colab-df-container\">\n",
              "    <div>\n",
              "<style scoped>\n",
              "    .dataframe tbody tr th:only-of-type {\n",
              "        vertical-align: middle;\n",
              "    }\n",
              "\n",
              "    .dataframe tbody tr th {\n",
              "        vertical-align: top;\n",
              "    }\n",
              "\n",
              "    .dataframe thead th {\n",
              "        text-align: right;\n",
              "    }\n",
              "</style>\n",
              "<table border=\"1\" class=\"dataframe\">\n",
              "  <thead>\n",
              "    <tr style=\"text-align: right;\">\n",
              "      <th></th>\n",
              "      <th>brand</th>\n",
              "      <th>model</th>\n",
              "      <th>model_year</th>\n",
              "      <th>milage</th>\n",
              "      <th>fuel_type</th>\n",
              "      <th>engine</th>\n",
              "      <th>transmission</th>\n",
              "      <th>ext_col</th>\n",
              "      <th>int_col</th>\n",
              "      <th>accident</th>\n",
              "      <th>clean_title</th>\n",
              "      <th>price</th>\n",
              "    </tr>\n",
              "    <tr>\n",
              "      <th>id</th>\n",
              "      <th></th>\n",
              "      <th></th>\n",
              "      <th></th>\n",
              "      <th></th>\n",
              "      <th></th>\n",
              "      <th></th>\n",
              "      <th></th>\n",
              "      <th></th>\n",
              "      <th></th>\n",
              "      <th></th>\n",
              "      <th></th>\n",
              "      <th></th>\n",
              "    </tr>\n",
              "  </thead>\n",
              "  <tbody>\n",
              "    <tr>\n",
              "      <th>0</th>\n",
              "      <td>MINI</td>\n",
              "      <td>Cooper S Base</td>\n",
              "      <td>2007</td>\n",
              "      <td>213000</td>\n",
              "      <td>Gasoline</td>\n",
              "      <td>172.0HP 1.6L 4 Cylinder Engine Gasoline Fuel</td>\n",
              "      <td>A/T</td>\n",
              "      <td>Yellow</td>\n",
              "      <td>Gray</td>\n",
              "      <td>0</td>\n",
              "      <td>Yes</td>\n",
              "      <td>4200</td>\n",
              "    </tr>\n",
              "    <tr>\n",
              "      <th>1</th>\n",
              "      <td>Lincoln</td>\n",
              "      <td>LS V8</td>\n",
              "      <td>2002</td>\n",
              "      <td>143250</td>\n",
              "      <td>Gasoline</td>\n",
              "      <td>252.0HP 3.9L 8 Cylinder Engine Gasoline Fuel</td>\n",
              "      <td>A/T</td>\n",
              "      <td>Silver</td>\n",
              "      <td>Beige</td>\n",
              "      <td>1</td>\n",
              "      <td>Yes</td>\n",
              "      <td>4999</td>\n",
              "    </tr>\n",
              "    <tr>\n",
              "      <th>2</th>\n",
              "      <td>Chevrolet</td>\n",
              "      <td>Silverado 2500 LT</td>\n",
              "      <td>2002</td>\n",
              "      <td>136731</td>\n",
              "      <td>E85 Flex Fuel</td>\n",
              "      <td>320.0HP 5.3L 8 Cylinder Engine Flex Fuel Capab...</td>\n",
              "      <td>A/T</td>\n",
              "      <td>Blue</td>\n",
              "      <td>Gray</td>\n",
              "      <td>0</td>\n",
              "      <td>Yes</td>\n",
              "      <td>13900</td>\n",
              "    </tr>\n",
              "    <tr>\n",
              "      <th>3</th>\n",
              "      <td>Genesis</td>\n",
              "      <td>G90 5.0 Ultimate</td>\n",
              "      <td>2017</td>\n",
              "      <td>19500</td>\n",
              "      <td>Gasoline</td>\n",
              "      <td>420.0HP 5.0L 8 Cylinder Engine Gasoline Fuel</td>\n",
              "      <td>Transmission w/Dual Shift Mode</td>\n",
              "      <td>Black</td>\n",
              "      <td>Black</td>\n",
              "      <td>0</td>\n",
              "      <td>Yes</td>\n",
              "      <td>45000</td>\n",
              "    </tr>\n",
              "    <tr>\n",
              "      <th>4</th>\n",
              "      <td>Mercedes-Benz</td>\n",
              "      <td>Metris Base</td>\n",
              "      <td>2021</td>\n",
              "      <td>7388</td>\n",
              "      <td>Gasoline</td>\n",
              "      <td>208.0HP 2.0L 4 Cylinder Engine Gasoline Fuel</td>\n",
              "      <td>7-Speed A/T</td>\n",
              "      <td>Black</td>\n",
              "      <td>Beige</td>\n",
              "      <td>0</td>\n",
              "      <td>Yes</td>\n",
              "      <td>97500</td>\n",
              "    </tr>\n",
              "  </tbody>\n",
              "</table>\n",
              "</div>\n",
              "    <div class=\"colab-df-buttons\">\n",
              "\n",
              "  <div class=\"colab-df-container\">\n",
              "    <button class=\"colab-df-convert\" onclick=\"convertToInteractive('df-58ed4380-a671-4e6d-97a3-7aa9a9ac7bd0')\"\n",
              "            title=\"Convert this dataframe to an interactive table.\"\n",
              "            style=\"display:none;\">\n",
              "\n",
              "  <svg xmlns=\"http://www.w3.org/2000/svg\" height=\"24px\" viewBox=\"0 -960 960 960\">\n",
              "    <path d=\"M120-120v-720h720v720H120Zm60-500h600v-160H180v160Zm220 220h160v-160H400v160Zm0 220h160v-160H400v160ZM180-400h160v-160H180v160Zm440 0h160v-160H620v160ZM180-180h160v-160H180v160Zm440 0h160v-160H620v160Z\"/>\n",
              "  </svg>\n",
              "    </button>\n",
              "\n",
              "  <style>\n",
              "    .colab-df-container {\n",
              "      display:flex;\n",
              "      gap: 12px;\n",
              "    }\n",
              "\n",
              "    .colab-df-convert {\n",
              "      background-color: #E8F0FE;\n",
              "      border: none;\n",
              "      border-radius: 50%;\n",
              "      cursor: pointer;\n",
              "      display: none;\n",
              "      fill: #1967D2;\n",
              "      height: 32px;\n",
              "      padding: 0 0 0 0;\n",
              "      width: 32px;\n",
              "    }\n",
              "\n",
              "    .colab-df-convert:hover {\n",
              "      background-color: #E2EBFA;\n",
              "      box-shadow: 0px 1px 2px rgba(60, 64, 67, 0.3), 0px 1px 3px 1px rgba(60, 64, 67, 0.15);\n",
              "      fill: #174EA6;\n",
              "    }\n",
              "\n",
              "    .colab-df-buttons div {\n",
              "      margin-bottom: 4px;\n",
              "    }\n",
              "\n",
              "    [theme=dark] .colab-df-convert {\n",
              "      background-color: #3B4455;\n",
              "      fill: #D2E3FC;\n",
              "    }\n",
              "\n",
              "    [theme=dark] .colab-df-convert:hover {\n",
              "      background-color: #434B5C;\n",
              "      box-shadow: 0px 1px 3px 1px rgba(0, 0, 0, 0.15);\n",
              "      filter: drop-shadow(0px 1px 2px rgba(0, 0, 0, 0.3));\n",
              "      fill: #FFFFFF;\n",
              "    }\n",
              "  </style>\n",
              "\n",
              "    <script>\n",
              "      const buttonEl =\n",
              "        document.querySelector('#df-58ed4380-a671-4e6d-97a3-7aa9a9ac7bd0 button.colab-df-convert');\n",
              "      buttonEl.style.display =\n",
              "        google.colab.kernel.accessAllowed ? 'block' : 'none';\n",
              "\n",
              "      async function convertToInteractive(key) {\n",
              "        const element = document.querySelector('#df-58ed4380-a671-4e6d-97a3-7aa9a9ac7bd0');\n",
              "        const dataTable =\n",
              "          await google.colab.kernel.invokeFunction('convertToInteractive',\n",
              "                                                    [key], {});\n",
              "        if (!dataTable) return;\n",
              "\n",
              "        const docLinkHtml = 'Like what you see? Visit the ' +\n",
              "          '<a target=\"_blank\" href=https://colab.research.google.com/notebooks/data_table.ipynb>data table notebook</a>'\n",
              "          + ' to learn more about interactive tables.';\n",
              "        element.innerHTML = '';\n",
              "        dataTable['output_type'] = 'display_data';\n",
              "        await google.colab.output.renderOutput(dataTable, element);\n",
              "        const docLink = document.createElement('div');\n",
              "        docLink.innerHTML = docLinkHtml;\n",
              "        element.appendChild(docLink);\n",
              "      }\n",
              "    </script>\n",
              "  </div>\n",
              "\n",
              "\n",
              "<div id=\"df-e53de36b-4930-456c-8689-2673bf003f3e\">\n",
              "  <button class=\"colab-df-quickchart\" onclick=\"quickchart('df-e53de36b-4930-456c-8689-2673bf003f3e')\"\n",
              "            title=\"Suggest charts\"\n",
              "            style=\"display:none;\">\n",
              "\n",
              "<svg xmlns=\"http://www.w3.org/2000/svg\" height=\"24px\"viewBox=\"0 0 24 24\"\n",
              "     width=\"24px\">\n",
              "    <g>\n",
              "        <path d=\"M19 3H5c-1.1 0-2 .9-2 2v14c0 1.1.9 2 2 2h14c1.1 0 2-.9 2-2V5c0-1.1-.9-2-2-2zM9 17H7v-7h2v7zm4 0h-2V7h2v10zm4 0h-2v-4h2v4z\"/>\n",
              "    </g>\n",
              "</svg>\n",
              "  </button>\n",
              "\n",
              "<style>\n",
              "  .colab-df-quickchart {\n",
              "      --bg-color: #E8F0FE;\n",
              "      --fill-color: #1967D2;\n",
              "      --hover-bg-color: #E2EBFA;\n",
              "      --hover-fill-color: #174EA6;\n",
              "      --disabled-fill-color: #AAA;\n",
              "      --disabled-bg-color: #DDD;\n",
              "  }\n",
              "\n",
              "  [theme=dark] .colab-df-quickchart {\n",
              "      --bg-color: #3B4455;\n",
              "      --fill-color: #D2E3FC;\n",
              "      --hover-bg-color: #434B5C;\n",
              "      --hover-fill-color: #FFFFFF;\n",
              "      --disabled-bg-color: #3B4455;\n",
              "      --disabled-fill-color: #666;\n",
              "  }\n",
              "\n",
              "  .colab-df-quickchart {\n",
              "    background-color: var(--bg-color);\n",
              "    border: none;\n",
              "    border-radius: 50%;\n",
              "    cursor: pointer;\n",
              "    display: none;\n",
              "    fill: var(--fill-color);\n",
              "    height: 32px;\n",
              "    padding: 0;\n",
              "    width: 32px;\n",
              "  }\n",
              "\n",
              "  .colab-df-quickchart:hover {\n",
              "    background-color: var(--hover-bg-color);\n",
              "    box-shadow: 0 1px 2px rgba(60, 64, 67, 0.3), 0 1px 3px 1px rgba(60, 64, 67, 0.15);\n",
              "    fill: var(--button-hover-fill-color);\n",
              "  }\n",
              "\n",
              "  .colab-df-quickchart-complete:disabled,\n",
              "  .colab-df-quickchart-complete:disabled:hover {\n",
              "    background-color: var(--disabled-bg-color);\n",
              "    fill: var(--disabled-fill-color);\n",
              "    box-shadow: none;\n",
              "  }\n",
              "\n",
              "  .colab-df-spinner {\n",
              "    border: 2px solid var(--fill-color);\n",
              "    border-color: transparent;\n",
              "    border-bottom-color: var(--fill-color);\n",
              "    animation:\n",
              "      spin 1s steps(1) infinite;\n",
              "  }\n",
              "\n",
              "  @keyframes spin {\n",
              "    0% {\n",
              "      border-color: transparent;\n",
              "      border-bottom-color: var(--fill-color);\n",
              "      border-left-color: var(--fill-color);\n",
              "    }\n",
              "    20% {\n",
              "      border-color: transparent;\n",
              "      border-left-color: var(--fill-color);\n",
              "      border-top-color: var(--fill-color);\n",
              "    }\n",
              "    30% {\n",
              "      border-color: transparent;\n",
              "      border-left-color: var(--fill-color);\n",
              "      border-top-color: var(--fill-color);\n",
              "      border-right-color: var(--fill-color);\n",
              "    }\n",
              "    40% {\n",
              "      border-color: transparent;\n",
              "      border-right-color: var(--fill-color);\n",
              "      border-top-color: var(--fill-color);\n",
              "    }\n",
              "    60% {\n",
              "      border-color: transparent;\n",
              "      border-right-color: var(--fill-color);\n",
              "    }\n",
              "    80% {\n",
              "      border-color: transparent;\n",
              "      border-right-color: var(--fill-color);\n",
              "      border-bottom-color: var(--fill-color);\n",
              "    }\n",
              "    90% {\n",
              "      border-color: transparent;\n",
              "      border-bottom-color: var(--fill-color);\n",
              "    }\n",
              "  }\n",
              "</style>\n",
              "\n",
              "  <script>\n",
              "    async function quickchart(key) {\n",
              "      const quickchartButtonEl =\n",
              "        document.querySelector('#' + key + ' button');\n",
              "      quickchartButtonEl.disabled = true;  // To prevent multiple clicks.\n",
              "      quickchartButtonEl.classList.add('colab-df-spinner');\n",
              "      try {\n",
              "        const charts = await google.colab.kernel.invokeFunction(\n",
              "            'suggestCharts', [key], {});\n",
              "      } catch (error) {\n",
              "        console.error('Error during call to suggestCharts:', error);\n",
              "      }\n",
              "      quickchartButtonEl.classList.remove('colab-df-spinner');\n",
              "      quickchartButtonEl.classList.add('colab-df-quickchart-complete');\n",
              "    }\n",
              "    (() => {\n",
              "      let quickchartButtonEl =\n",
              "        document.querySelector('#df-e53de36b-4930-456c-8689-2673bf003f3e button');\n",
              "      quickchartButtonEl.style.display =\n",
              "        google.colab.kernel.accessAllowed ? 'block' : 'none';\n",
              "    })();\n",
              "  </script>\n",
              "</div>\n",
              "\n",
              "    </div>\n",
              "  </div>\n"
            ],
            "application/vnd.google.colaboratory.intrinsic+json": {
              "type": "dataframe",
              "variable_name": "train_dataset"
            }
          },
          "metadata": {},
          "execution_count": 64
        }
      ],
      "source": [
        "train_dataset.head()"
      ]
    },
    {
      "cell_type": "code",
      "execution_count": null,
      "metadata": {
        "id": "6w5W37EcREwY",
        "colab": {
          "base_uri": "https://localhost:8080/"
        },
        "outputId": "33dffccc-a005-4c5b-8b43-6dfc7c848f27"
      },
      "outputs": [
        {
          "output_type": "execute_result",
          "data": {
            "text/plain": [
              "array(['172.0HP 1.6L 4 Cylinder Engine Gasoline Fuel',\n",
              "       '252.0HP 3.9L 8 Cylinder Engine Gasoline Fuel',\n",
              "       '320.0HP 5.3L 8 Cylinder Engine Flex Fuel Capability', ...,\n",
              "       '78.0HP 1.2L 3 Cylinder Engine Gasoline Fuel',\n",
              "       '139.0HP 1.6L 4 Cylinder Engine Plug-In Electric/Gas',\n",
              "       '313.0HP 2.0L 4 Cylinder Engine Plug-In Electric/Gas'],\n",
              "      dtype=object)"
            ]
          },
          "metadata": {},
          "execution_count": 65
        }
      ],
      "source": [
        "train_dataset['engine'].unique()"
      ]
    },
    {
      "cell_type": "markdown",
      "metadata": {
        "id": "1gbUqlD5TkDS"
      },
      "source": [
        "##### Extract No. of cylinders"
      ]
    },
    {
      "cell_type": "code",
      "execution_count": null,
      "metadata": {
        "id": "zk_9v0yCTyGB"
      },
      "outputs": [],
      "source": [
        "import re"
      ]
    },
    {
      "cell_type": "code",
      "execution_count": null,
      "metadata": {
        "id": "HOJFCwwtRJ3p"
      },
      "outputs": [],
      "source": [
        "def extract_cylinder(x):\n",
        "    matches = re.findall(\"\\\\b\\d+(?= Cylinder\\\\b)\", x)\n",
        "    if(len(matches) == 0):\n",
        "        return 0\n",
        "    else:\n",
        "        return int(matches[0])"
      ]
    },
    {
      "cell_type": "code",
      "execution_count": null,
      "metadata": {
        "id": "wtnL4gCQSWK6",
        "colab": {
          "base_uri": "https://localhost:8080/"
        },
        "outputId": "803d9e48-7845-42d7-e3a6-5d49347de4ff"
      },
      "outputs": [
        {
          "output_type": "execute_result",
          "data": {
            "text/plain": [
              "array([ 4,  8,  0,  6, 10, 12,  5,  3])"
            ]
          },
          "metadata": {},
          "execution_count": 68
        }
      ],
      "source": [
        "train_dataset[\"cylinders\"] = train_dataset[\"engine\"].apply(extract_cylinder)\n",
        "train_dataset[\"cylinders\"].unique()"
      ]
    },
    {
      "cell_type": "code",
      "execution_count": null,
      "metadata": {
        "id": "zeY_CeKXT2rt",
        "colab": {
          "base_uri": "https://localhost:8080/"
        },
        "outputId": "f56e8a79-2234-488b-811c-93b2e9fe4ce7"
      },
      "outputs": [
        {
          "output_type": "execute_result",
          "data": {
            "text/plain": [
              "array([ 4,  6,  0,  8, 10, 12,  3,  5])"
            ]
          },
          "metadata": {},
          "execution_count": 69
        }
      ],
      "source": [
        "test_dataset[\"cylinders\"] = test_dataset[\"engine\"].apply(extract_cylinder)\n",
        "test_dataset[\"cylinders\"].unique()"
      ]
    },
    {
      "cell_type": "markdown",
      "metadata": {
        "id": "-DSCWsHPUGHN"
      },
      "source": [
        "##### Extract hp from engine column"
      ]
    },
    {
      "cell_type": "code",
      "execution_count": null,
      "metadata": {
        "id": "rgfP8-hVT8DW"
      },
      "outputs": [],
      "source": [
        "def extract_hp(x):\n",
        "    matches = re.findall(\"\\\\b(\\d*[.]\\d*)(?=HP\\\\b)\", x)\n",
        "    if(len(matches) == 0):\n",
        "        return 0\n",
        "    else:\n",
        "        return float(matches[0])"
      ]
    },
    {
      "cell_type": "code",
      "execution_count": null,
      "metadata": {
        "id": "Rn46ql4IUJO_",
        "colab": {
          "base_uri": "https://localhost:8080/"
        },
        "outputId": "593fdcd4-0ac3-4e5a-e8f5-7e0b43da05ee"
      },
      "outputs": [
        {
          "output_type": "execute_result",
          "data": {
            "text/plain": [
              "array([ 4,  8,  0,  6, 10, 12,  5,  3])"
            ]
          },
          "metadata": {},
          "execution_count": 71
        }
      ],
      "source": [
        "train_dataset[\"hp\"] = train_dataset[\"engine\"].apply(extract_cylinder)\n",
        "train_dataset[\"hp\"].unique()"
      ]
    },
    {
      "cell_type": "code",
      "execution_count": null,
      "metadata": {
        "id": "V2ZKf3rtUNYS",
        "colab": {
          "base_uri": "https://localhost:8080/"
        },
        "outputId": "c0c39a55-5c81-465d-eac6-10d71d1374cb"
      },
      "outputs": [
        {
          "output_type": "execute_result",
          "data": {
            "text/plain": [
              "array([ 4,  6,  0,  8, 10, 12,  3,  5])"
            ]
          },
          "metadata": {},
          "execution_count": 72
        }
      ],
      "source": [
        "test_dataset[\"hp\"] = test_dataset[\"engine\"].apply(extract_cylinder)\n",
        "test_dataset[\"hp\"].unique()"
      ]
    },
    {
      "cell_type": "markdown",
      "metadata": {
        "id": "r8G4L0o8UUGs"
      },
      "source": [
        "##### Extract Engine Capacity"
      ]
    },
    {
      "cell_type": "code",
      "execution_count": null,
      "metadata": {
        "id": "Spbq7sM1UQ_m"
      },
      "outputs": [],
      "source": [
        "def extract_engine_capacity(x):\n",
        "    matches = re.findall(\"\\\\b(\\d*[.]\\d*)(?=L\\\\b)\", x)\n",
        "    if(len(matches) == 0):\n",
        "        return 0\n",
        "    else:\n",
        "        return float(matches[0])"
      ]
    },
    {
      "cell_type": "code",
      "execution_count": null,
      "metadata": {
        "id": "FXmbauAnUWwH",
        "colab": {
          "base_uri": "https://localhost:8080/"
        },
        "outputId": "b51ca3fb-4331-459a-faf5-bb6010d70b21"
      },
      "outputs": [
        {
          "output_type": "execute_result",
          "data": {
            "text/plain": [
              "0"
            ]
          },
          "metadata": {},
          "execution_count": 74
        }
      ],
      "source": [
        "train_dataset[\"engine_capacity\"] = train_dataset[\"engine\"].apply(extract_engine_capacity)\n",
        "train_dataset[\"engine_capacity\"].isnull().sum()"
      ]
    },
    {
      "cell_type": "code",
      "execution_count": null,
      "metadata": {
        "id": "M3wp0k-yUbFG",
        "colab": {
          "base_uri": "https://localhost:8080/"
        },
        "outputId": "d46c0228-3156-49ed-b073-c983ccdd5b12"
      },
      "outputs": [
        {
          "output_type": "execute_result",
          "data": {
            "text/plain": [
              "0"
            ]
          },
          "metadata": {},
          "execution_count": 75
        }
      ],
      "source": [
        "test_dataset[\"engine_capacity\"] = test_dataset[\"engine\"].apply(extract_engine_capacity)\n",
        "test_dataset[\"engine_capacity\"].isnull().sum()"
      ]
    },
    {
      "cell_type": "code",
      "execution_count": null,
      "metadata": {
        "id": "v7iSVgKrUhaW"
      },
      "outputs": [],
      "source": [
        "train_dataset.drop('engine', axis=1, inplace=True)\n",
        "test_dataset.drop('engine', axis=1, inplace=True)"
      ]
    },
    {
      "cell_type": "code",
      "execution_count": null,
      "metadata": {
        "id": "nl7jHDXAUnjJ",
        "colab": {
          "base_uri": "https://localhost:8080/",
          "height": 344
        },
        "outputId": "15ebbd62-394b-4008-c1c7-e7a6034c11f3"
      },
      "outputs": [
        {
          "output_type": "execute_result",
          "data": {
            "text/plain": [
              "            brand              model  model_year  milage      fuel_type  \\\n",
              "id                                                                        \n",
              "0            MINI      Cooper S Base        2007  213000       Gasoline   \n",
              "1         Lincoln              LS V8        2002  143250       Gasoline   \n",
              "2       Chevrolet  Silverado 2500 LT        2002  136731  E85 Flex Fuel   \n",
              "3         Genesis   G90 5.0 Ultimate        2017   19500       Gasoline   \n",
              "4   Mercedes-Benz        Metris Base        2021    7388       Gasoline   \n",
              "\n",
              "                      transmission ext_col int_col  accident clean_title  \\\n",
              "id                                                                         \n",
              "0                              A/T  Yellow    Gray         0         Yes   \n",
              "1                              A/T  Silver   Beige         1         Yes   \n",
              "2                              A/T    Blue    Gray         0         Yes   \n",
              "3   Transmission w/Dual Shift Mode   Black   Black         0         Yes   \n",
              "4                      7-Speed A/T   Black   Beige         0         Yes   \n",
              "\n",
              "    price  cylinders  hp  engine_capacity  \n",
              "id                                         \n",
              "0    4200          4   4              1.6  \n",
              "1    4999          8   8              3.9  \n",
              "2   13900          8   8              5.3  \n",
              "3   45000          8   8              5.0  \n",
              "4   97500          4   4              2.0  "
            ],
            "text/html": [
              "\n",
              "  <div id=\"df-3ca5ce00-38bb-4dc1-9915-348b0c4e08f1\" class=\"colab-df-container\">\n",
              "    <div>\n",
              "<style scoped>\n",
              "    .dataframe tbody tr th:only-of-type {\n",
              "        vertical-align: middle;\n",
              "    }\n",
              "\n",
              "    .dataframe tbody tr th {\n",
              "        vertical-align: top;\n",
              "    }\n",
              "\n",
              "    .dataframe thead th {\n",
              "        text-align: right;\n",
              "    }\n",
              "</style>\n",
              "<table border=\"1\" class=\"dataframe\">\n",
              "  <thead>\n",
              "    <tr style=\"text-align: right;\">\n",
              "      <th></th>\n",
              "      <th>brand</th>\n",
              "      <th>model</th>\n",
              "      <th>model_year</th>\n",
              "      <th>milage</th>\n",
              "      <th>fuel_type</th>\n",
              "      <th>transmission</th>\n",
              "      <th>ext_col</th>\n",
              "      <th>int_col</th>\n",
              "      <th>accident</th>\n",
              "      <th>clean_title</th>\n",
              "      <th>price</th>\n",
              "      <th>cylinders</th>\n",
              "      <th>hp</th>\n",
              "      <th>engine_capacity</th>\n",
              "    </tr>\n",
              "    <tr>\n",
              "      <th>id</th>\n",
              "      <th></th>\n",
              "      <th></th>\n",
              "      <th></th>\n",
              "      <th></th>\n",
              "      <th></th>\n",
              "      <th></th>\n",
              "      <th></th>\n",
              "      <th></th>\n",
              "      <th></th>\n",
              "      <th></th>\n",
              "      <th></th>\n",
              "      <th></th>\n",
              "      <th></th>\n",
              "      <th></th>\n",
              "    </tr>\n",
              "  </thead>\n",
              "  <tbody>\n",
              "    <tr>\n",
              "      <th>0</th>\n",
              "      <td>MINI</td>\n",
              "      <td>Cooper S Base</td>\n",
              "      <td>2007</td>\n",
              "      <td>213000</td>\n",
              "      <td>Gasoline</td>\n",
              "      <td>A/T</td>\n",
              "      <td>Yellow</td>\n",
              "      <td>Gray</td>\n",
              "      <td>0</td>\n",
              "      <td>Yes</td>\n",
              "      <td>4200</td>\n",
              "      <td>4</td>\n",
              "      <td>4</td>\n",
              "      <td>1.6</td>\n",
              "    </tr>\n",
              "    <tr>\n",
              "      <th>1</th>\n",
              "      <td>Lincoln</td>\n",
              "      <td>LS V8</td>\n",
              "      <td>2002</td>\n",
              "      <td>143250</td>\n",
              "      <td>Gasoline</td>\n",
              "      <td>A/T</td>\n",
              "      <td>Silver</td>\n",
              "      <td>Beige</td>\n",
              "      <td>1</td>\n",
              "      <td>Yes</td>\n",
              "      <td>4999</td>\n",
              "      <td>8</td>\n",
              "      <td>8</td>\n",
              "      <td>3.9</td>\n",
              "    </tr>\n",
              "    <tr>\n",
              "      <th>2</th>\n",
              "      <td>Chevrolet</td>\n",
              "      <td>Silverado 2500 LT</td>\n",
              "      <td>2002</td>\n",
              "      <td>136731</td>\n",
              "      <td>E85 Flex Fuel</td>\n",
              "      <td>A/T</td>\n",
              "      <td>Blue</td>\n",
              "      <td>Gray</td>\n",
              "      <td>0</td>\n",
              "      <td>Yes</td>\n",
              "      <td>13900</td>\n",
              "      <td>8</td>\n",
              "      <td>8</td>\n",
              "      <td>5.3</td>\n",
              "    </tr>\n",
              "    <tr>\n",
              "      <th>3</th>\n",
              "      <td>Genesis</td>\n",
              "      <td>G90 5.0 Ultimate</td>\n",
              "      <td>2017</td>\n",
              "      <td>19500</td>\n",
              "      <td>Gasoline</td>\n",
              "      <td>Transmission w/Dual Shift Mode</td>\n",
              "      <td>Black</td>\n",
              "      <td>Black</td>\n",
              "      <td>0</td>\n",
              "      <td>Yes</td>\n",
              "      <td>45000</td>\n",
              "      <td>8</td>\n",
              "      <td>8</td>\n",
              "      <td>5.0</td>\n",
              "    </tr>\n",
              "    <tr>\n",
              "      <th>4</th>\n",
              "      <td>Mercedes-Benz</td>\n",
              "      <td>Metris Base</td>\n",
              "      <td>2021</td>\n",
              "      <td>7388</td>\n",
              "      <td>Gasoline</td>\n",
              "      <td>7-Speed A/T</td>\n",
              "      <td>Black</td>\n",
              "      <td>Beige</td>\n",
              "      <td>0</td>\n",
              "      <td>Yes</td>\n",
              "      <td>97500</td>\n",
              "      <td>4</td>\n",
              "      <td>4</td>\n",
              "      <td>2.0</td>\n",
              "    </tr>\n",
              "  </tbody>\n",
              "</table>\n",
              "</div>\n",
              "    <div class=\"colab-df-buttons\">\n",
              "\n",
              "  <div class=\"colab-df-container\">\n",
              "    <button class=\"colab-df-convert\" onclick=\"convertToInteractive('df-3ca5ce00-38bb-4dc1-9915-348b0c4e08f1')\"\n",
              "            title=\"Convert this dataframe to an interactive table.\"\n",
              "            style=\"display:none;\">\n",
              "\n",
              "  <svg xmlns=\"http://www.w3.org/2000/svg\" height=\"24px\" viewBox=\"0 -960 960 960\">\n",
              "    <path d=\"M120-120v-720h720v720H120Zm60-500h600v-160H180v160Zm220 220h160v-160H400v160Zm0 220h160v-160H400v160ZM180-400h160v-160H180v160Zm440 0h160v-160H620v160ZM180-180h160v-160H180v160Zm440 0h160v-160H620v160Z\"/>\n",
              "  </svg>\n",
              "    </button>\n",
              "\n",
              "  <style>\n",
              "    .colab-df-container {\n",
              "      display:flex;\n",
              "      gap: 12px;\n",
              "    }\n",
              "\n",
              "    .colab-df-convert {\n",
              "      background-color: #E8F0FE;\n",
              "      border: none;\n",
              "      border-radius: 50%;\n",
              "      cursor: pointer;\n",
              "      display: none;\n",
              "      fill: #1967D2;\n",
              "      height: 32px;\n",
              "      padding: 0 0 0 0;\n",
              "      width: 32px;\n",
              "    }\n",
              "\n",
              "    .colab-df-convert:hover {\n",
              "      background-color: #E2EBFA;\n",
              "      box-shadow: 0px 1px 2px rgba(60, 64, 67, 0.3), 0px 1px 3px 1px rgba(60, 64, 67, 0.15);\n",
              "      fill: #174EA6;\n",
              "    }\n",
              "\n",
              "    .colab-df-buttons div {\n",
              "      margin-bottom: 4px;\n",
              "    }\n",
              "\n",
              "    [theme=dark] .colab-df-convert {\n",
              "      background-color: #3B4455;\n",
              "      fill: #D2E3FC;\n",
              "    }\n",
              "\n",
              "    [theme=dark] .colab-df-convert:hover {\n",
              "      background-color: #434B5C;\n",
              "      box-shadow: 0px 1px 3px 1px rgba(0, 0, 0, 0.15);\n",
              "      filter: drop-shadow(0px 1px 2px rgba(0, 0, 0, 0.3));\n",
              "      fill: #FFFFFF;\n",
              "    }\n",
              "  </style>\n",
              "\n",
              "    <script>\n",
              "      const buttonEl =\n",
              "        document.querySelector('#df-3ca5ce00-38bb-4dc1-9915-348b0c4e08f1 button.colab-df-convert');\n",
              "      buttonEl.style.display =\n",
              "        google.colab.kernel.accessAllowed ? 'block' : 'none';\n",
              "\n",
              "      async function convertToInteractive(key) {\n",
              "        const element = document.querySelector('#df-3ca5ce00-38bb-4dc1-9915-348b0c4e08f1');\n",
              "        const dataTable =\n",
              "          await google.colab.kernel.invokeFunction('convertToInteractive',\n",
              "                                                    [key], {});\n",
              "        if (!dataTable) return;\n",
              "\n",
              "        const docLinkHtml = 'Like what you see? Visit the ' +\n",
              "          '<a target=\"_blank\" href=https://colab.research.google.com/notebooks/data_table.ipynb>data table notebook</a>'\n",
              "          + ' to learn more about interactive tables.';\n",
              "        element.innerHTML = '';\n",
              "        dataTable['output_type'] = 'display_data';\n",
              "        await google.colab.output.renderOutput(dataTable, element);\n",
              "        const docLink = document.createElement('div');\n",
              "        docLink.innerHTML = docLinkHtml;\n",
              "        element.appendChild(docLink);\n",
              "      }\n",
              "    </script>\n",
              "  </div>\n",
              "\n",
              "\n",
              "<div id=\"df-cff64ebb-c58c-4491-b5da-fa4c82341ebe\">\n",
              "  <button class=\"colab-df-quickchart\" onclick=\"quickchart('df-cff64ebb-c58c-4491-b5da-fa4c82341ebe')\"\n",
              "            title=\"Suggest charts\"\n",
              "            style=\"display:none;\">\n",
              "\n",
              "<svg xmlns=\"http://www.w3.org/2000/svg\" height=\"24px\"viewBox=\"0 0 24 24\"\n",
              "     width=\"24px\">\n",
              "    <g>\n",
              "        <path d=\"M19 3H5c-1.1 0-2 .9-2 2v14c0 1.1.9 2 2 2h14c1.1 0 2-.9 2-2V5c0-1.1-.9-2-2-2zM9 17H7v-7h2v7zm4 0h-2V7h2v10zm4 0h-2v-4h2v4z\"/>\n",
              "    </g>\n",
              "</svg>\n",
              "  </button>\n",
              "\n",
              "<style>\n",
              "  .colab-df-quickchart {\n",
              "      --bg-color: #E8F0FE;\n",
              "      --fill-color: #1967D2;\n",
              "      --hover-bg-color: #E2EBFA;\n",
              "      --hover-fill-color: #174EA6;\n",
              "      --disabled-fill-color: #AAA;\n",
              "      --disabled-bg-color: #DDD;\n",
              "  }\n",
              "\n",
              "  [theme=dark] .colab-df-quickchart {\n",
              "      --bg-color: #3B4455;\n",
              "      --fill-color: #D2E3FC;\n",
              "      --hover-bg-color: #434B5C;\n",
              "      --hover-fill-color: #FFFFFF;\n",
              "      --disabled-bg-color: #3B4455;\n",
              "      --disabled-fill-color: #666;\n",
              "  }\n",
              "\n",
              "  .colab-df-quickchart {\n",
              "    background-color: var(--bg-color);\n",
              "    border: none;\n",
              "    border-radius: 50%;\n",
              "    cursor: pointer;\n",
              "    display: none;\n",
              "    fill: var(--fill-color);\n",
              "    height: 32px;\n",
              "    padding: 0;\n",
              "    width: 32px;\n",
              "  }\n",
              "\n",
              "  .colab-df-quickchart:hover {\n",
              "    background-color: var(--hover-bg-color);\n",
              "    box-shadow: 0 1px 2px rgba(60, 64, 67, 0.3), 0 1px 3px 1px rgba(60, 64, 67, 0.15);\n",
              "    fill: var(--button-hover-fill-color);\n",
              "  }\n",
              "\n",
              "  .colab-df-quickchart-complete:disabled,\n",
              "  .colab-df-quickchart-complete:disabled:hover {\n",
              "    background-color: var(--disabled-bg-color);\n",
              "    fill: var(--disabled-fill-color);\n",
              "    box-shadow: none;\n",
              "  }\n",
              "\n",
              "  .colab-df-spinner {\n",
              "    border: 2px solid var(--fill-color);\n",
              "    border-color: transparent;\n",
              "    border-bottom-color: var(--fill-color);\n",
              "    animation:\n",
              "      spin 1s steps(1) infinite;\n",
              "  }\n",
              "\n",
              "  @keyframes spin {\n",
              "    0% {\n",
              "      border-color: transparent;\n",
              "      border-bottom-color: var(--fill-color);\n",
              "      border-left-color: var(--fill-color);\n",
              "    }\n",
              "    20% {\n",
              "      border-color: transparent;\n",
              "      border-left-color: var(--fill-color);\n",
              "      border-top-color: var(--fill-color);\n",
              "    }\n",
              "    30% {\n",
              "      border-color: transparent;\n",
              "      border-left-color: var(--fill-color);\n",
              "      border-top-color: var(--fill-color);\n",
              "      border-right-color: var(--fill-color);\n",
              "    }\n",
              "    40% {\n",
              "      border-color: transparent;\n",
              "      border-right-color: var(--fill-color);\n",
              "      border-top-color: var(--fill-color);\n",
              "    }\n",
              "    60% {\n",
              "      border-color: transparent;\n",
              "      border-right-color: var(--fill-color);\n",
              "    }\n",
              "    80% {\n",
              "      border-color: transparent;\n",
              "      border-right-color: var(--fill-color);\n",
              "      border-bottom-color: var(--fill-color);\n",
              "    }\n",
              "    90% {\n",
              "      border-color: transparent;\n",
              "      border-bottom-color: var(--fill-color);\n",
              "    }\n",
              "  }\n",
              "</style>\n",
              "\n",
              "  <script>\n",
              "    async function quickchart(key) {\n",
              "      const quickchartButtonEl =\n",
              "        document.querySelector('#' + key + ' button');\n",
              "      quickchartButtonEl.disabled = true;  // To prevent multiple clicks.\n",
              "      quickchartButtonEl.classList.add('colab-df-spinner');\n",
              "      try {\n",
              "        const charts = await google.colab.kernel.invokeFunction(\n",
              "            'suggestCharts', [key], {});\n",
              "      } catch (error) {\n",
              "        console.error('Error during call to suggestCharts:', error);\n",
              "      }\n",
              "      quickchartButtonEl.classList.remove('colab-df-spinner');\n",
              "      quickchartButtonEl.classList.add('colab-df-quickchart-complete');\n",
              "    }\n",
              "    (() => {\n",
              "      let quickchartButtonEl =\n",
              "        document.querySelector('#df-cff64ebb-c58c-4491-b5da-fa4c82341ebe button');\n",
              "      quickchartButtonEl.style.display =\n",
              "        google.colab.kernel.accessAllowed ? 'block' : 'none';\n",
              "    })();\n",
              "  </script>\n",
              "</div>\n",
              "\n",
              "    </div>\n",
              "  </div>\n"
            ],
            "application/vnd.google.colaboratory.intrinsic+json": {
              "type": "dataframe",
              "variable_name": "train_dataset"
            }
          },
          "metadata": {},
          "execution_count": 77
        }
      ],
      "source": [
        "train_dataset.head()"
      ]
    },
    {
      "cell_type": "code",
      "execution_count": null,
      "metadata": {
        "id": "W4pwyQpKUo55",
        "colab": {
          "base_uri": "https://localhost:8080/"
        },
        "outputId": "13565c00-287f-44fb-cb4e-67593975eb18"
      },
      "outputs": [
        {
          "output_type": "execute_result",
          "data": {
            "text/plain": [
              "array(['A/T', 'Transmission w/Dual Shift Mode', '7-Speed A/T',\n",
              "       '8-Speed A/T', '10-Speed Automatic', '1-Speed A/T', '6-Speed A/T',\n",
              "       '10-Speed A/T', '9-Speed A/T', '8-Speed Automatic',\n",
              "       '9-Speed Automatic', '5-Speed A/T', 'Automatic',\n",
              "       '7-Speed Automatic with Auto-Shift', 'CVT Transmission',\n",
              "       '5-Speed M/T', 'M/T', '6-Speed M/T', '6-Speed Automatic',\n",
              "       '4-Speed Automatic', '7-Speed M/T', '2-Speed A/T',\n",
              "       '1-Speed Automatic', 'Automatic CVT', '4-Speed A/T',\n",
              "       '6-Speed Manual', 'Transmission Overdrive Switch',\n",
              "       '8-Speed Automatic with Auto-Shift', '7-Speed Manual',\n",
              "       '7-Speed Automatic', '9-Speed Automatic with Auto-Shift',\n",
              "       '6-Speed Automatic with Auto-Shift',\n",
              "       '6-Speed Electronically Controlled Automatic with O', 'F', 'CVT-F',\n",
              "       '8-Speed Manual', 'Manual', '–', '2', '6 Speed At/Mt',\n",
              "       '5-Speed Automatic', '2-Speed Automatic', '8-SPEED A/T', '7-Speed',\n",
              "       'Variable', 'Single-Speed Fixed Gear', '8-SPEED AT',\n",
              "       '10-Speed Automatic with Overdrive', '7-Speed DCT Automatic',\n",
              "       'SCHEDULED FOR OR IN PRODUCTION', '6-Speed', '6 Speed Mt'],\n",
              "      dtype=object)"
            ]
          },
          "metadata": {},
          "execution_count": 78
        }
      ],
      "source": [
        "train_dataset['transmission'].unique()"
      ]
    },
    {
      "cell_type": "markdown",
      "metadata": {
        "id": "uASXBJRuU9YY"
      },
      "source": [
        "##### Extract Transmission Type"
      ]
    },
    {
      "cell_type": "code",
      "execution_count": null,
      "metadata": {
        "id": "sPZPDBSmUzq-"
      },
      "outputs": [],
      "source": [
        "def extract_transmission_type(x):\n",
        "    data = None\n",
        "    if(re.search(\"(Automatic|A\\/T|AT|At)\", x) != None):\n",
        "        data = \"Automatic\"\n",
        "    if(re.search(\"(Manual|M\\/T|MT|Mt)\", x) != None):\n",
        "        data = \"Manual\"\n",
        "    if(re.search(\"(CVT|Variable)\", x) != None ):\n",
        "        data = \"CVT\"\n",
        "    if(\"DCT\" in x):\n",
        "        data = \"DCT\"\n",
        "    if(data == None):\n",
        "        data = \"Other\"\n",
        "\n",
        "    return data"
      ]
    },
    {
      "cell_type": "code",
      "execution_count": null,
      "metadata": {
        "id": "II3L98ymVDXz",
        "colab": {
          "base_uri": "https://localhost:8080/"
        },
        "outputId": "1e65cc32-1034-473c-b76d-750aeadd186b"
      },
      "outputs": [
        {
          "output_type": "execute_result",
          "data": {
            "text/plain": [
              "array(['Automatic', 'Other', 'CVT', 'Manual', 'DCT'], dtype=object)"
            ]
          },
          "metadata": {},
          "execution_count": 80
        }
      ],
      "source": [
        "train_dataset[\"transmission\"] = train_dataset[\"transmission\"].apply(extract_transmission_type)\n",
        "train_dataset[\"transmission\"].unique()"
      ]
    },
    {
      "cell_type": "code",
      "execution_count": null,
      "metadata": {
        "id": "RaN46z-AVHq5",
        "colab": {
          "base_uri": "https://localhost:8080/"
        },
        "outputId": "dfc56188-d28e-4bc7-cee4-bda474fc9739"
      },
      "outputs": [
        {
          "output_type": "execute_result",
          "data": {
            "text/plain": [
              "array(['Automatic', 'Other', 'Manual', 'CVT', 'DCT'], dtype=object)"
            ]
          },
          "metadata": {},
          "execution_count": 81
        }
      ],
      "source": [
        "test_dataset[\"transmission\"] = test_dataset[\"transmission\"].apply(extract_transmission_type)\n",
        "test_dataset[\"transmission\"].unique()"
      ]
    },
    {
      "cell_type": "markdown",
      "metadata": {
        "id": "5yZ_mkOqVQTQ"
      },
      "source": [
        "##### Extract Exterir Color"
      ]
    },
    {
      "cell_type": "code",
      "execution_count": null,
      "metadata": {
        "id": "OH10L1gRVLHE"
      },
      "outputs": [],
      "source": [
        "def get_matplot_color(colors):\n",
        "    for color in colors.split():\n",
        "        if(color.lower() in plt.matplotlib.colors.cnames.keys()):\n",
        "            return color.lower()\n",
        "    return color.lower()"
      ]
    },
    {
      "cell_type": "code",
      "execution_count": null,
      "metadata": {
        "id": "XwE4omSUVT6-",
        "colab": {
          "base_uri": "https://localhost:8080/"
        },
        "outputId": "85e758ba-e9ed-4d46-afb5-045531aec5bf"
      },
      "outputs": [
        {
          "output_type": "execute_result",
          "data": {
            "text/plain": [
              "array(['yellow', 'silver', 'blue', 'black', 'white', 'gray', 'green',\n",
              "       'purple', 'metallic', 'red', 'beige', 'gold', 'blu', 'orange',\n",
              "       'brown', 'plum', 'grey', 'caviar', '–', 'snow', 'obsidian', 'sea',\n",
              "       'blueprint', 'borealis', 'noctis', 'tricoat', 'matte', 'pearl',\n",
              "       'sapphire', 'onyx', 'chalk', 'tintcoat', 'corsa', 'color',\n",
              "       'tempest', 'rock', 'pearlcoat', 'eleos', 'clearcoat', 'cloud',\n",
              "       'monocerus', 'moss', 'mica', 'platinum', 'isis', 'granite',\n",
              "       'chromaflair', 'pink', 'ice', 'verde', 'daytona', 'c', 'yulong',\n",
              "       'rosso', 'mango!', 'ember', 'crimson', 'tan', 'glacier', 'maroon',\n",
              "       'nimbus'], dtype=object)"
            ]
          },
          "metadata": {},
          "execution_count": 83
        }
      ],
      "source": [
        "train_dataset[\"ext_col\"] = train_dataset[\"ext_col\"].apply(get_matplot_color)\n",
        "train_dataset[\"ext_col\"].unique()"
      ]
    },
    {
      "cell_type": "code",
      "execution_count": null,
      "metadata": {
        "id": "HI8oWwXsVlYS",
        "colab": {
          "base_uri": "https://localhost:8080/"
        },
        "outputId": "73807060-b897-454e-ae79-075487e41ba4"
      },
      "outputs": [
        {
          "output_type": "execute_result",
          "data": {
            "text/plain": [
              "array(['white', 'silver', 'yellow', 'gray', 'black', 'blue', 'red',\n",
              "       'gold', 'green', 'blu', 'beige', 'orange', 'brown', 'metallic',\n",
              "       'mica', 'grey', 'blueprint', 'color', 'purple', 'pearl', '–',\n",
              "       'sea', 'glacier', 'tan', 'verde', 'noctis', 'c', 'tintcoat',\n",
              "       'matte', 'sapphire', 'corsa', 'tricoat', 'moss', 'mango!',\n",
              "       'caviar', 'snow', 'ice', 'plum', 'maroon', 'rock', 'rosso',\n",
              "       'eleos', 'daytona', 'cloud', 'chalk', 'chromaflair', 'obsidian',\n",
              "       'isis', 'crimson', 'onyx', 'tempest', 'nimbus', 'borealis',\n",
              "       'pearlcoat', 'ember', 'pink', 'yulong', 'clearcoat', 'granite',\n",
              "       'platinum', 'monocerus'], dtype=object)"
            ]
          },
          "metadata": {},
          "execution_count": 84
        }
      ],
      "source": [
        "test_dataset[\"ext_col\"] = test_dataset[\"ext_col\"].apply(get_matplot_color)\n",
        "test_dataset[\"ext_col\"].unique()"
      ]
    },
    {
      "cell_type": "code",
      "execution_count": null,
      "metadata": {
        "id": "CHQCUX2mVpaY",
        "colab": {
          "base_uri": "https://localhost:8080/"
        },
        "outputId": "7ae51ea4-e500-463b-892d-0dee0fa5db05"
      },
      "outputs": [
        {
          "output_type": "execute_result",
          "data": {
            "text/plain": [
              "(188533, 14)"
            ]
          },
          "metadata": {},
          "execution_count": 85
        }
      ],
      "source": [
        "train_dataset.shape"
      ]
    },
    {
      "cell_type": "code",
      "execution_count": null,
      "metadata": {
        "id": "t7tihWEKVsCR",
        "colab": {
          "base_uri": "https://localhost:8080/"
        },
        "outputId": "b489385f-9c98-4269-d768-a84426c5c38c"
      },
      "outputs": [
        {
          "output_type": "execute_result",
          "data": {
            "text/plain": [
              "(125690, 13)"
            ]
          },
          "metadata": {},
          "execution_count": 86
        }
      ],
      "source": [
        "test_dataset.shape"
      ]
    },
    {
      "cell_type": "code",
      "execution_count": null,
      "metadata": {
        "id": "45EnqkTXVXE7"
      },
      "outputs": [],
      "source": [
        "def top_10_cols(x, cols):\n",
        "    if x in cols:\n",
        "        return x\n",
        "    else:\n",
        "        return \"other\""
      ]
    },
    {
      "cell_type": "code",
      "execution_count": null,
      "metadata": {
        "id": "azBGU8lIWIox",
        "colab": {
          "base_uri": "https://localhost:8080/"
        },
        "outputId": "d58136c5-064e-40ec-b893-17b0032275be"
      },
      "outputs": [
        {
          "output_type": "execute_result",
          "data": {
            "text/plain": [
              "Index(['black', 'white', 'gray', 'silver', 'blue', 'red', 'green', 'metallic',\n",
              "       'gold', 'brown'],\n",
              "      dtype='object', name='ext_col')"
            ]
          },
          "metadata": {},
          "execution_count": 88
        }
      ],
      "source": [
        "top_10_ext_cols = train_dataset[\"ext_col\"].value_counts(ascending=False).index[:10]\n",
        "top_10_ext_cols"
      ]
    },
    {
      "cell_type": "code",
      "execution_count": null,
      "metadata": {
        "id": "X8UPpn9BVj3T",
        "colab": {
          "base_uri": "https://localhost:8080/"
        },
        "outputId": "749e4365-becf-46c9-8631-84dc419a33f9"
      },
      "outputs": [
        {
          "output_type": "execute_result",
          "data": {
            "text/plain": [
              "array(['other', 'silver', 'blue', 'black', 'white', 'gray', 'green',\n",
              "       'metallic', 'red', 'gold', 'brown'], dtype=object)"
            ]
          },
          "metadata": {},
          "execution_count": 89
        }
      ],
      "source": [
        "train_dataset[\"ext_col\"] = train_dataset[\"ext_col\"].apply(lambda x: top_10_cols(x, top_10_ext_cols))\n",
        "train_dataset[\"ext_col\"].unique()"
      ]
    },
    {
      "cell_type": "code",
      "execution_count": null,
      "metadata": {
        "id": "Hblfot9vV3fm",
        "colab": {
          "base_uri": "https://localhost:8080/"
        },
        "outputId": "0bcecf1c-45bb-44e5-c44b-98b23be7e7fd"
      },
      "outputs": [
        {
          "output_type": "execute_result",
          "data": {
            "text/plain": [
              "array(['white', 'silver', 'other', 'gray', 'black', 'blue', 'red', 'gold',\n",
              "       'green', 'brown', 'metallic'], dtype=object)"
            ]
          },
          "metadata": {},
          "execution_count": 90
        }
      ],
      "source": [
        "test_dataset[\"ext_col\"] = test_dataset[\"ext_col\"].apply(lambda x: top_10_cols(x, top_10_ext_cols))\n",
        "test_dataset[\"ext_col\"].unique()"
      ]
    },
    {
      "cell_type": "code",
      "execution_count": null,
      "metadata": {
        "id": "lvyt-nNtWSrg",
        "colab": {
          "base_uri": "https://localhost:8080/"
        },
        "outputId": "d3029f88-a264-488f-f93f-c3260bb2442f"
      },
      "outputs": [
        {
          "output_type": "execute_result",
          "data": {
            "text/plain": [
              "array(['gray', 'beige', 'black', '–', 'blue', 'white', 'red', 'brown',\n",
              "       'galvanized', 'parchment.', 'boulder', 'orange', 'ebony', 'silver',\n",
              "       'macchiato/magmagrey', 'gold', 'cloud', 'green', 'stone', 'navy',\n",
              "       'ash', 'portland', 'sandstone', 'beige/black', 'metal', 'slate',\n",
              "       'charcoal', 'cappuccino', 'parchment', 'w/contrast', 'ebony.',\n",
              "       'graystone', 'ade', 'graphite', 'tan/ebony/ebony', 'titanium',\n",
              "       'tan', 'brandy', 'amber', 'hotspur', 'chateau', 'ice', 'garnet',\n",
              "       'blk', 'oyster/black', 'mesa', 'espresso', 'black/graphite',\n",
              "       'accents', 'tan/ebony', 'ceramic', 'dune', 'roast', 'yellow',\n",
              "       'hide', 'chestnut', 'walnut', 'ivory', 'caramel', 'stitch',\n",
              "       'pimento', 'tension', 'pewter', 'leather', 'macchiato',\n",
              "       'anthracite', 'mocha', 'porpoise', 'black/red', 'cypress',\n",
              "       'tupelo', 'gideon', 'camel', 'nero', 'auburn', 'shale', 'linen',\n",
              "       'red/black', 'polar', 'platinum', 'sport', 'orange/black',\n",
              "       'cashmere', 'orchid', 'beluga'], dtype=object)"
            ]
          },
          "metadata": {},
          "execution_count": 91
        }
      ],
      "source": [
        "train_dataset[\"int_col\"] = train_dataset[\"int_col\"].apply(get_matplot_color)\n",
        "train_dataset[\"int_col\"].unique()"
      ]
    },
    {
      "cell_type": "code",
      "execution_count": null,
      "metadata": {
        "id": "S4KTXac1Wc1s",
        "colab": {
          "base_uri": "https://localhost:8080/"
        },
        "outputId": "98379395-5f44-4d03-f47a-f9d1f66dfd22"
      },
      "outputs": [
        {
          "output_type": "execute_result",
          "data": {
            "text/plain": [
              "array(['beige', 'black', 'ebony', 'gray', '–', 'red', 'orange/black',\n",
              "       'white', 'brown', 'tan', 'silver', 'graphite', 'orange', 'hide',\n",
              "       'titanium', 'stone', 'blue', 'green', 'linen', 'cappuccino',\n",
              "       'black/graphite', 'sandstone', 'blk', 'ade', 'mocha', 'cashmere',\n",
              "       'gold', 'metal', 'nero', 'chestnut', 'gideon', 'shale', 'hotspur',\n",
              "       'mesa', 'beige/black', 'platinum', 'parchment', 'walnut', 'brandy',\n",
              "       'macchiato/magmagrey', 'sport', 'chateau', 'camel', 'garnet',\n",
              "       'parchment.', 'ceramic', 'espresso', 'slate', 'accents', 'cloud',\n",
              "       'navy', 'ebony.', 'charcoal', 'yellow', 'tan/ebony/ebony',\n",
              "       'auburn', 'stitch', 'dune', 'w/contrast', 'ash', 'ice', 'pimento',\n",
              "       'orchid', 'portland', 'amber', 'galvanized', 'tension',\n",
              "       'red/black', 'tan/ebony', 'anthracite', 'cypress', 'macchiato',\n",
              "       'leather', 'roast', 'ivory', 'boulder', 'pewter', 'polar',\n",
              "       'beluga', 'black/red', 'porpoise', 'oyster/black', 'graystone',\n",
              "       'tupelo', 'caramel'], dtype=object)"
            ]
          },
          "metadata": {},
          "execution_count": 92
        }
      ],
      "source": [
        "test_dataset[\"int_col\"] = test_dataset[\"int_col\"].apply(get_matplot_color)\n",
        "test_dataset[\"int_col\"].unique()"
      ]
    },
    {
      "cell_type": "code",
      "execution_count": null,
      "metadata": {
        "id": "Ch8HO1msWigI",
        "colab": {
          "base_uri": "https://localhost:8080/"
        },
        "outputId": "0358d5f5-c9c2-44cb-883d-f59d4dd5b45e"
      },
      "outputs": [
        {
          "output_type": "execute_result",
          "data": {
            "text/plain": [
              "Index(['black', 'beige', 'gray', 'brown', 'red', 'white', '–', 'ebony',\n",
              "       'orange', 'blue'],\n",
              "      dtype='object', name='int_col')"
            ]
          },
          "metadata": {},
          "execution_count": 93
        }
      ],
      "source": [
        "top_10_int_cols = train_dataset[\"int_col\"].value_counts(ascending=False).index[:10]\n",
        "top_10_int_cols"
      ]
    },
    {
      "cell_type": "code",
      "execution_count": null,
      "metadata": {
        "id": "yMGUNNbxWp1t",
        "colab": {
          "base_uri": "https://localhost:8080/"
        },
        "outputId": "49fc9700-6a31-49f9-f028-0636c5848311"
      },
      "outputs": [
        {
          "output_type": "execute_result",
          "data": {
            "text/plain": [
              "array(['gray', 'beige', 'black', '–', 'blue', 'white', 'red', 'brown',\n",
              "       'other', 'orange', 'ebony'], dtype=object)"
            ]
          },
          "metadata": {},
          "execution_count": 94
        }
      ],
      "source": [
        "train_dataset[\"int_col\"] = train_dataset[\"int_col\"].apply(lambda x: top_10_cols(x, top_10_int_cols))\n",
        "train_dataset[\"int_col\"].unique()"
      ]
    },
    {
      "cell_type": "code",
      "execution_count": null,
      "metadata": {
        "id": "obyEwmy8WuWF",
        "colab": {
          "base_uri": "https://localhost:8080/"
        },
        "outputId": "738283d8-c5f0-4952-ccd9-f38dbca99388"
      },
      "outputs": [
        {
          "output_type": "execute_result",
          "data": {
            "text/plain": [
              "array(['beige', 'black', 'ebony', 'gray', '–', 'red', 'other', 'white',\n",
              "       'brown', 'orange', 'blue'], dtype=object)"
            ]
          },
          "metadata": {},
          "execution_count": 95
        }
      ],
      "source": [
        "test_dataset[\"int_col\"] = test_dataset[\"int_col\"].apply(lambda x: top_10_cols(x, top_10_int_cols))\n",
        "test_dataset[\"int_col\"].unique()"
      ]
    },
    {
      "cell_type": "code",
      "execution_count": null,
      "metadata": {
        "id": "XxxrepnIWxQZ",
        "colab": {
          "base_uri": "https://localhost:8080/",
          "height": 327
        },
        "outputId": "11a5d3db-d451-41a9-f3ca-4b789c9c6e62"
      },
      "outputs": [
        {
          "output_type": "execute_result",
          "data": {
            "text/plain": [
              "            brand              model  model_year  milage      fuel_type  \\\n",
              "id                                                                        \n",
              "0            MINI      Cooper S Base        2007  213000       Gasoline   \n",
              "1         Lincoln              LS V8        2002  143250       Gasoline   \n",
              "2       Chevrolet  Silverado 2500 LT        2002  136731  E85 Flex Fuel   \n",
              "3         Genesis   G90 5.0 Ultimate        2017   19500       Gasoline   \n",
              "4   Mercedes-Benz        Metris Base        2021    7388       Gasoline   \n",
              "\n",
              "   transmission ext_col int_col  accident clean_title  price  cylinders  hp  \\\n",
              "id                                                                            \n",
              "0     Automatic   other    gray         0         Yes   4200          4   4   \n",
              "1     Automatic  silver   beige         1         Yes   4999          8   8   \n",
              "2     Automatic    blue    gray         0         Yes  13900          8   8   \n",
              "3         Other   black   black         0         Yes  45000          8   8   \n",
              "4     Automatic   black   beige         0         Yes  97500          4   4   \n",
              "\n",
              "    engine_capacity  \n",
              "id                   \n",
              "0               1.6  \n",
              "1               3.9  \n",
              "2               5.3  \n",
              "3               5.0  \n",
              "4               2.0  "
            ],
            "text/html": [
              "\n",
              "  <div id=\"df-4a121a77-8039-4194-9eac-0e763c37905d\" class=\"colab-df-container\">\n",
              "    <div>\n",
              "<style scoped>\n",
              "    .dataframe tbody tr th:only-of-type {\n",
              "        vertical-align: middle;\n",
              "    }\n",
              "\n",
              "    .dataframe tbody tr th {\n",
              "        vertical-align: top;\n",
              "    }\n",
              "\n",
              "    .dataframe thead th {\n",
              "        text-align: right;\n",
              "    }\n",
              "</style>\n",
              "<table border=\"1\" class=\"dataframe\">\n",
              "  <thead>\n",
              "    <tr style=\"text-align: right;\">\n",
              "      <th></th>\n",
              "      <th>brand</th>\n",
              "      <th>model</th>\n",
              "      <th>model_year</th>\n",
              "      <th>milage</th>\n",
              "      <th>fuel_type</th>\n",
              "      <th>transmission</th>\n",
              "      <th>ext_col</th>\n",
              "      <th>int_col</th>\n",
              "      <th>accident</th>\n",
              "      <th>clean_title</th>\n",
              "      <th>price</th>\n",
              "      <th>cylinders</th>\n",
              "      <th>hp</th>\n",
              "      <th>engine_capacity</th>\n",
              "    </tr>\n",
              "    <tr>\n",
              "      <th>id</th>\n",
              "      <th></th>\n",
              "      <th></th>\n",
              "      <th></th>\n",
              "      <th></th>\n",
              "      <th></th>\n",
              "      <th></th>\n",
              "      <th></th>\n",
              "      <th></th>\n",
              "      <th></th>\n",
              "      <th></th>\n",
              "      <th></th>\n",
              "      <th></th>\n",
              "      <th></th>\n",
              "      <th></th>\n",
              "    </tr>\n",
              "  </thead>\n",
              "  <tbody>\n",
              "    <tr>\n",
              "      <th>0</th>\n",
              "      <td>MINI</td>\n",
              "      <td>Cooper S Base</td>\n",
              "      <td>2007</td>\n",
              "      <td>213000</td>\n",
              "      <td>Gasoline</td>\n",
              "      <td>Automatic</td>\n",
              "      <td>other</td>\n",
              "      <td>gray</td>\n",
              "      <td>0</td>\n",
              "      <td>Yes</td>\n",
              "      <td>4200</td>\n",
              "      <td>4</td>\n",
              "      <td>4</td>\n",
              "      <td>1.6</td>\n",
              "    </tr>\n",
              "    <tr>\n",
              "      <th>1</th>\n",
              "      <td>Lincoln</td>\n",
              "      <td>LS V8</td>\n",
              "      <td>2002</td>\n",
              "      <td>143250</td>\n",
              "      <td>Gasoline</td>\n",
              "      <td>Automatic</td>\n",
              "      <td>silver</td>\n",
              "      <td>beige</td>\n",
              "      <td>1</td>\n",
              "      <td>Yes</td>\n",
              "      <td>4999</td>\n",
              "      <td>8</td>\n",
              "      <td>8</td>\n",
              "      <td>3.9</td>\n",
              "    </tr>\n",
              "    <tr>\n",
              "      <th>2</th>\n",
              "      <td>Chevrolet</td>\n",
              "      <td>Silverado 2500 LT</td>\n",
              "      <td>2002</td>\n",
              "      <td>136731</td>\n",
              "      <td>E85 Flex Fuel</td>\n",
              "      <td>Automatic</td>\n",
              "      <td>blue</td>\n",
              "      <td>gray</td>\n",
              "      <td>0</td>\n",
              "      <td>Yes</td>\n",
              "      <td>13900</td>\n",
              "      <td>8</td>\n",
              "      <td>8</td>\n",
              "      <td>5.3</td>\n",
              "    </tr>\n",
              "    <tr>\n",
              "      <th>3</th>\n",
              "      <td>Genesis</td>\n",
              "      <td>G90 5.0 Ultimate</td>\n",
              "      <td>2017</td>\n",
              "      <td>19500</td>\n",
              "      <td>Gasoline</td>\n",
              "      <td>Other</td>\n",
              "      <td>black</td>\n",
              "      <td>black</td>\n",
              "      <td>0</td>\n",
              "      <td>Yes</td>\n",
              "      <td>45000</td>\n",
              "      <td>8</td>\n",
              "      <td>8</td>\n",
              "      <td>5.0</td>\n",
              "    </tr>\n",
              "    <tr>\n",
              "      <th>4</th>\n",
              "      <td>Mercedes-Benz</td>\n",
              "      <td>Metris Base</td>\n",
              "      <td>2021</td>\n",
              "      <td>7388</td>\n",
              "      <td>Gasoline</td>\n",
              "      <td>Automatic</td>\n",
              "      <td>black</td>\n",
              "      <td>beige</td>\n",
              "      <td>0</td>\n",
              "      <td>Yes</td>\n",
              "      <td>97500</td>\n",
              "      <td>4</td>\n",
              "      <td>4</td>\n",
              "      <td>2.0</td>\n",
              "    </tr>\n",
              "  </tbody>\n",
              "</table>\n",
              "</div>\n",
              "    <div class=\"colab-df-buttons\">\n",
              "\n",
              "  <div class=\"colab-df-container\">\n",
              "    <button class=\"colab-df-convert\" onclick=\"convertToInteractive('df-4a121a77-8039-4194-9eac-0e763c37905d')\"\n",
              "            title=\"Convert this dataframe to an interactive table.\"\n",
              "            style=\"display:none;\">\n",
              "\n",
              "  <svg xmlns=\"http://www.w3.org/2000/svg\" height=\"24px\" viewBox=\"0 -960 960 960\">\n",
              "    <path d=\"M120-120v-720h720v720H120Zm60-500h600v-160H180v160Zm220 220h160v-160H400v160Zm0 220h160v-160H400v160ZM180-400h160v-160H180v160Zm440 0h160v-160H620v160ZM180-180h160v-160H180v160Zm440 0h160v-160H620v160Z\"/>\n",
              "  </svg>\n",
              "    </button>\n",
              "\n",
              "  <style>\n",
              "    .colab-df-container {\n",
              "      display:flex;\n",
              "      gap: 12px;\n",
              "    }\n",
              "\n",
              "    .colab-df-convert {\n",
              "      background-color: #E8F0FE;\n",
              "      border: none;\n",
              "      border-radius: 50%;\n",
              "      cursor: pointer;\n",
              "      display: none;\n",
              "      fill: #1967D2;\n",
              "      height: 32px;\n",
              "      padding: 0 0 0 0;\n",
              "      width: 32px;\n",
              "    }\n",
              "\n",
              "    .colab-df-convert:hover {\n",
              "      background-color: #E2EBFA;\n",
              "      box-shadow: 0px 1px 2px rgba(60, 64, 67, 0.3), 0px 1px 3px 1px rgba(60, 64, 67, 0.15);\n",
              "      fill: #174EA6;\n",
              "    }\n",
              "\n",
              "    .colab-df-buttons div {\n",
              "      margin-bottom: 4px;\n",
              "    }\n",
              "\n",
              "    [theme=dark] .colab-df-convert {\n",
              "      background-color: #3B4455;\n",
              "      fill: #D2E3FC;\n",
              "    }\n",
              "\n",
              "    [theme=dark] .colab-df-convert:hover {\n",
              "      background-color: #434B5C;\n",
              "      box-shadow: 0px 1px 3px 1px rgba(0, 0, 0, 0.15);\n",
              "      filter: drop-shadow(0px 1px 2px rgba(0, 0, 0, 0.3));\n",
              "      fill: #FFFFFF;\n",
              "    }\n",
              "  </style>\n",
              "\n",
              "    <script>\n",
              "      const buttonEl =\n",
              "        document.querySelector('#df-4a121a77-8039-4194-9eac-0e763c37905d button.colab-df-convert');\n",
              "      buttonEl.style.display =\n",
              "        google.colab.kernel.accessAllowed ? 'block' : 'none';\n",
              "\n",
              "      async function convertToInteractive(key) {\n",
              "        const element = document.querySelector('#df-4a121a77-8039-4194-9eac-0e763c37905d');\n",
              "        const dataTable =\n",
              "          await google.colab.kernel.invokeFunction('convertToInteractive',\n",
              "                                                    [key], {});\n",
              "        if (!dataTable) return;\n",
              "\n",
              "        const docLinkHtml = 'Like what you see? Visit the ' +\n",
              "          '<a target=\"_blank\" href=https://colab.research.google.com/notebooks/data_table.ipynb>data table notebook</a>'\n",
              "          + ' to learn more about interactive tables.';\n",
              "        element.innerHTML = '';\n",
              "        dataTable['output_type'] = 'display_data';\n",
              "        await google.colab.output.renderOutput(dataTable, element);\n",
              "        const docLink = document.createElement('div');\n",
              "        docLink.innerHTML = docLinkHtml;\n",
              "        element.appendChild(docLink);\n",
              "      }\n",
              "    </script>\n",
              "  </div>\n",
              "\n",
              "\n",
              "<div id=\"df-ce23e189-1e3f-4856-8e9c-932a1005a9f9\">\n",
              "  <button class=\"colab-df-quickchart\" onclick=\"quickchart('df-ce23e189-1e3f-4856-8e9c-932a1005a9f9')\"\n",
              "            title=\"Suggest charts\"\n",
              "            style=\"display:none;\">\n",
              "\n",
              "<svg xmlns=\"http://www.w3.org/2000/svg\" height=\"24px\"viewBox=\"0 0 24 24\"\n",
              "     width=\"24px\">\n",
              "    <g>\n",
              "        <path d=\"M19 3H5c-1.1 0-2 .9-2 2v14c0 1.1.9 2 2 2h14c1.1 0 2-.9 2-2V5c0-1.1-.9-2-2-2zM9 17H7v-7h2v7zm4 0h-2V7h2v10zm4 0h-2v-4h2v4z\"/>\n",
              "    </g>\n",
              "</svg>\n",
              "  </button>\n",
              "\n",
              "<style>\n",
              "  .colab-df-quickchart {\n",
              "      --bg-color: #E8F0FE;\n",
              "      --fill-color: #1967D2;\n",
              "      --hover-bg-color: #E2EBFA;\n",
              "      --hover-fill-color: #174EA6;\n",
              "      --disabled-fill-color: #AAA;\n",
              "      --disabled-bg-color: #DDD;\n",
              "  }\n",
              "\n",
              "  [theme=dark] .colab-df-quickchart {\n",
              "      --bg-color: #3B4455;\n",
              "      --fill-color: #D2E3FC;\n",
              "      --hover-bg-color: #434B5C;\n",
              "      --hover-fill-color: #FFFFFF;\n",
              "      --disabled-bg-color: #3B4455;\n",
              "      --disabled-fill-color: #666;\n",
              "  }\n",
              "\n",
              "  .colab-df-quickchart {\n",
              "    background-color: var(--bg-color);\n",
              "    border: none;\n",
              "    border-radius: 50%;\n",
              "    cursor: pointer;\n",
              "    display: none;\n",
              "    fill: var(--fill-color);\n",
              "    height: 32px;\n",
              "    padding: 0;\n",
              "    width: 32px;\n",
              "  }\n",
              "\n",
              "  .colab-df-quickchart:hover {\n",
              "    background-color: var(--hover-bg-color);\n",
              "    box-shadow: 0 1px 2px rgba(60, 64, 67, 0.3), 0 1px 3px 1px rgba(60, 64, 67, 0.15);\n",
              "    fill: var(--button-hover-fill-color);\n",
              "  }\n",
              "\n",
              "  .colab-df-quickchart-complete:disabled,\n",
              "  .colab-df-quickchart-complete:disabled:hover {\n",
              "    background-color: var(--disabled-bg-color);\n",
              "    fill: var(--disabled-fill-color);\n",
              "    box-shadow: none;\n",
              "  }\n",
              "\n",
              "  .colab-df-spinner {\n",
              "    border: 2px solid var(--fill-color);\n",
              "    border-color: transparent;\n",
              "    border-bottom-color: var(--fill-color);\n",
              "    animation:\n",
              "      spin 1s steps(1) infinite;\n",
              "  }\n",
              "\n",
              "  @keyframes spin {\n",
              "    0% {\n",
              "      border-color: transparent;\n",
              "      border-bottom-color: var(--fill-color);\n",
              "      border-left-color: var(--fill-color);\n",
              "    }\n",
              "    20% {\n",
              "      border-color: transparent;\n",
              "      border-left-color: var(--fill-color);\n",
              "      border-top-color: var(--fill-color);\n",
              "    }\n",
              "    30% {\n",
              "      border-color: transparent;\n",
              "      border-left-color: var(--fill-color);\n",
              "      border-top-color: var(--fill-color);\n",
              "      border-right-color: var(--fill-color);\n",
              "    }\n",
              "    40% {\n",
              "      border-color: transparent;\n",
              "      border-right-color: var(--fill-color);\n",
              "      border-top-color: var(--fill-color);\n",
              "    }\n",
              "    60% {\n",
              "      border-color: transparent;\n",
              "      border-right-color: var(--fill-color);\n",
              "    }\n",
              "    80% {\n",
              "      border-color: transparent;\n",
              "      border-right-color: var(--fill-color);\n",
              "      border-bottom-color: var(--fill-color);\n",
              "    }\n",
              "    90% {\n",
              "      border-color: transparent;\n",
              "      border-bottom-color: var(--fill-color);\n",
              "    }\n",
              "  }\n",
              "</style>\n",
              "\n",
              "  <script>\n",
              "    async function quickchart(key) {\n",
              "      const quickchartButtonEl =\n",
              "        document.querySelector('#' + key + ' button');\n",
              "      quickchartButtonEl.disabled = true;  // To prevent multiple clicks.\n",
              "      quickchartButtonEl.classList.add('colab-df-spinner');\n",
              "      try {\n",
              "        const charts = await google.colab.kernel.invokeFunction(\n",
              "            'suggestCharts', [key], {});\n",
              "      } catch (error) {\n",
              "        console.error('Error during call to suggestCharts:', error);\n",
              "      }\n",
              "      quickchartButtonEl.classList.remove('colab-df-spinner');\n",
              "      quickchartButtonEl.classList.add('colab-df-quickchart-complete');\n",
              "    }\n",
              "    (() => {\n",
              "      let quickchartButtonEl =\n",
              "        document.querySelector('#df-ce23e189-1e3f-4856-8e9c-932a1005a9f9 button');\n",
              "      quickchartButtonEl.style.display =\n",
              "        google.colab.kernel.accessAllowed ? 'block' : 'none';\n",
              "    })();\n",
              "  </script>\n",
              "</div>\n",
              "\n",
              "    </div>\n",
              "  </div>\n"
            ],
            "application/vnd.google.colaboratory.intrinsic+json": {
              "type": "dataframe",
              "variable_name": "train_dataset"
            }
          },
          "metadata": {},
          "execution_count": 96
        }
      ],
      "source": [
        "train_dataset.head()"
      ]
    },
    {
      "cell_type": "code",
      "execution_count": null,
      "metadata": {
        "id": "WjI5bZ3jW3nB",
        "colab": {
          "base_uri": "https://localhost:8080/"
        },
        "outputId": "ca4021d9-d382-4112-d9c3-9ce351d3d758"
      },
      "outputs": [
        {
          "output_type": "execute_result",
          "data": {
            "text/plain": [
              "array(['MINI', 'Lincoln', 'Chevrolet', 'Genesis', 'Mercedes-Benz', 'Audi',\n",
              "       'Ford', 'BMW', 'Tesla', 'Cadillac', 'Land', 'GMC', 'Toyota',\n",
              "       'Hyundai', 'Volvo', 'Volkswagen', 'Buick', 'Rivian', 'RAM',\n",
              "       'Hummer', 'Alfa', 'INFINITI', 'Jeep', 'Porsche', 'McLaren',\n",
              "       'Honda', 'Lexus', 'Dodge', 'Nissan', 'Jaguar', 'Acura', 'Kia',\n",
              "       'Mitsubishi', 'Rolls-Royce', 'Maserati', 'Pontiac', 'Saturn',\n",
              "       'Bentley', 'Mazda', 'Subaru', 'Ferrari', 'Aston', 'Lamborghini',\n",
              "       'Chrysler', 'Lucid', 'Lotus', 'Scion', 'smart', 'Karma',\n",
              "       'Plymouth', 'Suzuki', 'FIAT', 'Saab', 'Bugatti', 'Mercury',\n",
              "       'Polestar', 'Maybach'], dtype=object)"
            ]
          },
          "metadata": {},
          "execution_count": 97
        }
      ],
      "source": [
        "train_dataset['brand'].unique()"
      ]
    },
    {
      "cell_type": "code",
      "execution_count": null,
      "metadata": {
        "id": "FC9Q5pwedAnF"
      },
      "outputs": [],
      "source": [
        "top_10_pricing_cars = train_dataset[[\"brand\",\"price\"]].groupby(\"brand\").mean().sort_values(\"price\",ascending = True).tail(10).index\n",
        "top_10_listing_cars = train_dataset[\"brand\"].value_counts(ascending=True).tail(10).index"
      ]
    },
    {
      "cell_type": "code",
      "execution_count": null,
      "metadata": {
        "id": "38umV7A4W9AT"
      },
      "outputs": [],
      "source": [
        "def prepare_brand_value(x):\n",
        "    if(x in top_10_pricing_cars or x in top_10_listing_cars):\n",
        "        return x\n",
        "    else:\n",
        "        return \"Other\""
      ]
    },
    {
      "cell_type": "code",
      "execution_count": null,
      "metadata": {
        "id": "UKH8l3Loc-sM",
        "colab": {
          "base_uri": "https://localhost:8080/",
          "height": 743
        },
        "outputId": "02a1f00c-44ca-4b0e-a962-e37bee5bf2ee"
      },
      "outputs": [
        {
          "output_type": "execute_result",
          "data": {
            "text/plain": [
              "brand\n",
              "Other            53888\n",
              "Ford             23088\n",
              "Mercedes-Benz    19172\n",
              "BMW              17028\n",
              "Chevrolet        16335\n",
              "Audi             10887\n",
              "Porsche          10612\n",
              "Land              9525\n",
              "Toyota            8850\n",
              "Lexus             8643\n",
              "Jeep              6474\n",
              "Bentley           1155\n",
              "Lamborghini        809\n",
              "Rivian             590\n",
              "Rolls-Royce        561\n",
              "Ferrari            359\n",
              "McLaren            243\n",
              "Aston              238\n",
              "Lucid               69\n",
              "Bugatti              7\n",
              "Name: count, dtype: int64"
            ],
            "text/html": [
              "<div>\n",
              "<style scoped>\n",
              "    .dataframe tbody tr th:only-of-type {\n",
              "        vertical-align: middle;\n",
              "    }\n",
              "\n",
              "    .dataframe tbody tr th {\n",
              "        vertical-align: top;\n",
              "    }\n",
              "\n",
              "    .dataframe thead th {\n",
              "        text-align: right;\n",
              "    }\n",
              "</style>\n",
              "<table border=\"1\" class=\"dataframe\">\n",
              "  <thead>\n",
              "    <tr style=\"text-align: right;\">\n",
              "      <th></th>\n",
              "      <th>count</th>\n",
              "    </tr>\n",
              "    <tr>\n",
              "      <th>brand</th>\n",
              "      <th></th>\n",
              "    </tr>\n",
              "  </thead>\n",
              "  <tbody>\n",
              "    <tr>\n",
              "      <th>Other</th>\n",
              "      <td>53888</td>\n",
              "    </tr>\n",
              "    <tr>\n",
              "      <th>Ford</th>\n",
              "      <td>23088</td>\n",
              "    </tr>\n",
              "    <tr>\n",
              "      <th>Mercedes-Benz</th>\n",
              "      <td>19172</td>\n",
              "    </tr>\n",
              "    <tr>\n",
              "      <th>BMW</th>\n",
              "      <td>17028</td>\n",
              "    </tr>\n",
              "    <tr>\n",
              "      <th>Chevrolet</th>\n",
              "      <td>16335</td>\n",
              "    </tr>\n",
              "    <tr>\n",
              "      <th>Audi</th>\n",
              "      <td>10887</td>\n",
              "    </tr>\n",
              "    <tr>\n",
              "      <th>Porsche</th>\n",
              "      <td>10612</td>\n",
              "    </tr>\n",
              "    <tr>\n",
              "      <th>Land</th>\n",
              "      <td>9525</td>\n",
              "    </tr>\n",
              "    <tr>\n",
              "      <th>Toyota</th>\n",
              "      <td>8850</td>\n",
              "    </tr>\n",
              "    <tr>\n",
              "      <th>Lexus</th>\n",
              "      <td>8643</td>\n",
              "    </tr>\n",
              "    <tr>\n",
              "      <th>Jeep</th>\n",
              "      <td>6474</td>\n",
              "    </tr>\n",
              "    <tr>\n",
              "      <th>Bentley</th>\n",
              "      <td>1155</td>\n",
              "    </tr>\n",
              "    <tr>\n",
              "      <th>Lamborghini</th>\n",
              "      <td>809</td>\n",
              "    </tr>\n",
              "    <tr>\n",
              "      <th>Rivian</th>\n",
              "      <td>590</td>\n",
              "    </tr>\n",
              "    <tr>\n",
              "      <th>Rolls-Royce</th>\n",
              "      <td>561</td>\n",
              "    </tr>\n",
              "    <tr>\n",
              "      <th>Ferrari</th>\n",
              "      <td>359</td>\n",
              "    </tr>\n",
              "    <tr>\n",
              "      <th>McLaren</th>\n",
              "      <td>243</td>\n",
              "    </tr>\n",
              "    <tr>\n",
              "      <th>Aston</th>\n",
              "      <td>238</td>\n",
              "    </tr>\n",
              "    <tr>\n",
              "      <th>Lucid</th>\n",
              "      <td>69</td>\n",
              "    </tr>\n",
              "    <tr>\n",
              "      <th>Bugatti</th>\n",
              "      <td>7</td>\n",
              "    </tr>\n",
              "  </tbody>\n",
              "</table>\n",
              "</div><br><label><b>dtype:</b> int64</label>"
            ]
          },
          "metadata": {},
          "execution_count": 100
        }
      ],
      "source": [
        "train_dataset[\"brand\"] = train_dataset[\"brand\"].apply(prepare_brand_value)\n",
        "train_dataset[\"brand\"].value_counts()"
      ]
    },
    {
      "cell_type": "code",
      "execution_count": null,
      "metadata": {
        "id": "CpsW0gCodLq0"
      },
      "outputs": [],
      "source": [
        "test_dataset[\"brand\"] = test_dataset[\"brand\"].apply(prepare_brand_value)"
      ]
    },
    {
      "cell_type": "code",
      "execution_count": null,
      "metadata": {
        "id": "MQ0Vt5WpdPsz",
        "colab": {
          "base_uri": "https://localhost:8080/",
          "height": 327
        },
        "outputId": "e7edb738-10d1-43c7-9974-13f930430185"
      },
      "outputs": [
        {
          "output_type": "execute_result",
          "data": {
            "text/plain": [
              "            brand              model  model_year  milage      fuel_type  \\\n",
              "id                                                                        \n",
              "0           Other      Cooper S Base        2007  213000       Gasoline   \n",
              "1           Other              LS V8        2002  143250       Gasoline   \n",
              "2       Chevrolet  Silverado 2500 LT        2002  136731  E85 Flex Fuel   \n",
              "3           Other   G90 5.0 Ultimate        2017   19500       Gasoline   \n",
              "4   Mercedes-Benz        Metris Base        2021    7388       Gasoline   \n",
              "\n",
              "   transmission ext_col int_col  accident clean_title  price  cylinders  hp  \\\n",
              "id                                                                            \n",
              "0     Automatic   other    gray         0         Yes   4200          4   4   \n",
              "1     Automatic  silver   beige         1         Yes   4999          8   8   \n",
              "2     Automatic    blue    gray         0         Yes  13900          8   8   \n",
              "3         Other   black   black         0         Yes  45000          8   8   \n",
              "4     Automatic   black   beige         0         Yes  97500          4   4   \n",
              "\n",
              "    engine_capacity  \n",
              "id                   \n",
              "0               1.6  \n",
              "1               3.9  \n",
              "2               5.3  \n",
              "3               5.0  \n",
              "4               2.0  "
            ],
            "text/html": [
              "\n",
              "  <div id=\"df-a93557b9-4d89-4dfc-8bfd-e13ecf728759\" class=\"colab-df-container\">\n",
              "    <div>\n",
              "<style scoped>\n",
              "    .dataframe tbody tr th:only-of-type {\n",
              "        vertical-align: middle;\n",
              "    }\n",
              "\n",
              "    .dataframe tbody tr th {\n",
              "        vertical-align: top;\n",
              "    }\n",
              "\n",
              "    .dataframe thead th {\n",
              "        text-align: right;\n",
              "    }\n",
              "</style>\n",
              "<table border=\"1\" class=\"dataframe\">\n",
              "  <thead>\n",
              "    <tr style=\"text-align: right;\">\n",
              "      <th></th>\n",
              "      <th>brand</th>\n",
              "      <th>model</th>\n",
              "      <th>model_year</th>\n",
              "      <th>milage</th>\n",
              "      <th>fuel_type</th>\n",
              "      <th>transmission</th>\n",
              "      <th>ext_col</th>\n",
              "      <th>int_col</th>\n",
              "      <th>accident</th>\n",
              "      <th>clean_title</th>\n",
              "      <th>price</th>\n",
              "      <th>cylinders</th>\n",
              "      <th>hp</th>\n",
              "      <th>engine_capacity</th>\n",
              "    </tr>\n",
              "    <tr>\n",
              "      <th>id</th>\n",
              "      <th></th>\n",
              "      <th></th>\n",
              "      <th></th>\n",
              "      <th></th>\n",
              "      <th></th>\n",
              "      <th></th>\n",
              "      <th></th>\n",
              "      <th></th>\n",
              "      <th></th>\n",
              "      <th></th>\n",
              "      <th></th>\n",
              "      <th></th>\n",
              "      <th></th>\n",
              "      <th></th>\n",
              "    </tr>\n",
              "  </thead>\n",
              "  <tbody>\n",
              "    <tr>\n",
              "      <th>0</th>\n",
              "      <td>Other</td>\n",
              "      <td>Cooper S Base</td>\n",
              "      <td>2007</td>\n",
              "      <td>213000</td>\n",
              "      <td>Gasoline</td>\n",
              "      <td>Automatic</td>\n",
              "      <td>other</td>\n",
              "      <td>gray</td>\n",
              "      <td>0</td>\n",
              "      <td>Yes</td>\n",
              "      <td>4200</td>\n",
              "      <td>4</td>\n",
              "      <td>4</td>\n",
              "      <td>1.6</td>\n",
              "    </tr>\n",
              "    <tr>\n",
              "      <th>1</th>\n",
              "      <td>Other</td>\n",
              "      <td>LS V8</td>\n",
              "      <td>2002</td>\n",
              "      <td>143250</td>\n",
              "      <td>Gasoline</td>\n",
              "      <td>Automatic</td>\n",
              "      <td>silver</td>\n",
              "      <td>beige</td>\n",
              "      <td>1</td>\n",
              "      <td>Yes</td>\n",
              "      <td>4999</td>\n",
              "      <td>8</td>\n",
              "      <td>8</td>\n",
              "      <td>3.9</td>\n",
              "    </tr>\n",
              "    <tr>\n",
              "      <th>2</th>\n",
              "      <td>Chevrolet</td>\n",
              "      <td>Silverado 2500 LT</td>\n",
              "      <td>2002</td>\n",
              "      <td>136731</td>\n",
              "      <td>E85 Flex Fuel</td>\n",
              "      <td>Automatic</td>\n",
              "      <td>blue</td>\n",
              "      <td>gray</td>\n",
              "      <td>0</td>\n",
              "      <td>Yes</td>\n",
              "      <td>13900</td>\n",
              "      <td>8</td>\n",
              "      <td>8</td>\n",
              "      <td>5.3</td>\n",
              "    </tr>\n",
              "    <tr>\n",
              "      <th>3</th>\n",
              "      <td>Other</td>\n",
              "      <td>G90 5.0 Ultimate</td>\n",
              "      <td>2017</td>\n",
              "      <td>19500</td>\n",
              "      <td>Gasoline</td>\n",
              "      <td>Other</td>\n",
              "      <td>black</td>\n",
              "      <td>black</td>\n",
              "      <td>0</td>\n",
              "      <td>Yes</td>\n",
              "      <td>45000</td>\n",
              "      <td>8</td>\n",
              "      <td>8</td>\n",
              "      <td>5.0</td>\n",
              "    </tr>\n",
              "    <tr>\n",
              "      <th>4</th>\n",
              "      <td>Mercedes-Benz</td>\n",
              "      <td>Metris Base</td>\n",
              "      <td>2021</td>\n",
              "      <td>7388</td>\n",
              "      <td>Gasoline</td>\n",
              "      <td>Automatic</td>\n",
              "      <td>black</td>\n",
              "      <td>beige</td>\n",
              "      <td>0</td>\n",
              "      <td>Yes</td>\n",
              "      <td>97500</td>\n",
              "      <td>4</td>\n",
              "      <td>4</td>\n",
              "      <td>2.0</td>\n",
              "    </tr>\n",
              "  </tbody>\n",
              "</table>\n",
              "</div>\n",
              "    <div class=\"colab-df-buttons\">\n",
              "\n",
              "  <div class=\"colab-df-container\">\n",
              "    <button class=\"colab-df-convert\" onclick=\"convertToInteractive('df-a93557b9-4d89-4dfc-8bfd-e13ecf728759')\"\n",
              "            title=\"Convert this dataframe to an interactive table.\"\n",
              "            style=\"display:none;\">\n",
              "\n",
              "  <svg xmlns=\"http://www.w3.org/2000/svg\" height=\"24px\" viewBox=\"0 -960 960 960\">\n",
              "    <path d=\"M120-120v-720h720v720H120Zm60-500h600v-160H180v160Zm220 220h160v-160H400v160Zm0 220h160v-160H400v160ZM180-400h160v-160H180v160Zm440 0h160v-160H620v160ZM180-180h160v-160H180v160Zm440 0h160v-160H620v160Z\"/>\n",
              "  </svg>\n",
              "    </button>\n",
              "\n",
              "  <style>\n",
              "    .colab-df-container {\n",
              "      display:flex;\n",
              "      gap: 12px;\n",
              "    }\n",
              "\n",
              "    .colab-df-convert {\n",
              "      background-color: #E8F0FE;\n",
              "      border: none;\n",
              "      border-radius: 50%;\n",
              "      cursor: pointer;\n",
              "      display: none;\n",
              "      fill: #1967D2;\n",
              "      height: 32px;\n",
              "      padding: 0 0 0 0;\n",
              "      width: 32px;\n",
              "    }\n",
              "\n",
              "    .colab-df-convert:hover {\n",
              "      background-color: #E2EBFA;\n",
              "      box-shadow: 0px 1px 2px rgba(60, 64, 67, 0.3), 0px 1px 3px 1px rgba(60, 64, 67, 0.15);\n",
              "      fill: #174EA6;\n",
              "    }\n",
              "\n",
              "    .colab-df-buttons div {\n",
              "      margin-bottom: 4px;\n",
              "    }\n",
              "\n",
              "    [theme=dark] .colab-df-convert {\n",
              "      background-color: #3B4455;\n",
              "      fill: #D2E3FC;\n",
              "    }\n",
              "\n",
              "    [theme=dark] .colab-df-convert:hover {\n",
              "      background-color: #434B5C;\n",
              "      box-shadow: 0px 1px 3px 1px rgba(0, 0, 0, 0.15);\n",
              "      filter: drop-shadow(0px 1px 2px rgba(0, 0, 0, 0.3));\n",
              "      fill: #FFFFFF;\n",
              "    }\n",
              "  </style>\n",
              "\n",
              "    <script>\n",
              "      const buttonEl =\n",
              "        document.querySelector('#df-a93557b9-4d89-4dfc-8bfd-e13ecf728759 button.colab-df-convert');\n",
              "      buttonEl.style.display =\n",
              "        google.colab.kernel.accessAllowed ? 'block' : 'none';\n",
              "\n",
              "      async function convertToInteractive(key) {\n",
              "        const element = document.querySelector('#df-a93557b9-4d89-4dfc-8bfd-e13ecf728759');\n",
              "        const dataTable =\n",
              "          await google.colab.kernel.invokeFunction('convertToInteractive',\n",
              "                                                    [key], {});\n",
              "        if (!dataTable) return;\n",
              "\n",
              "        const docLinkHtml = 'Like what you see? Visit the ' +\n",
              "          '<a target=\"_blank\" href=https://colab.research.google.com/notebooks/data_table.ipynb>data table notebook</a>'\n",
              "          + ' to learn more about interactive tables.';\n",
              "        element.innerHTML = '';\n",
              "        dataTable['output_type'] = 'display_data';\n",
              "        await google.colab.output.renderOutput(dataTable, element);\n",
              "        const docLink = document.createElement('div');\n",
              "        docLink.innerHTML = docLinkHtml;\n",
              "        element.appendChild(docLink);\n",
              "      }\n",
              "    </script>\n",
              "  </div>\n",
              "\n",
              "\n",
              "<div id=\"df-a5f09858-66bc-4065-9e2d-194ca9dbe67d\">\n",
              "  <button class=\"colab-df-quickchart\" onclick=\"quickchart('df-a5f09858-66bc-4065-9e2d-194ca9dbe67d')\"\n",
              "            title=\"Suggest charts\"\n",
              "            style=\"display:none;\">\n",
              "\n",
              "<svg xmlns=\"http://www.w3.org/2000/svg\" height=\"24px\"viewBox=\"0 0 24 24\"\n",
              "     width=\"24px\">\n",
              "    <g>\n",
              "        <path d=\"M19 3H5c-1.1 0-2 .9-2 2v14c0 1.1.9 2 2 2h14c1.1 0 2-.9 2-2V5c0-1.1-.9-2-2-2zM9 17H7v-7h2v7zm4 0h-2V7h2v10zm4 0h-2v-4h2v4z\"/>\n",
              "    </g>\n",
              "</svg>\n",
              "  </button>\n",
              "\n",
              "<style>\n",
              "  .colab-df-quickchart {\n",
              "      --bg-color: #E8F0FE;\n",
              "      --fill-color: #1967D2;\n",
              "      --hover-bg-color: #E2EBFA;\n",
              "      --hover-fill-color: #174EA6;\n",
              "      --disabled-fill-color: #AAA;\n",
              "      --disabled-bg-color: #DDD;\n",
              "  }\n",
              "\n",
              "  [theme=dark] .colab-df-quickchart {\n",
              "      --bg-color: #3B4455;\n",
              "      --fill-color: #D2E3FC;\n",
              "      --hover-bg-color: #434B5C;\n",
              "      --hover-fill-color: #FFFFFF;\n",
              "      --disabled-bg-color: #3B4455;\n",
              "      --disabled-fill-color: #666;\n",
              "  }\n",
              "\n",
              "  .colab-df-quickchart {\n",
              "    background-color: var(--bg-color);\n",
              "    border: none;\n",
              "    border-radius: 50%;\n",
              "    cursor: pointer;\n",
              "    display: none;\n",
              "    fill: var(--fill-color);\n",
              "    height: 32px;\n",
              "    padding: 0;\n",
              "    width: 32px;\n",
              "  }\n",
              "\n",
              "  .colab-df-quickchart:hover {\n",
              "    background-color: var(--hover-bg-color);\n",
              "    box-shadow: 0 1px 2px rgba(60, 64, 67, 0.3), 0 1px 3px 1px rgba(60, 64, 67, 0.15);\n",
              "    fill: var(--button-hover-fill-color);\n",
              "  }\n",
              "\n",
              "  .colab-df-quickchart-complete:disabled,\n",
              "  .colab-df-quickchart-complete:disabled:hover {\n",
              "    background-color: var(--disabled-bg-color);\n",
              "    fill: var(--disabled-fill-color);\n",
              "    box-shadow: none;\n",
              "  }\n",
              "\n",
              "  .colab-df-spinner {\n",
              "    border: 2px solid var(--fill-color);\n",
              "    border-color: transparent;\n",
              "    border-bottom-color: var(--fill-color);\n",
              "    animation:\n",
              "      spin 1s steps(1) infinite;\n",
              "  }\n",
              "\n",
              "  @keyframes spin {\n",
              "    0% {\n",
              "      border-color: transparent;\n",
              "      border-bottom-color: var(--fill-color);\n",
              "      border-left-color: var(--fill-color);\n",
              "    }\n",
              "    20% {\n",
              "      border-color: transparent;\n",
              "      border-left-color: var(--fill-color);\n",
              "      border-top-color: var(--fill-color);\n",
              "    }\n",
              "    30% {\n",
              "      border-color: transparent;\n",
              "      border-left-color: var(--fill-color);\n",
              "      border-top-color: var(--fill-color);\n",
              "      border-right-color: var(--fill-color);\n",
              "    }\n",
              "    40% {\n",
              "      border-color: transparent;\n",
              "      border-right-color: var(--fill-color);\n",
              "      border-top-color: var(--fill-color);\n",
              "    }\n",
              "    60% {\n",
              "      border-color: transparent;\n",
              "      border-right-color: var(--fill-color);\n",
              "    }\n",
              "    80% {\n",
              "      border-color: transparent;\n",
              "      border-right-color: var(--fill-color);\n",
              "      border-bottom-color: var(--fill-color);\n",
              "    }\n",
              "    90% {\n",
              "      border-color: transparent;\n",
              "      border-bottom-color: var(--fill-color);\n",
              "    }\n",
              "  }\n",
              "</style>\n",
              "\n",
              "  <script>\n",
              "    async function quickchart(key) {\n",
              "      const quickchartButtonEl =\n",
              "        document.querySelector('#' + key + ' button');\n",
              "      quickchartButtonEl.disabled = true;  // To prevent multiple clicks.\n",
              "      quickchartButtonEl.classList.add('colab-df-spinner');\n",
              "      try {\n",
              "        const charts = await google.colab.kernel.invokeFunction(\n",
              "            'suggestCharts', [key], {});\n",
              "      } catch (error) {\n",
              "        console.error('Error during call to suggestCharts:', error);\n",
              "      }\n",
              "      quickchartButtonEl.classList.remove('colab-df-spinner');\n",
              "      quickchartButtonEl.classList.add('colab-df-quickchart-complete');\n",
              "    }\n",
              "    (() => {\n",
              "      let quickchartButtonEl =\n",
              "        document.querySelector('#df-a5f09858-66bc-4065-9e2d-194ca9dbe67d button');\n",
              "      quickchartButtonEl.style.display =\n",
              "        google.colab.kernel.accessAllowed ? 'block' : 'none';\n",
              "    })();\n",
              "  </script>\n",
              "</div>\n",
              "\n",
              "    </div>\n",
              "  </div>\n"
            ],
            "application/vnd.google.colaboratory.intrinsic+json": {
              "type": "dataframe",
              "variable_name": "train_dataset"
            }
          },
          "metadata": {},
          "execution_count": 102
        }
      ],
      "source": [
        "train_dataset.head()"
      ]
    },
    {
      "cell_type": "code",
      "execution_count": null,
      "metadata": {
        "id": "qGfka2SNdTAg",
        "colab": {
          "base_uri": "https://localhost:8080/"
        },
        "outputId": "f77fd9e5-308c-4cd9-9865-2797bb02179c"
      },
      "outputs": [
        {
          "output_type": "execute_result",
          "data": {
            "text/plain": [
              "1897"
            ]
          },
          "metadata": {},
          "execution_count": 103
        }
      ],
      "source": [
        "train_dataset['model'].nunique()"
      ]
    },
    {
      "cell_type": "code",
      "execution_count": null,
      "metadata": {
        "id": "Ukdof7GmeThi"
      },
      "outputs": [],
      "source": [
        "top_10_model_pricing = train_dataset[[\"model\",\"price\"]].groupby(\"model\").mean().sort_values(\"price\",ascending = True).tail(10).index\n"
      ]
    },
    {
      "cell_type": "code",
      "execution_count": null,
      "metadata": {
        "id": "-1_Cogcnd_fI",
        "colab": {
          "base_uri": "https://localhost:8080/"
        },
        "outputId": "6d40ba19-54aa-4846-e3f7-75f60fc116f4"
      },
      "outputs": [
        {
          "output_type": "execute_result",
          "data": {
            "text/plain": [
              "Index(['911 R', 'Flying Spur V8', 'Huracan EVO Coupe', 'Rover LR4 Lux',\n",
              "       'Bentayga Speed', 'Martin DB7 Vantage Volante',\n",
              "       'Continental GT GT Speed', 'Phantom Drophead Coupe Drophead',\n",
              "       'Gallardo SE', 'Carrera GT Base'],\n",
              "      dtype='object', name='model')"
            ]
          },
          "metadata": {},
          "execution_count": 105
        }
      ],
      "source": [
        "top_10_model_pricing"
      ]
    },
    {
      "cell_type": "code",
      "execution_count": null,
      "metadata": {
        "id": "4_IkBVlFebb_"
      },
      "outputs": [],
      "source": [
        "top_10_model = train_dataset[\"model\"].value_counts(ascending=True).tail(10).index"
      ]
    },
    {
      "cell_type": "code",
      "execution_count": null,
      "metadata": {
        "id": "bjzlZCaBeimI",
        "colab": {
          "base_uri": "https://localhost:8080/"
        },
        "outputId": "c8218a39-e0f0-44c9-cf8e-c89bb347f5f8"
      },
      "outputs": [
        {
          "output_type": "execute_result",
          "data": {
            "text/plain": [
              "Index(['Corvette Base', '911 Carrera S', '1500 Laramie',\n",
              "       'E-Class E 350 4MATIC', 'F-150 Lariat', 'Mustang GT Premium', 'M4 Base',\n",
              "       'Camaro 2SS', 'M3 Base', 'F-150 XLT'],\n",
              "      dtype='object', name='model')"
            ]
          },
          "metadata": {},
          "execution_count": 107
        }
      ],
      "source": [
        "top_10_model"
      ]
    },
    {
      "cell_type": "code",
      "execution_count": null,
      "metadata": {
        "id": "N1IYbGmSejjp"
      },
      "outputs": [],
      "source": [
        "def prepare_model_value(x):\n",
        "    if(x in top_10_model_pricing or x in top_10_model):\n",
        "        return x\n",
        "    else:\n",
        "        return \"Other\""
      ]
    },
    {
      "cell_type": "code",
      "execution_count": null,
      "metadata": {
        "id": "B_hqxQ4fe3SR",
        "colab": {
          "base_uri": "https://localhost:8080/",
          "height": 272
        },
        "outputId": "eb4edac2-7e03-4d84-d649-9b84b7edbcec"
      },
      "outputs": [
        {
          "output_type": "execute_result",
          "data": {
            "text/plain": [
              "id\n",
              "0    Other\n",
              "1    Other\n",
              "2    Other\n",
              "3    Other\n",
              "4    Other\n",
              "Name: model_category, dtype: object"
            ],
            "text/html": [
              "<div>\n",
              "<style scoped>\n",
              "    .dataframe tbody tr th:only-of-type {\n",
              "        vertical-align: middle;\n",
              "    }\n",
              "\n",
              "    .dataframe tbody tr th {\n",
              "        vertical-align: top;\n",
              "    }\n",
              "\n",
              "    .dataframe thead th {\n",
              "        text-align: right;\n",
              "    }\n",
              "</style>\n",
              "<table border=\"1\" class=\"dataframe\">\n",
              "  <thead>\n",
              "    <tr style=\"text-align: right;\">\n",
              "      <th></th>\n",
              "      <th>model_category</th>\n",
              "    </tr>\n",
              "    <tr>\n",
              "      <th>id</th>\n",
              "      <th></th>\n",
              "    </tr>\n",
              "  </thead>\n",
              "  <tbody>\n",
              "    <tr>\n",
              "      <th>0</th>\n",
              "      <td>Other</td>\n",
              "    </tr>\n",
              "    <tr>\n",
              "      <th>1</th>\n",
              "      <td>Other</td>\n",
              "    </tr>\n",
              "    <tr>\n",
              "      <th>2</th>\n",
              "      <td>Other</td>\n",
              "    </tr>\n",
              "    <tr>\n",
              "      <th>3</th>\n",
              "      <td>Other</td>\n",
              "    </tr>\n",
              "    <tr>\n",
              "      <th>4</th>\n",
              "      <td>Other</td>\n",
              "    </tr>\n",
              "  </tbody>\n",
              "</table>\n",
              "</div><br><label><b>dtype:</b> object</label>"
            ]
          },
          "metadata": {},
          "execution_count": 109
        }
      ],
      "source": [
        "train_dataset[\"model_category\"] = train_dataset[\"model\"].apply(prepare_model_value)\n",
        "train_dataset[\"model_category\"].head()"
      ]
    },
    {
      "cell_type": "code",
      "execution_count": null,
      "metadata": {
        "id": "RviBJqxoe_Tb"
      },
      "outputs": [],
      "source": [
        "test_dataset[\"model_category\"] = test_dataset[\"model\"].apply(prepare_model_value)"
      ]
    },
    {
      "cell_type": "code",
      "execution_count": null,
      "metadata": {
        "id": "4hQFobErfMSt"
      },
      "outputs": [],
      "source": [
        "train_dataset.drop('model', axis=1, inplace=True)\n",
        "test_dataset.drop('model', axis=1, inplace=True)"
      ]
    },
    {
      "cell_type": "code",
      "execution_count": null,
      "metadata": {
        "id": "AMX-jVjzfQLW",
        "colab": {
          "base_uri": "https://localhost:8080/"
        },
        "outputId": "29de591f-9faf-4322-b84e-b2b2eab11650"
      },
      "outputs": [
        {
          "output_type": "execute_result",
          "data": {
            "text/plain": [
              "(188533, 14)"
            ]
          },
          "metadata": {},
          "execution_count": 112
        }
      ],
      "source": [
        "train_dataset.shape"
      ]
    },
    {
      "cell_type": "code",
      "execution_count": null,
      "metadata": {
        "id": "96tADqeEfS8V",
        "colab": {
          "base_uri": "https://localhost:8080/"
        },
        "outputId": "83b51468-6e0f-4e0a-d600-5529012a7ee8"
      },
      "outputs": [
        {
          "output_type": "execute_result",
          "data": {
            "text/plain": [
              "(125690, 13)"
            ]
          },
          "metadata": {},
          "execution_count": 113
        }
      ],
      "source": [
        "test_dataset.shape"
      ]
    },
    {
      "cell_type": "markdown",
      "metadata": {
        "id": "45PJz6UxgYF9"
      },
      "source": [
        "#### Handle Categorical Features"
      ]
    },
    {
      "cell_type": "code",
      "execution_count": null,
      "metadata": {
        "id": "lAXlc2gTgmfB"
      },
      "outputs": [],
      "source": [
        "categorical_columns = train_dataset.select_dtypes(include=['object']).columns"
      ]
    },
    {
      "cell_type": "code",
      "execution_count": null,
      "metadata": {
        "id": "nRSyzDCyfUuH"
      },
      "outputs": [],
      "source": [
        "from sklearn.preprocessing import LabelEncoder\n",
        "categorical_columns_encoded = [value+\"_encoded\" for value in categorical_columns]"
      ]
    },
    {
      "cell_type": "code",
      "execution_count": null,
      "metadata": {
        "id": "6OK03kfJgpNg"
      },
      "outputs": [],
      "source": [
        "label_encoder = LabelEncoder()\n",
        "\n",
        "# Process each categorical column\n",
        "for column in categorical_columns:\n",
        "    # Convert the column to string to handle mixed types\n",
        "    train_dataset[column] = train_dataset[column].astype(str)\n",
        "\n",
        "    # Apply Label Encoding\n",
        "    train_dataset[column + '_encoded'] = label_encoder.fit_transform(train_dataset[column])\n",
        "\n",
        "    # Convert the column to string to handle mixed types\n",
        "    test_dataset[column] = test_dataset[column].astype(str)\n",
        "\n",
        "    # Apply Label Encoding\n",
        "    test_dataset[column + '_encoded'] = label_encoder.fit_transform(test_dataset[column])"
      ]
    },
    {
      "cell_type": "code",
      "execution_count": null,
      "metadata": {
        "id": "NJBSpJHqg4NZ",
        "colab": {
          "base_uri": "https://localhost:8080/"
        },
        "outputId": "69f7e8f6-390c-4415-cb35-3f216b343cfa"
      },
      "outputs": [
        {
          "output_type": "execute_result",
          "data": {
            "text/plain": [
              "Index(['brand', 'model_year', 'milage', 'fuel_type', 'transmission', 'ext_col',\n",
              "       'int_col', 'accident', 'clean_title', 'price', 'cylinders', 'hp',\n",
              "       'engine_capacity', 'model_category', 'brand_encoded',\n",
              "       'fuel_type_encoded', 'transmission_encoded', 'ext_col_encoded',\n",
              "       'int_col_encoded', 'clean_title_encoded', 'model_category_encoded'],\n",
              "      dtype='object')"
            ]
          },
          "metadata": {},
          "execution_count": 117
        }
      ],
      "source": [
        "train_dataset.columns"
      ]
    },
    {
      "cell_type": "code",
      "execution_count": null,
      "metadata": {
        "id": "HMTM--k1g6Ab"
      },
      "outputs": [],
      "source": [
        "for column in categorical_columns:\n",
        "  train_dataset.drop(column, axis=1, inplace=True)\n",
        "  test_dataset.drop(column, axis=1, inplace=True)"
      ]
    },
    {
      "cell_type": "code",
      "execution_count": null,
      "metadata": {
        "id": "75SLXiVUhFRl",
        "colab": {
          "base_uri": "https://localhost:8080/"
        },
        "outputId": "b1427947-bd1f-4346-ad4c-58c97abe66b6"
      },
      "outputs": [
        {
          "output_type": "execute_result",
          "data": {
            "text/plain": [
              "(188533, 14)"
            ]
          },
          "metadata": {},
          "execution_count": 119
        }
      ],
      "source": [
        "train_dataset.shape"
      ]
    },
    {
      "cell_type": "code",
      "execution_count": null,
      "metadata": {
        "id": "QSFvXxvahGnC",
        "colab": {
          "base_uri": "https://localhost:8080/"
        },
        "outputId": "7c1cec62-fd1c-4b17-fdd7-3dc829de56c5"
      },
      "outputs": [
        {
          "output_type": "execute_result",
          "data": {
            "text/plain": [
              "(125690, 13)"
            ]
          },
          "metadata": {},
          "execution_count": 120
        }
      ],
      "source": [
        "test_dataset.shape"
      ]
    },
    {
      "cell_type": "markdown",
      "metadata": {
        "id": "aoZ_mWRmhKec"
      },
      "source": [
        "## Step-5: Modeling"
      ]
    },
    {
      "cell_type": "code",
      "execution_count": null,
      "metadata": {
        "id": "Iqkql843hKFK",
        "colab": {
          "base_uri": "https://localhost:8080/",
          "height": 258
        },
        "outputId": "0f4ef0a6-a714-4c79-b755-62401475aa13"
      },
      "outputs": [
        {
          "output_type": "execute_result",
          "data": {
            "text/plain": [
              "    model_year  milage  accident  price  cylinders  hp  engine_capacity  \\\n",
              "id                                                                        \n",
              "0         2007  213000         0   4200          4   4              1.6   \n",
              "1         2002  143250         1   4999          8   8              3.9   \n",
              "2         2002  136731         0  13900          8   8              5.3   \n",
              "3         2017   19500         0  45000          8   8              5.0   \n",
              "4         2021    7388         0  97500          4   4              2.0   \n",
              "\n",
              "    brand_encoded  fuel_type_encoded  transmission_encoded  ext_col_encoded  \\\n",
              "id                                                                            \n",
              "0              15                  2                     0                7   \n",
              "1              15                  2                     0                9   \n",
              "2               5                  1                     0                1   \n",
              "3              15                  2                     4                0   \n",
              "4              14                  2                     0                0   \n",
              "\n",
              "    int_col_encoded  clean_title_encoded  model_category_encoded  \n",
              "id                                                                \n",
              "0                 5                    0                      18  \n",
              "1                 0                    0                      18  \n",
              "2                 5                    0                      18  \n",
              "3                 1                    0                      18  \n",
              "4                 0                    0                      18  "
            ],
            "text/html": [
              "\n",
              "  <div id=\"df-d2c08178-7737-4268-ba88-59f1758c2a49\" class=\"colab-df-container\">\n",
              "    <div>\n",
              "<style scoped>\n",
              "    .dataframe tbody tr th:only-of-type {\n",
              "        vertical-align: middle;\n",
              "    }\n",
              "\n",
              "    .dataframe tbody tr th {\n",
              "        vertical-align: top;\n",
              "    }\n",
              "\n",
              "    .dataframe thead th {\n",
              "        text-align: right;\n",
              "    }\n",
              "</style>\n",
              "<table border=\"1\" class=\"dataframe\">\n",
              "  <thead>\n",
              "    <tr style=\"text-align: right;\">\n",
              "      <th></th>\n",
              "      <th>model_year</th>\n",
              "      <th>milage</th>\n",
              "      <th>accident</th>\n",
              "      <th>price</th>\n",
              "      <th>cylinders</th>\n",
              "      <th>hp</th>\n",
              "      <th>engine_capacity</th>\n",
              "      <th>brand_encoded</th>\n",
              "      <th>fuel_type_encoded</th>\n",
              "      <th>transmission_encoded</th>\n",
              "      <th>ext_col_encoded</th>\n",
              "      <th>int_col_encoded</th>\n",
              "      <th>clean_title_encoded</th>\n",
              "      <th>model_category_encoded</th>\n",
              "    </tr>\n",
              "    <tr>\n",
              "      <th>id</th>\n",
              "      <th></th>\n",
              "      <th></th>\n",
              "      <th></th>\n",
              "      <th></th>\n",
              "      <th></th>\n",
              "      <th></th>\n",
              "      <th></th>\n",
              "      <th></th>\n",
              "      <th></th>\n",
              "      <th></th>\n",
              "      <th></th>\n",
              "      <th></th>\n",
              "      <th></th>\n",
              "      <th></th>\n",
              "    </tr>\n",
              "  </thead>\n",
              "  <tbody>\n",
              "    <tr>\n",
              "      <th>0</th>\n",
              "      <td>2007</td>\n",
              "      <td>213000</td>\n",
              "      <td>0</td>\n",
              "      <td>4200</td>\n",
              "      <td>4</td>\n",
              "      <td>4</td>\n",
              "      <td>1.6</td>\n",
              "      <td>15</td>\n",
              "      <td>2</td>\n",
              "      <td>0</td>\n",
              "      <td>7</td>\n",
              "      <td>5</td>\n",
              "      <td>0</td>\n",
              "      <td>18</td>\n",
              "    </tr>\n",
              "    <tr>\n",
              "      <th>1</th>\n",
              "      <td>2002</td>\n",
              "      <td>143250</td>\n",
              "      <td>1</td>\n",
              "      <td>4999</td>\n",
              "      <td>8</td>\n",
              "      <td>8</td>\n",
              "      <td>3.9</td>\n",
              "      <td>15</td>\n",
              "      <td>2</td>\n",
              "      <td>0</td>\n",
              "      <td>9</td>\n",
              "      <td>0</td>\n",
              "      <td>0</td>\n",
              "      <td>18</td>\n",
              "    </tr>\n",
              "    <tr>\n",
              "      <th>2</th>\n",
              "      <td>2002</td>\n",
              "      <td>136731</td>\n",
              "      <td>0</td>\n",
              "      <td>13900</td>\n",
              "      <td>8</td>\n",
              "      <td>8</td>\n",
              "      <td>5.3</td>\n",
              "      <td>5</td>\n",
              "      <td>1</td>\n",
              "      <td>0</td>\n",
              "      <td>1</td>\n",
              "      <td>5</td>\n",
              "      <td>0</td>\n",
              "      <td>18</td>\n",
              "    </tr>\n",
              "    <tr>\n",
              "      <th>3</th>\n",
              "      <td>2017</td>\n",
              "      <td>19500</td>\n",
              "      <td>0</td>\n",
              "      <td>45000</td>\n",
              "      <td>8</td>\n",
              "      <td>8</td>\n",
              "      <td>5.0</td>\n",
              "      <td>15</td>\n",
              "      <td>2</td>\n",
              "      <td>4</td>\n",
              "      <td>0</td>\n",
              "      <td>1</td>\n",
              "      <td>0</td>\n",
              "      <td>18</td>\n",
              "    </tr>\n",
              "    <tr>\n",
              "      <th>4</th>\n",
              "      <td>2021</td>\n",
              "      <td>7388</td>\n",
              "      <td>0</td>\n",
              "      <td>97500</td>\n",
              "      <td>4</td>\n",
              "      <td>4</td>\n",
              "      <td>2.0</td>\n",
              "      <td>14</td>\n",
              "      <td>2</td>\n",
              "      <td>0</td>\n",
              "      <td>0</td>\n",
              "      <td>0</td>\n",
              "      <td>0</td>\n",
              "      <td>18</td>\n",
              "    </tr>\n",
              "  </tbody>\n",
              "</table>\n",
              "</div>\n",
              "    <div class=\"colab-df-buttons\">\n",
              "\n",
              "  <div class=\"colab-df-container\">\n",
              "    <button class=\"colab-df-convert\" onclick=\"convertToInteractive('df-d2c08178-7737-4268-ba88-59f1758c2a49')\"\n",
              "            title=\"Convert this dataframe to an interactive table.\"\n",
              "            style=\"display:none;\">\n",
              "\n",
              "  <svg xmlns=\"http://www.w3.org/2000/svg\" height=\"24px\" viewBox=\"0 -960 960 960\">\n",
              "    <path d=\"M120-120v-720h720v720H120Zm60-500h600v-160H180v160Zm220 220h160v-160H400v160Zm0 220h160v-160H400v160ZM180-400h160v-160H180v160Zm440 0h160v-160H620v160ZM180-180h160v-160H180v160Zm440 0h160v-160H620v160Z\"/>\n",
              "  </svg>\n",
              "    </button>\n",
              "\n",
              "  <style>\n",
              "    .colab-df-container {\n",
              "      display:flex;\n",
              "      gap: 12px;\n",
              "    }\n",
              "\n",
              "    .colab-df-convert {\n",
              "      background-color: #E8F0FE;\n",
              "      border: none;\n",
              "      border-radius: 50%;\n",
              "      cursor: pointer;\n",
              "      display: none;\n",
              "      fill: #1967D2;\n",
              "      height: 32px;\n",
              "      padding: 0 0 0 0;\n",
              "      width: 32px;\n",
              "    }\n",
              "\n",
              "    .colab-df-convert:hover {\n",
              "      background-color: #E2EBFA;\n",
              "      box-shadow: 0px 1px 2px rgba(60, 64, 67, 0.3), 0px 1px 3px 1px rgba(60, 64, 67, 0.15);\n",
              "      fill: #174EA6;\n",
              "    }\n",
              "\n",
              "    .colab-df-buttons div {\n",
              "      margin-bottom: 4px;\n",
              "    }\n",
              "\n",
              "    [theme=dark] .colab-df-convert {\n",
              "      background-color: #3B4455;\n",
              "      fill: #D2E3FC;\n",
              "    }\n",
              "\n",
              "    [theme=dark] .colab-df-convert:hover {\n",
              "      background-color: #434B5C;\n",
              "      box-shadow: 0px 1px 3px 1px rgba(0, 0, 0, 0.15);\n",
              "      filter: drop-shadow(0px 1px 2px rgba(0, 0, 0, 0.3));\n",
              "      fill: #FFFFFF;\n",
              "    }\n",
              "  </style>\n",
              "\n",
              "    <script>\n",
              "      const buttonEl =\n",
              "        document.querySelector('#df-d2c08178-7737-4268-ba88-59f1758c2a49 button.colab-df-convert');\n",
              "      buttonEl.style.display =\n",
              "        google.colab.kernel.accessAllowed ? 'block' : 'none';\n",
              "\n",
              "      async function convertToInteractive(key) {\n",
              "        const element = document.querySelector('#df-d2c08178-7737-4268-ba88-59f1758c2a49');\n",
              "        const dataTable =\n",
              "          await google.colab.kernel.invokeFunction('convertToInteractive',\n",
              "                                                    [key], {});\n",
              "        if (!dataTable) return;\n",
              "\n",
              "        const docLinkHtml = 'Like what you see? Visit the ' +\n",
              "          '<a target=\"_blank\" href=https://colab.research.google.com/notebooks/data_table.ipynb>data table notebook</a>'\n",
              "          + ' to learn more about interactive tables.';\n",
              "        element.innerHTML = '';\n",
              "        dataTable['output_type'] = 'display_data';\n",
              "        await google.colab.output.renderOutput(dataTable, element);\n",
              "        const docLink = document.createElement('div');\n",
              "        docLink.innerHTML = docLinkHtml;\n",
              "        element.appendChild(docLink);\n",
              "      }\n",
              "    </script>\n",
              "  </div>\n",
              "\n",
              "\n",
              "<div id=\"df-81e1d03c-57fd-4734-87e4-cdb3d1e6d326\">\n",
              "  <button class=\"colab-df-quickchart\" onclick=\"quickchart('df-81e1d03c-57fd-4734-87e4-cdb3d1e6d326')\"\n",
              "            title=\"Suggest charts\"\n",
              "            style=\"display:none;\">\n",
              "\n",
              "<svg xmlns=\"http://www.w3.org/2000/svg\" height=\"24px\"viewBox=\"0 0 24 24\"\n",
              "     width=\"24px\">\n",
              "    <g>\n",
              "        <path d=\"M19 3H5c-1.1 0-2 .9-2 2v14c0 1.1.9 2 2 2h14c1.1 0 2-.9 2-2V5c0-1.1-.9-2-2-2zM9 17H7v-7h2v7zm4 0h-2V7h2v10zm4 0h-2v-4h2v4z\"/>\n",
              "    </g>\n",
              "</svg>\n",
              "  </button>\n",
              "\n",
              "<style>\n",
              "  .colab-df-quickchart {\n",
              "      --bg-color: #E8F0FE;\n",
              "      --fill-color: #1967D2;\n",
              "      --hover-bg-color: #E2EBFA;\n",
              "      --hover-fill-color: #174EA6;\n",
              "      --disabled-fill-color: #AAA;\n",
              "      --disabled-bg-color: #DDD;\n",
              "  }\n",
              "\n",
              "  [theme=dark] .colab-df-quickchart {\n",
              "      --bg-color: #3B4455;\n",
              "      --fill-color: #D2E3FC;\n",
              "      --hover-bg-color: #434B5C;\n",
              "      --hover-fill-color: #FFFFFF;\n",
              "      --disabled-bg-color: #3B4455;\n",
              "      --disabled-fill-color: #666;\n",
              "  }\n",
              "\n",
              "  .colab-df-quickchart {\n",
              "    background-color: var(--bg-color);\n",
              "    border: none;\n",
              "    border-radius: 50%;\n",
              "    cursor: pointer;\n",
              "    display: none;\n",
              "    fill: var(--fill-color);\n",
              "    height: 32px;\n",
              "    padding: 0;\n",
              "    width: 32px;\n",
              "  }\n",
              "\n",
              "  .colab-df-quickchart:hover {\n",
              "    background-color: var(--hover-bg-color);\n",
              "    box-shadow: 0 1px 2px rgba(60, 64, 67, 0.3), 0 1px 3px 1px rgba(60, 64, 67, 0.15);\n",
              "    fill: var(--button-hover-fill-color);\n",
              "  }\n",
              "\n",
              "  .colab-df-quickchart-complete:disabled,\n",
              "  .colab-df-quickchart-complete:disabled:hover {\n",
              "    background-color: var(--disabled-bg-color);\n",
              "    fill: var(--disabled-fill-color);\n",
              "    box-shadow: none;\n",
              "  }\n",
              "\n",
              "  .colab-df-spinner {\n",
              "    border: 2px solid var(--fill-color);\n",
              "    border-color: transparent;\n",
              "    border-bottom-color: var(--fill-color);\n",
              "    animation:\n",
              "      spin 1s steps(1) infinite;\n",
              "  }\n",
              "\n",
              "  @keyframes spin {\n",
              "    0% {\n",
              "      border-color: transparent;\n",
              "      border-bottom-color: var(--fill-color);\n",
              "      border-left-color: var(--fill-color);\n",
              "    }\n",
              "    20% {\n",
              "      border-color: transparent;\n",
              "      border-left-color: var(--fill-color);\n",
              "      border-top-color: var(--fill-color);\n",
              "    }\n",
              "    30% {\n",
              "      border-color: transparent;\n",
              "      border-left-color: var(--fill-color);\n",
              "      border-top-color: var(--fill-color);\n",
              "      border-right-color: var(--fill-color);\n",
              "    }\n",
              "    40% {\n",
              "      border-color: transparent;\n",
              "      border-right-color: var(--fill-color);\n",
              "      border-top-color: var(--fill-color);\n",
              "    }\n",
              "    60% {\n",
              "      border-color: transparent;\n",
              "      border-right-color: var(--fill-color);\n",
              "    }\n",
              "    80% {\n",
              "      border-color: transparent;\n",
              "      border-right-color: var(--fill-color);\n",
              "      border-bottom-color: var(--fill-color);\n",
              "    }\n",
              "    90% {\n",
              "      border-color: transparent;\n",
              "      border-bottom-color: var(--fill-color);\n",
              "    }\n",
              "  }\n",
              "</style>\n",
              "\n",
              "  <script>\n",
              "    async function quickchart(key) {\n",
              "      const quickchartButtonEl =\n",
              "        document.querySelector('#' + key + ' button');\n",
              "      quickchartButtonEl.disabled = true;  // To prevent multiple clicks.\n",
              "      quickchartButtonEl.classList.add('colab-df-spinner');\n",
              "      try {\n",
              "        const charts = await google.colab.kernel.invokeFunction(\n",
              "            'suggestCharts', [key], {});\n",
              "      } catch (error) {\n",
              "        console.error('Error during call to suggestCharts:', error);\n",
              "      }\n",
              "      quickchartButtonEl.classList.remove('colab-df-spinner');\n",
              "      quickchartButtonEl.classList.add('colab-df-quickchart-complete');\n",
              "    }\n",
              "    (() => {\n",
              "      let quickchartButtonEl =\n",
              "        document.querySelector('#df-81e1d03c-57fd-4734-87e4-cdb3d1e6d326 button');\n",
              "      quickchartButtonEl.style.display =\n",
              "        google.colab.kernel.accessAllowed ? 'block' : 'none';\n",
              "    })();\n",
              "  </script>\n",
              "</div>\n",
              "\n",
              "    </div>\n",
              "  </div>\n"
            ],
            "application/vnd.google.colaboratory.intrinsic+json": {
              "type": "dataframe",
              "variable_name": "train_dataset"
            }
          },
          "metadata": {},
          "execution_count": 121
        }
      ],
      "source": [
        "train_dataset.head()"
      ]
    },
    {
      "cell_type": "code",
      "execution_count": null,
      "metadata": {
        "id": "4D31Q3JghIPx"
      },
      "outputs": [],
      "source": [
        "y = train_dataset['price']\n",
        "X = train_dataset.drop('price', axis=1)"
      ]
    },
    {
      "cell_type": "code",
      "execution_count": null,
      "metadata": {
        "id": "qmZDdVARESXW"
      },
      "outputs": [],
      "source": [
        "from sklearn.model_selection import train_test_split"
      ]
    },
    {
      "cell_type": "code",
      "execution_count": null,
      "metadata": {
        "id": "ujMcwUZJEfyk"
      },
      "outputs": [],
      "source": [
        "X_train, X_test, y_train, y_test = train_test_split(\n",
        "    X, y, test_size=0.2, random_state=42)"
      ]
    },
    {
      "cell_type": "code",
      "execution_count": null,
      "metadata": {
        "id": "lt1iVggFEjm8",
        "colab": {
          "base_uri": "https://localhost:8080/"
        },
        "outputId": "9e1b6c45-2aaf-4c9f-ca8b-675af94c7333"
      },
      "outputs": [
        {
          "output_type": "execute_result",
          "data": {
            "text/plain": [
              "(150826, 13)"
            ]
          },
          "metadata": {},
          "execution_count": 125
        }
      ],
      "source": [
        "X_train.shape"
      ]
    },
    {
      "cell_type": "code",
      "execution_count": null,
      "metadata": {
        "id": "Zl812r5TElGu",
        "colab": {
          "base_uri": "https://localhost:8080/"
        },
        "outputId": "7344b5fd-bb95-42d8-8032-dde44a9c0356"
      },
      "outputs": [
        {
          "output_type": "execute_result",
          "data": {
            "text/plain": [
              "(150826,)"
            ]
          },
          "metadata": {},
          "execution_count": 126
        }
      ],
      "source": [
        "y_train.shape"
      ]
    },
    {
      "cell_type": "code",
      "execution_count": null,
      "metadata": {
        "id": "4QADiPqCEmmg",
        "colab": {
          "base_uri": "https://localhost:8080/"
        },
        "outputId": "1a7ea61d-8240-45a5-f3fe-34dc2cf7298d"
      },
      "outputs": [
        {
          "output_type": "execute_result",
          "data": {
            "text/plain": [
              "(37707, 13)"
            ]
          },
          "metadata": {},
          "execution_count": 127
        }
      ],
      "source": [
        "X_test.shape"
      ]
    },
    {
      "cell_type": "code",
      "execution_count": null,
      "metadata": {
        "id": "sJbMh2QNEoUZ",
        "colab": {
          "base_uri": "https://localhost:8080/"
        },
        "outputId": "36b75d58-cb12-4047-ec83-bd9ed0eb4da3"
      },
      "outputs": [
        {
          "output_type": "execute_result",
          "data": {
            "text/plain": [
              "(37707,)"
            ]
          },
          "metadata": {},
          "execution_count": 128
        }
      ],
      "source": [
        "y_test.shape"
      ]
    },
    {
      "cell_type": "code",
      "execution_count": null,
      "metadata": {
        "id": "zW2jJn3xHi3o"
      },
      "outputs": [],
      "source": [
        "X_train = np.array(X_train)"
      ]
    },
    {
      "cell_type": "code",
      "execution_count": null,
      "metadata": {
        "id": "RmtpT3xrHosm"
      },
      "outputs": [],
      "source": [
        "y_train = np.array(y_train)"
      ]
    },
    {
      "cell_type": "code",
      "execution_count": null,
      "metadata": {
        "id": "aZm53DFJHpr-"
      },
      "outputs": [],
      "source": [
        "X_test = np.array(X_test)"
      ]
    },
    {
      "cell_type": "code",
      "execution_count": null,
      "metadata": {
        "id": "DsjZbBGHHpmc"
      },
      "outputs": [],
      "source": [
        "y_test = np.array(y_test)"
      ]
    },
    {
      "cell_type": "code",
      "execution_count": null,
      "metadata": {
        "id": "UMhQ87GAIl58"
      },
      "outputs": [],
      "source": [
        "X_train = np.c_[X_train, X_train**2, X_train**3, X_train**4, X_train**5]"
      ]
    },
    {
      "cell_type": "code",
      "execution_count": null,
      "metadata": {
        "id": "y4W2q1bEIlxW"
      },
      "outputs": [],
      "source": [
        "X_test = np.c_[X_test, X_test**2, X_test**3, X_test**4, X_test**5]"
      ]
    },
    {
      "cell_type": "markdown",
      "metadata": {
        "id": "cqF8jw0vHzK8"
      },
      "source": [
        "##### Feature Scaling"
      ]
    },
    {
      "cell_type": "code",
      "execution_count": null,
      "metadata": {
        "id": "6kEUEwujHyy1"
      },
      "outputs": [],
      "source": [
        "from sklearn.preprocessing import RobustScaler"
      ]
    },
    {
      "cell_type": "code",
      "execution_count": null,
      "metadata": {
        "id": "fHbPPwCDIGdn"
      },
      "outputs": [],
      "source": [
        "scaler = RobustScaler()"
      ]
    },
    {
      "cell_type": "code",
      "execution_count": null,
      "metadata": {
        "id": "iJC-bO_oIKOk"
      },
      "outputs": [],
      "source": [
        "# Fit and transform the data\n",
        "X_train_scaled = scaler.fit_transform(X_train)"
      ]
    },
    {
      "cell_type": "code",
      "execution_count": null,
      "metadata": {
        "id": "ecH_ftA7IGXY"
      },
      "outputs": [],
      "source": [
        "X_test_scaled = scaler.fit_transform(X_test)"
      ]
    },
    {
      "cell_type": "code",
      "execution_count": null,
      "metadata": {
        "id": "x61v96FZGdt2"
      },
      "outputs": [],
      "source": [
        "import math, copy"
      ]
    },
    {
      "cell_type": "code",
      "execution_count": null,
      "metadata": {
        "id": "LhNjvmDwEpJT"
      },
      "outputs": [],
      "source": [
        "class LinearRegression:\n",
        "\n",
        "  def __init__(self, alpha = 1e-5, iterations = 10000):\n",
        "      self.alpha = alpha\n",
        "      self.iterations = iterations\n",
        "      self.theta = None\n",
        "      self.b = None\n",
        "\n",
        "  def predict(self, data):\n",
        "\n",
        "    \"\"\"\n",
        "    data: the given dataset shape = (m , n)\n",
        "    theta: weights shape = (n, 1)\n",
        "    b: bias shape = (1, )\n",
        "\n",
        "    return: yhat with shape = (m, 1)\n",
        "    \"\"\"\n",
        "\n",
        "    return np.dot(data, self.theta) + self.b\n",
        "\n",
        "\n",
        "  def compute_cost(self, data, label):\n",
        "    \"\"\"\n",
        "      self.theta: (n, 1)\n",
        "      self.b: (1)\n",
        "      data: (m, n) -> n is the number of features\n",
        "      label: (m,1)\n",
        "\n",
        "      output = cost function = J(theta, b) = (1/2m) sum(power(yhat - y, 2))\n",
        "    \"\"\"\n",
        "    m = data.shape[0]\n",
        "    total_cost = 0.0\n",
        "    for i in range(m):\n",
        "      yhat_i = np.dot(data[i], self.theta) + self.b\n",
        "      total_cost += (yhat_i - label[i])**2\n",
        "\n",
        "    total_cost = total_cost/(2*m)\n",
        "    return total_cost\n",
        "\n",
        "  def compute_gradient(self, data, label):\n",
        "    \"\"\"\n",
        "    data: the given dataset\n",
        "    label: the label\n",
        "    self.theta: weights\n",
        "    self.b: bias\n",
        "\n",
        "    \"\"\"\n",
        "    m,n = data.shape\n",
        "    dj_dw = np.zeros((n,))\n",
        "    dj_db = 0.\n",
        "\n",
        "    for i in range(m):\n",
        "        err = (np.dot(data[i], self.theta) + self.b) - label[i]\n",
        "        for j in range(n):\n",
        "            dj_dw[j] = dj_dw[j] + err * data[i, j]\n",
        "        dj_db = dj_db + err\n",
        "    dj_dw = dj_dw / m\n",
        "    dj_db = dj_db / m\n",
        "\n",
        "    return dj_db, dj_dw\n",
        "\n",
        "  def gradient_descent(self, X, y):\n",
        "\n",
        "    \"\"\"\n",
        "    Performs batch gradient descent to learn theta. Updates theta by taking\n",
        "    num_iters gradient steps with learning rate alpha\n",
        "\n",
        "    Args:\n",
        "      X (ndarray (m,n))   : Data, m examples with n features\n",
        "      y (ndarray (m,))    : target values\n",
        "      w_in (ndarray (n,)) : initial model parameters\n",
        "      b_in (scalar)       : initial model parameter\n",
        "      cost_function       : function to compute cost\n",
        "      gradient_function   : function to compute the gradient\n",
        "      alpha (float)       : Learning rate\n",
        "      num_iters (int)     : number of iterations to run gradient descent\n",
        "\n",
        "    Returns:\n",
        "      w (ndarray (n,)) : Updated values of parameters\n",
        "      b (scalar)       : Updated value of parameter\n",
        "      \"\"\"\n",
        "\n",
        "    # An array to store cost J and w's at each iteration primarily for graphing later\n",
        "    J_history = []\n",
        "    n_samples, n_features = X.shape\n",
        "    self.theta = np.zeros(n_features)  #avoid modifying global w within function\n",
        "    self.b = 0.\n",
        "\n",
        "    for i in range(self.iterations):\n",
        "\n",
        "        # Calculate the gradient and update the parameters\n",
        "        dj_db,dj_dw = self.compute_gradient(X, y)   ##None\n",
        "\n",
        "        # Update Parameters using w, b, alpha and gradient\n",
        "        self.theta = self.theta - self.alpha * dj_dw               ##None\n",
        "        self.b = self.b - self.alpha * dj_db               ##None\n",
        "\n",
        "        # Save cost J at each iteration\n",
        "        if i<100000:      # prevent resource exhaustion\n",
        "            J_history.append( self.compute_cost(X, y))\n",
        "        #print(self.compute_cost(X, y))\n",
        "        # Print cost every at intervals 10 times or as many iterations if < 10\n",
        "        if i% math.ceil(self.iterations / 10) == 0:\n",
        "            print(f\"Iteration {i:4d}: Cost {J_history[-1]:8.2f}   \")\n",
        "\n",
        "    return J_history #return final w,b and J history for graphing\n",
        "\n",
        "\n"
      ]
    },
    {
      "cell_type": "code",
      "execution_count": null,
      "metadata": {
        "id": "YC4ARX8RJkXm"
      },
      "outputs": [],
      "source": [
        "#reg = LinearRegression()"
      ]
    },
    {
      "cell_type": "code",
      "execution_count": null,
      "metadata": {
        "id": "_bhIg7LwKVCr"
      },
      "outputs": [],
      "source": [
        "#J_history = reg.gradient_descent(X_train_scaled, y_train)"
      ]
    },
    {
      "cell_type": "code",
      "source": [
        "import xgboost as xg"
      ],
      "metadata": {
        "id": "ihKUUPedS2yY"
      },
      "execution_count": null,
      "outputs": []
    },
    {
      "cell_type": "code",
      "source": [
        "from sklearn.metrics import mean_squared_error as MSE"
      ],
      "metadata": {
        "id": "ZodxGpF-S2sh"
      },
      "execution_count": null,
      "outputs": []
    },
    {
      "cell_type": "code",
      "source": [
        "xgb_r = xg.XGBRegressor(objective ='reg:linear',\n",
        "                  n_estimators = 10, seed = 123)"
      ],
      "metadata": {
        "id": "YM9tLl4QS2kp"
      },
      "execution_count": null,
      "outputs": []
    },
    {
      "cell_type": "code",
      "source": [
        "xgb_r.fit(X_train_scaled, y_train)"
      ],
      "metadata": {
        "colab": {
          "base_uri": "https://localhost:8080/",
          "height": 254
        },
        "id": "esNkLHAxS_b1",
        "outputId": "0a641eba-f38c-4933-c384-b6ad4d12db5d"
      },
      "execution_count": null,
      "outputs": [
        {
          "output_type": "execute_result",
          "data": {
            "text/plain": [
              "XGBRegressor(base_score=None, booster=None, callbacks=None,\n",
              "             colsample_bylevel=None, colsample_bynode=None,\n",
              "             colsample_bytree=None, device=None, early_stopping_rounds=None,\n",
              "             enable_categorical=False, eval_metric=None, feature_types=None,\n",
              "             gamma=None, grow_policy=None, importance_type=None,\n",
              "             interaction_constraints=None, learning_rate=None, max_bin=None,\n",
              "             max_cat_threshold=None, max_cat_to_onehot=None,\n",
              "             max_delta_step=None, max_depth=None, max_leaves=None,\n",
              "             min_child_weight=None, missing=nan, monotone_constraints=None,\n",
              "             multi_strategy=None, n_estimators=10, n_jobs=None,\n",
              "             num_parallel_tree=None, objective='reg:linear', ...)"
            ],
            "text/html": [
              "<style>#sk-container-id-1 {\n",
              "  /* Definition of color scheme common for light and dark mode */\n",
              "  --sklearn-color-text: black;\n",
              "  --sklearn-color-line: gray;\n",
              "  /* Definition of color scheme for unfitted estimators */\n",
              "  --sklearn-color-unfitted-level-0: #fff5e6;\n",
              "  --sklearn-color-unfitted-level-1: #f6e4d2;\n",
              "  --sklearn-color-unfitted-level-2: #ffe0b3;\n",
              "  --sklearn-color-unfitted-level-3: chocolate;\n",
              "  /* Definition of color scheme for fitted estimators */\n",
              "  --sklearn-color-fitted-level-0: #f0f8ff;\n",
              "  --sklearn-color-fitted-level-1: #d4ebff;\n",
              "  --sklearn-color-fitted-level-2: #b3dbfd;\n",
              "  --sklearn-color-fitted-level-3: cornflowerblue;\n",
              "\n",
              "  /* Specific color for light theme */\n",
              "  --sklearn-color-text-on-default-background: var(--sg-text-color, var(--theme-code-foreground, var(--jp-content-font-color1, black)));\n",
              "  --sklearn-color-background: var(--sg-background-color, var(--theme-background, var(--jp-layout-color0, white)));\n",
              "  --sklearn-color-border-box: var(--sg-text-color, var(--theme-code-foreground, var(--jp-content-font-color1, black)));\n",
              "  --sklearn-color-icon: #696969;\n",
              "\n",
              "  @media (prefers-color-scheme: dark) {\n",
              "    /* Redefinition of color scheme for dark theme */\n",
              "    --sklearn-color-text-on-default-background: var(--sg-text-color, var(--theme-code-foreground, var(--jp-content-font-color1, white)));\n",
              "    --sklearn-color-background: var(--sg-background-color, var(--theme-background, var(--jp-layout-color0, #111)));\n",
              "    --sklearn-color-border-box: var(--sg-text-color, var(--theme-code-foreground, var(--jp-content-font-color1, white)));\n",
              "    --sklearn-color-icon: #878787;\n",
              "  }\n",
              "}\n",
              "\n",
              "#sk-container-id-1 {\n",
              "  color: var(--sklearn-color-text);\n",
              "}\n",
              "\n",
              "#sk-container-id-1 pre {\n",
              "  padding: 0;\n",
              "}\n",
              "\n",
              "#sk-container-id-1 input.sk-hidden--visually {\n",
              "  border: 0;\n",
              "  clip: rect(1px 1px 1px 1px);\n",
              "  clip: rect(1px, 1px, 1px, 1px);\n",
              "  height: 1px;\n",
              "  margin: -1px;\n",
              "  overflow: hidden;\n",
              "  padding: 0;\n",
              "  position: absolute;\n",
              "  width: 1px;\n",
              "}\n",
              "\n",
              "#sk-container-id-1 div.sk-dashed-wrapped {\n",
              "  border: 1px dashed var(--sklearn-color-line);\n",
              "  margin: 0 0.4em 0.5em 0.4em;\n",
              "  box-sizing: border-box;\n",
              "  padding-bottom: 0.4em;\n",
              "  background-color: var(--sklearn-color-background);\n",
              "}\n",
              "\n",
              "#sk-container-id-1 div.sk-container {\n",
              "  /* jupyter's `normalize.less` sets `[hidden] { display: none; }`\n",
              "     but bootstrap.min.css set `[hidden] { display: none !important; }`\n",
              "     so we also need the `!important` here to be able to override the\n",
              "     default hidden behavior on the sphinx rendered scikit-learn.org.\n",
              "     See: https://github.com/scikit-learn/scikit-learn/issues/21755 */\n",
              "  display: inline-block !important;\n",
              "  position: relative;\n",
              "}\n",
              "\n",
              "#sk-container-id-1 div.sk-text-repr-fallback {\n",
              "  display: none;\n",
              "}\n",
              "\n",
              "div.sk-parallel-item,\n",
              "div.sk-serial,\n",
              "div.sk-item {\n",
              "  /* draw centered vertical line to link estimators */\n",
              "  background-image: linear-gradient(var(--sklearn-color-text-on-default-background), var(--sklearn-color-text-on-default-background));\n",
              "  background-size: 2px 100%;\n",
              "  background-repeat: no-repeat;\n",
              "  background-position: center center;\n",
              "}\n",
              "\n",
              "/* Parallel-specific style estimator block */\n",
              "\n",
              "#sk-container-id-1 div.sk-parallel-item::after {\n",
              "  content: \"\";\n",
              "  width: 100%;\n",
              "  border-bottom: 2px solid var(--sklearn-color-text-on-default-background);\n",
              "  flex-grow: 1;\n",
              "}\n",
              "\n",
              "#sk-container-id-1 div.sk-parallel {\n",
              "  display: flex;\n",
              "  align-items: stretch;\n",
              "  justify-content: center;\n",
              "  background-color: var(--sklearn-color-background);\n",
              "  position: relative;\n",
              "}\n",
              "\n",
              "#sk-container-id-1 div.sk-parallel-item {\n",
              "  display: flex;\n",
              "  flex-direction: column;\n",
              "}\n",
              "\n",
              "#sk-container-id-1 div.sk-parallel-item:first-child::after {\n",
              "  align-self: flex-end;\n",
              "  width: 50%;\n",
              "}\n",
              "\n",
              "#sk-container-id-1 div.sk-parallel-item:last-child::after {\n",
              "  align-self: flex-start;\n",
              "  width: 50%;\n",
              "}\n",
              "\n",
              "#sk-container-id-1 div.sk-parallel-item:only-child::after {\n",
              "  width: 0;\n",
              "}\n",
              "\n",
              "/* Serial-specific style estimator block */\n",
              "\n",
              "#sk-container-id-1 div.sk-serial {\n",
              "  display: flex;\n",
              "  flex-direction: column;\n",
              "  align-items: center;\n",
              "  background-color: var(--sklearn-color-background);\n",
              "  padding-right: 1em;\n",
              "  padding-left: 1em;\n",
              "}\n",
              "\n",
              "\n",
              "/* Toggleable style: style used for estimator/Pipeline/ColumnTransformer box that is\n",
              "clickable and can be expanded/collapsed.\n",
              "- Pipeline and ColumnTransformer use this feature and define the default style\n",
              "- Estimators will overwrite some part of the style using the `sk-estimator` class\n",
              "*/\n",
              "\n",
              "/* Pipeline and ColumnTransformer style (default) */\n",
              "\n",
              "#sk-container-id-1 div.sk-toggleable {\n",
              "  /* Default theme specific background. It is overwritten whether we have a\n",
              "  specific estimator or a Pipeline/ColumnTransformer */\n",
              "  background-color: var(--sklearn-color-background);\n",
              "}\n",
              "\n",
              "/* Toggleable label */\n",
              "#sk-container-id-1 label.sk-toggleable__label {\n",
              "  cursor: pointer;\n",
              "  display: block;\n",
              "  width: 100%;\n",
              "  margin-bottom: 0;\n",
              "  padding: 0.5em;\n",
              "  box-sizing: border-box;\n",
              "  text-align: center;\n",
              "}\n",
              "\n",
              "#sk-container-id-1 label.sk-toggleable__label-arrow:before {\n",
              "  /* Arrow on the left of the label */\n",
              "  content: \"▸\";\n",
              "  float: left;\n",
              "  margin-right: 0.25em;\n",
              "  color: var(--sklearn-color-icon);\n",
              "}\n",
              "\n",
              "#sk-container-id-1 label.sk-toggleable__label-arrow:hover:before {\n",
              "  color: var(--sklearn-color-text);\n",
              "}\n",
              "\n",
              "/* Toggleable content - dropdown */\n",
              "\n",
              "#sk-container-id-1 div.sk-toggleable__content {\n",
              "  max-height: 0;\n",
              "  max-width: 0;\n",
              "  overflow: hidden;\n",
              "  text-align: left;\n",
              "  /* unfitted */\n",
              "  background-color: var(--sklearn-color-unfitted-level-0);\n",
              "}\n",
              "\n",
              "#sk-container-id-1 div.sk-toggleable__content.fitted {\n",
              "  /* fitted */\n",
              "  background-color: var(--sklearn-color-fitted-level-0);\n",
              "}\n",
              "\n",
              "#sk-container-id-1 div.sk-toggleable__content pre {\n",
              "  margin: 0.2em;\n",
              "  border-radius: 0.25em;\n",
              "  color: var(--sklearn-color-text);\n",
              "  /* unfitted */\n",
              "  background-color: var(--sklearn-color-unfitted-level-0);\n",
              "}\n",
              "\n",
              "#sk-container-id-1 div.sk-toggleable__content.fitted pre {\n",
              "  /* unfitted */\n",
              "  background-color: var(--sklearn-color-fitted-level-0);\n",
              "}\n",
              "\n",
              "#sk-container-id-1 input.sk-toggleable__control:checked~div.sk-toggleable__content {\n",
              "  /* Expand drop-down */\n",
              "  max-height: 200px;\n",
              "  max-width: 100%;\n",
              "  overflow: auto;\n",
              "}\n",
              "\n",
              "#sk-container-id-1 input.sk-toggleable__control:checked~label.sk-toggleable__label-arrow:before {\n",
              "  content: \"▾\";\n",
              "}\n",
              "\n",
              "/* Pipeline/ColumnTransformer-specific style */\n",
              "\n",
              "#sk-container-id-1 div.sk-label input.sk-toggleable__control:checked~label.sk-toggleable__label {\n",
              "  color: var(--sklearn-color-text);\n",
              "  background-color: var(--sklearn-color-unfitted-level-2);\n",
              "}\n",
              "\n",
              "#sk-container-id-1 div.sk-label.fitted input.sk-toggleable__control:checked~label.sk-toggleable__label {\n",
              "  background-color: var(--sklearn-color-fitted-level-2);\n",
              "}\n",
              "\n",
              "/* Estimator-specific style */\n",
              "\n",
              "/* Colorize estimator box */\n",
              "#sk-container-id-1 div.sk-estimator input.sk-toggleable__control:checked~label.sk-toggleable__label {\n",
              "  /* unfitted */\n",
              "  background-color: var(--sklearn-color-unfitted-level-2);\n",
              "}\n",
              "\n",
              "#sk-container-id-1 div.sk-estimator.fitted input.sk-toggleable__control:checked~label.sk-toggleable__label {\n",
              "  /* fitted */\n",
              "  background-color: var(--sklearn-color-fitted-level-2);\n",
              "}\n",
              "\n",
              "#sk-container-id-1 div.sk-label label.sk-toggleable__label,\n",
              "#sk-container-id-1 div.sk-label label {\n",
              "  /* The background is the default theme color */\n",
              "  color: var(--sklearn-color-text-on-default-background);\n",
              "}\n",
              "\n",
              "/* On hover, darken the color of the background */\n",
              "#sk-container-id-1 div.sk-label:hover label.sk-toggleable__label {\n",
              "  color: var(--sklearn-color-text);\n",
              "  background-color: var(--sklearn-color-unfitted-level-2);\n",
              "}\n",
              "\n",
              "/* Label box, darken color on hover, fitted */\n",
              "#sk-container-id-1 div.sk-label.fitted:hover label.sk-toggleable__label.fitted {\n",
              "  color: var(--sklearn-color-text);\n",
              "  background-color: var(--sklearn-color-fitted-level-2);\n",
              "}\n",
              "\n",
              "/* Estimator label */\n",
              "\n",
              "#sk-container-id-1 div.sk-label label {\n",
              "  font-family: monospace;\n",
              "  font-weight: bold;\n",
              "  display: inline-block;\n",
              "  line-height: 1.2em;\n",
              "}\n",
              "\n",
              "#sk-container-id-1 div.sk-label-container {\n",
              "  text-align: center;\n",
              "}\n",
              "\n",
              "/* Estimator-specific */\n",
              "#sk-container-id-1 div.sk-estimator {\n",
              "  font-family: monospace;\n",
              "  border: 1px dotted var(--sklearn-color-border-box);\n",
              "  border-radius: 0.25em;\n",
              "  box-sizing: border-box;\n",
              "  margin-bottom: 0.5em;\n",
              "  /* unfitted */\n",
              "  background-color: var(--sklearn-color-unfitted-level-0);\n",
              "}\n",
              "\n",
              "#sk-container-id-1 div.sk-estimator.fitted {\n",
              "  /* fitted */\n",
              "  background-color: var(--sklearn-color-fitted-level-0);\n",
              "}\n",
              "\n",
              "/* on hover */\n",
              "#sk-container-id-1 div.sk-estimator:hover {\n",
              "  /* unfitted */\n",
              "  background-color: var(--sklearn-color-unfitted-level-2);\n",
              "}\n",
              "\n",
              "#sk-container-id-1 div.sk-estimator.fitted:hover {\n",
              "  /* fitted */\n",
              "  background-color: var(--sklearn-color-fitted-level-2);\n",
              "}\n",
              "\n",
              "/* Specification for estimator info (e.g. \"i\" and \"?\") */\n",
              "\n",
              "/* Common style for \"i\" and \"?\" */\n",
              "\n",
              ".sk-estimator-doc-link,\n",
              "a:link.sk-estimator-doc-link,\n",
              "a:visited.sk-estimator-doc-link {\n",
              "  float: right;\n",
              "  font-size: smaller;\n",
              "  line-height: 1em;\n",
              "  font-family: monospace;\n",
              "  background-color: var(--sklearn-color-background);\n",
              "  border-radius: 1em;\n",
              "  height: 1em;\n",
              "  width: 1em;\n",
              "  text-decoration: none !important;\n",
              "  margin-left: 1ex;\n",
              "  /* unfitted */\n",
              "  border: var(--sklearn-color-unfitted-level-1) 1pt solid;\n",
              "  color: var(--sklearn-color-unfitted-level-1);\n",
              "}\n",
              "\n",
              ".sk-estimator-doc-link.fitted,\n",
              "a:link.sk-estimator-doc-link.fitted,\n",
              "a:visited.sk-estimator-doc-link.fitted {\n",
              "  /* fitted */\n",
              "  border: var(--sklearn-color-fitted-level-1) 1pt solid;\n",
              "  color: var(--sklearn-color-fitted-level-1);\n",
              "}\n",
              "\n",
              "/* On hover */\n",
              "div.sk-estimator:hover .sk-estimator-doc-link:hover,\n",
              ".sk-estimator-doc-link:hover,\n",
              "div.sk-label-container:hover .sk-estimator-doc-link:hover,\n",
              ".sk-estimator-doc-link:hover {\n",
              "  /* unfitted */\n",
              "  background-color: var(--sklearn-color-unfitted-level-3);\n",
              "  color: var(--sklearn-color-background);\n",
              "  text-decoration: none;\n",
              "}\n",
              "\n",
              "div.sk-estimator.fitted:hover .sk-estimator-doc-link.fitted:hover,\n",
              ".sk-estimator-doc-link.fitted:hover,\n",
              "div.sk-label-container:hover .sk-estimator-doc-link.fitted:hover,\n",
              ".sk-estimator-doc-link.fitted:hover {\n",
              "  /* fitted */\n",
              "  background-color: var(--sklearn-color-fitted-level-3);\n",
              "  color: var(--sklearn-color-background);\n",
              "  text-decoration: none;\n",
              "}\n",
              "\n",
              "/* Span, style for the box shown on hovering the info icon */\n",
              ".sk-estimator-doc-link span {\n",
              "  display: none;\n",
              "  z-index: 9999;\n",
              "  position: relative;\n",
              "  font-weight: normal;\n",
              "  right: .2ex;\n",
              "  padding: .5ex;\n",
              "  margin: .5ex;\n",
              "  width: min-content;\n",
              "  min-width: 20ex;\n",
              "  max-width: 50ex;\n",
              "  color: var(--sklearn-color-text);\n",
              "  box-shadow: 2pt 2pt 4pt #999;\n",
              "  /* unfitted */\n",
              "  background: var(--sklearn-color-unfitted-level-0);\n",
              "  border: .5pt solid var(--sklearn-color-unfitted-level-3);\n",
              "}\n",
              "\n",
              ".sk-estimator-doc-link.fitted span {\n",
              "  /* fitted */\n",
              "  background: var(--sklearn-color-fitted-level-0);\n",
              "  border: var(--sklearn-color-fitted-level-3);\n",
              "}\n",
              "\n",
              ".sk-estimator-doc-link:hover span {\n",
              "  display: block;\n",
              "}\n",
              "\n",
              "/* \"?\"-specific style due to the `<a>` HTML tag */\n",
              "\n",
              "#sk-container-id-1 a.estimator_doc_link {\n",
              "  float: right;\n",
              "  font-size: 1rem;\n",
              "  line-height: 1em;\n",
              "  font-family: monospace;\n",
              "  background-color: var(--sklearn-color-background);\n",
              "  border-radius: 1rem;\n",
              "  height: 1rem;\n",
              "  width: 1rem;\n",
              "  text-decoration: none;\n",
              "  /* unfitted */\n",
              "  color: var(--sklearn-color-unfitted-level-1);\n",
              "  border: var(--sklearn-color-unfitted-level-1) 1pt solid;\n",
              "}\n",
              "\n",
              "#sk-container-id-1 a.estimator_doc_link.fitted {\n",
              "  /* fitted */\n",
              "  border: var(--sklearn-color-fitted-level-1) 1pt solid;\n",
              "  color: var(--sklearn-color-fitted-level-1);\n",
              "}\n",
              "\n",
              "/* On hover */\n",
              "#sk-container-id-1 a.estimator_doc_link:hover {\n",
              "  /* unfitted */\n",
              "  background-color: var(--sklearn-color-unfitted-level-3);\n",
              "  color: var(--sklearn-color-background);\n",
              "  text-decoration: none;\n",
              "}\n",
              "\n",
              "#sk-container-id-1 a.estimator_doc_link.fitted:hover {\n",
              "  /* fitted */\n",
              "  background-color: var(--sklearn-color-fitted-level-3);\n",
              "}\n",
              "</style><div id=\"sk-container-id-1\" class=\"sk-top-container\"><div class=\"sk-text-repr-fallback\"><pre>XGBRegressor(base_score=None, booster=None, callbacks=None,\n",
              "             colsample_bylevel=None, colsample_bynode=None,\n",
              "             colsample_bytree=None, device=None, early_stopping_rounds=None,\n",
              "             enable_categorical=False, eval_metric=None, feature_types=None,\n",
              "             gamma=None, grow_policy=None, importance_type=None,\n",
              "             interaction_constraints=None, learning_rate=None, max_bin=None,\n",
              "             max_cat_threshold=None, max_cat_to_onehot=None,\n",
              "             max_delta_step=None, max_depth=None, max_leaves=None,\n",
              "             min_child_weight=None, missing=nan, monotone_constraints=None,\n",
              "             multi_strategy=None, n_estimators=10, n_jobs=None,\n",
              "             num_parallel_tree=None, objective=&#x27;reg:linear&#x27;, ...)</pre><b>In a Jupyter environment, please rerun this cell to show the HTML representation or trust the notebook. <br />On GitHub, the HTML representation is unable to render, please try loading this page with nbviewer.org.</b></div><div class=\"sk-container\" hidden><div class=\"sk-item\"><div class=\"sk-estimator fitted sk-toggleable\"><input class=\"sk-toggleable__control sk-hidden--visually\" id=\"sk-estimator-id-1\" type=\"checkbox\" checked><label for=\"sk-estimator-id-1\" class=\"sk-toggleable__label fitted sk-toggleable__label-arrow fitted\">&nbsp;XGBRegressor<span class=\"sk-estimator-doc-link fitted\">i<span>Fitted</span></span></label><div class=\"sk-toggleable__content fitted\"><pre>XGBRegressor(base_score=None, booster=None, callbacks=None,\n",
              "             colsample_bylevel=None, colsample_bynode=None,\n",
              "             colsample_bytree=None, device=None, early_stopping_rounds=None,\n",
              "             enable_categorical=False, eval_metric=None, feature_types=None,\n",
              "             gamma=None, grow_policy=None, importance_type=None,\n",
              "             interaction_constraints=None, learning_rate=None, max_bin=None,\n",
              "             max_cat_threshold=None, max_cat_to_onehot=None,\n",
              "             max_delta_step=None, max_depth=None, max_leaves=None,\n",
              "             min_child_weight=None, missing=nan, monotone_constraints=None,\n",
              "             multi_strategy=None, n_estimators=10, n_jobs=None,\n",
              "             num_parallel_tree=None, objective=&#x27;reg:linear&#x27;, ...)</pre></div> </div></div></div></div>"
            ]
          },
          "metadata": {},
          "execution_count": 148
        }
      ]
    },
    {
      "cell_type": "code",
      "source": [
        "pred = xgb_r.predict(X_test_scaled)"
      ],
      "metadata": {
        "id": "03NWMIZRTGyc"
      },
      "execution_count": null,
      "outputs": []
    },
    {
      "cell_type": "code",
      "source": [
        "rmse = np.sqrt(MSE(y_test, pred))\n",
        "print(\"RMSE : % f\" %(rmse))"
      ],
      "metadata": {
        "colab": {
          "base_uri": "https://localhost:8080/"
        },
        "id": "Q0FCyTEBTYfi",
        "outputId": "bf2d0463-b54c-4c87-933b-a254908cf8b6"
      },
      "execution_count": null,
      "outputs": [
        {
          "output_type": "stream",
          "name": "stdout",
          "text": [
            "RMSE :  69271.430272\n"
          ]
        }
      ]
    },
    {
      "cell_type": "code",
      "source": [
        "test_set = np.array(test_dataset)"
      ],
      "metadata": {
        "id": "p0Z_oM98TcWc"
      },
      "execution_count": null,
      "outputs": []
    },
    {
      "cell_type": "code",
      "source": [
        "test_set = np.c_[test_set, test_set**2, test_set**3, test_set**4, test_set**5]"
      ],
      "metadata": {
        "id": "QoCZn1VoUIoq"
      },
      "execution_count": null,
      "outputs": []
    },
    {
      "cell_type": "code",
      "source": [
        "test_set_scaled = scaler.fit_transform(test_set)"
      ],
      "metadata": {
        "id": "971RmljaT8gb"
      },
      "execution_count": null,
      "outputs": []
    },
    {
      "cell_type": "code",
      "source": [
        "prediction = xgb_r.predict(test_set_scaled)"
      ],
      "metadata": {
        "id": "PRZUJ0fQUDdN"
      },
      "execution_count": null,
      "outputs": []
    },
    {
      "cell_type": "code",
      "source": [
        "prediction"
      ],
      "metadata": {
        "colab": {
          "base_uri": "https://localhost:8080/"
        },
        "id": "aUpi1iMGVCMc",
        "outputId": "e3c53281-7d7c-4447-ad2b-9236b789b762"
      },
      "execution_count": null,
      "outputs": [
        {
          "output_type": "execute_result",
          "data": {
            "text/plain": [
              "array([18033.645, 71395.28 , 52295.094, ..., 24196.818, 41669.52 ,\n",
              "       46798.383], dtype=float32)"
            ]
          },
          "metadata": {},
          "execution_count": 160
        }
      ]
    },
    {
      "cell_type": "code",
      "source": [
        "submit = pd.read_csv('/content/drive/MyDrive/Used Car Prices Dataset/sample_submission.csv')\n",
        "submit.price = prediction[::]\n",
        "submit[['id', 'price']].to_csv('/content/drive/MyDrive/Used Car Prices Dataset/submit.csv', index=False)"
      ],
      "metadata": {
        "id": "rXrixFKcVKWt"
      },
      "execution_count": null,
      "outputs": []
    },
    {
      "cell_type": "code",
      "source": [],
      "metadata": {
        "id": "Jc2Zx2ogVz-9"
      },
      "execution_count": null,
      "outputs": []
    }
  ],
  "metadata": {
    "colab": {
      "provenance": []
    },
    "kernelspec": {
      "display_name": "Python 3",
      "name": "python3"
    },
    "language_info": {
      "name": "python"
    }
  },
  "nbformat": 4,
  "nbformat_minor": 0
}